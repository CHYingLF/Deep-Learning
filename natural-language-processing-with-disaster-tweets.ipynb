{
 "cells": [
  {
   "cell_type": "code",
   "execution_count": 1,
   "id": "2c8b9c7f",
   "metadata": {
    "_cell_guid": "b1076dfc-b9ad-4769-8c92-a6c4dae69d19",
    "_uuid": "8f2839f25d086af736a60e9eeb907d3b93b6e0e5",
    "execution": {
     "iopub.execute_input": "2021-07-20T20:58:41.187099Z",
     "iopub.status.busy": "2021-07-20T20:58:41.186541Z",
     "iopub.status.idle": "2021-07-20T20:58:42.525940Z",
     "shell.execute_reply": "2021-07-20T20:58:42.525414Z",
     "shell.execute_reply.started": "2021-07-20T20:54:55.265155Z"
    },
    "papermill": {
     "duration": 1.371258,
     "end_time": "2021-07-20T20:58:42.526091",
     "exception": false,
     "start_time": "2021-07-20T20:58:41.154833",
     "status": "completed"
    },
    "tags": []
   },
   "outputs": [
    {
     "name": "stdout",
     "output_type": "stream",
     "text": [
      "(7613, 6) (3263, 4)\n"
     ]
    },
    {
     "data": {
      "text/html": [
       "<div>\n",
       "<style scoped>\n",
       "    .dataframe tbody tr th:only-of-type {\n",
       "        vertical-align: middle;\n",
       "    }\n",
       "\n",
       "    .dataframe tbody tr th {\n",
       "        vertical-align: top;\n",
       "    }\n",
       "\n",
       "    .dataframe thead th {\n",
       "        text-align: right;\n",
       "    }\n",
       "</style>\n",
       "<table border=\"1\" class=\"dataframe\">\n",
       "  <thead>\n",
       "    <tr style=\"text-align: right;\">\n",
       "      <th></th>\n",
       "      <th>id</th>\n",
       "      <th>keyword</th>\n",
       "      <th>location</th>\n",
       "      <th>text</th>\n",
       "      <th>target</th>\n",
       "      <th>class</th>\n",
       "    </tr>\n",
       "  </thead>\n",
       "  <tbody>\n",
       "    <tr>\n",
       "      <th>4119</th>\n",
       "      <td>5854</td>\n",
       "      <td>hailstorm</td>\n",
       "      <td>Massachusetts</td>\n",
       "      <td>Twin Storms Blow Through Calgary ~ 1 http://t....</td>\n",
       "      <td>1</td>\n",
       "      <td>Disaster</td>\n",
       "    </tr>\n",
       "    <tr>\n",
       "      <th>3299</th>\n",
       "      <td>4729</td>\n",
       "      <td>evacuate</td>\n",
       "      <td>NaN</td>\n",
       "      <td>Pls can alllll the nittys evacuate stockwell</td>\n",
       "      <td>0</td>\n",
       "      <td>Not disaster</td>\n",
       "    </tr>\n",
       "    <tr>\n",
       "      <th>648</th>\n",
       "      <td>939</td>\n",
       "      <td>blaze</td>\n",
       "      <td>Atlanta,Ga</td>\n",
       "      <td>Welcome @djryanwolf @djcoreygrand @djknyce @dj...</td>\n",
       "      <td>0</td>\n",
       "      <td>Not disaster</td>\n",
       "    </tr>\n",
       "    <tr>\n",
       "      <th>5905</th>\n",
       "      <td>8433</td>\n",
       "      <td>sandstorm</td>\n",
       "      <td>USA</td>\n",
       "      <td>Watch This Airport Get Swallowed Up By A Sands...</td>\n",
       "      <td>1</td>\n",
       "      <td>Disaster</td>\n",
       "    </tr>\n",
       "    <tr>\n",
       "      <th>3828</th>\n",
       "      <td>5446</td>\n",
       "      <td>first%20responders</td>\n",
       "      <td>USA</td>\n",
       "      <td>First Responders Convene for National Summit a...</td>\n",
       "      <td>0</td>\n",
       "      <td>Not disaster</td>\n",
       "    </tr>\n",
       "  </tbody>\n",
       "</table>\n",
       "</div>"
      ],
      "text/plain": [
       "        id             keyword       location  \\\n",
       "4119  5854           hailstorm  Massachusetts   \n",
       "3299  4729            evacuate            NaN   \n",
       "648    939               blaze     Atlanta,Ga   \n",
       "5905  8433           sandstorm            USA   \n",
       "3828  5446  first%20responders            USA   \n",
       "\n",
       "                                                   text  target         class  \n",
       "4119  Twin Storms Blow Through Calgary ~ 1 http://t....       1      Disaster  \n",
       "3299       Pls can alllll the nittys evacuate stockwell       0  Not disaster  \n",
       "648   Welcome @djryanwolf @djcoreygrand @djknyce @dj...       0  Not disaster  \n",
       "5905  Watch This Airport Get Swallowed Up By A Sands...       1      Disaster  \n",
       "3828  First Responders Convene for National Summit a...       0  Not disaster  "
      ]
     },
     "execution_count": 1,
     "metadata": {},
     "output_type": "execute_result"
    }
   ],
   "source": [
    "import pandas as pd\n",
    "import numpy as np\n",
    "import os\n",
    "import plotly.express as px\n",
    "import matplotlib.pyplot as plt\n",
    "\n",
    "train_df=pd.read_csv('../input/nlp-getting-started/train.csv')\n",
    "test_df=pd.read_csv('../input/nlp-getting-started/test.csv')\n",
    "sample_df=pd.read_csv('../input/nlp-getting-started/sample_submission.csv')\n",
    "\n",
    "train_df['class']=train_df['target'].map({0:'Not disaster',1:'Disaster'})\n",
    "print(train_df.shape,test_df.shape)\n",
    "train_df.sample(5)\n",
    "#test_df.sample(5)"
   ]
  },
  {
   "cell_type": "markdown",
   "id": "0af319e7",
   "metadata": {
    "execution": {
     "iopub.execute_input": "2021-07-20T16:34:58.338434Z",
     "iopub.status.busy": "2021-07-20T16:34:58.337999Z",
     "iopub.status.idle": "2021-07-20T16:34:58.343636Z",
     "shell.execute_reply": "2021-07-20T16:34:58.342316Z",
     "shell.execute_reply.started": "2021-07-20T16:34:58.338399Z"
    },
    "papermill": {
     "duration": 0.018976,
     "end_time": "2021-07-20T20:58:42.564707",
     "exception": false,
     "start_time": "2021-07-20T20:58:42.545731",
     "status": "completed"
    },
    "tags": []
   },
   "source": [
    "##### Check missing data"
   ]
  },
  {
   "cell_type": "code",
   "execution_count": 2,
   "id": "1aa232e2",
   "metadata": {
    "execution": {
     "iopub.execute_input": "2021-07-20T20:58:42.608940Z",
     "iopub.status.busy": "2021-07-20T20:58:42.608366Z",
     "iopub.status.idle": "2021-07-20T20:58:42.613661Z",
     "shell.execute_reply": "2021-07-20T20:58:42.614185Z",
     "shell.execute_reply.started": "2021-07-20T20:40:31.221371Z"
    },
    "papermill": {
     "duration": 0.030548,
     "end_time": "2021-07-20T20:58:42.614333",
     "exception": false,
     "start_time": "2021-07-20T20:58:42.583785",
     "status": "completed"
    },
    "tags": []
   },
   "outputs": [
    {
     "data": {
      "text/plain": [
       "id             0\n",
       "keyword       61\n",
       "location    2533\n",
       "text           0\n",
       "target         0\n",
       "class          0\n",
       "dtype: int64"
      ]
     },
     "execution_count": 2,
     "metadata": {},
     "output_type": "execute_result"
    }
   ],
   "source": [
    "train_df.isnull().sum() #"
   ]
  },
  {
   "cell_type": "markdown",
   "id": "8a65a576",
   "metadata": {
    "papermill": {
     "duration": 0.019207,
     "end_time": "2021-07-20T20:58:42.652748",
     "exception": false,
     "start_time": "2021-07-20T20:58:42.633541",
     "status": "completed"
    },
    "tags": []
   },
   "source": [
    "#### target distribution"
   ]
  },
  {
   "cell_type": "code",
   "execution_count": 3,
   "id": "4e04f115",
   "metadata": {
    "execution": {
     "iopub.execute_input": "2021-07-20T20:58:42.693999Z",
     "iopub.status.busy": "2021-07-20T20:58:42.693465Z",
     "iopub.status.idle": "2021-07-20T20:58:43.876360Z",
     "shell.execute_reply": "2021-07-20T20:58:43.875738Z",
     "shell.execute_reply.started": "2021-07-20T20:40:31.236244Z"
    },
    "papermill": {
     "duration": 1.204408,
     "end_time": "2021-07-20T20:58:43.876500",
     "exception": false,
     "start_time": "2021-07-20T20:58:42.672092",
     "status": "completed"
    },
    "tags": []
   },
   "outputs": [
    {
     "name": "stdout",
     "output_type": "stream",
     "text": [
      "[4342 3271]\n"
     ]
    },
    {
     "data": {
      "text/html": [
       "        <script type=\"text/javascript\">\n",
       "        window.PlotlyConfig = {MathJaxConfig: 'local'};\n",
       "        if (window.MathJax) {MathJax.Hub.Config({SVG: {font: \"STIX-Web\"}});}\n",
       "        if (typeof require !== 'undefined') {\n",
       "        require.undef(\"plotly\");\n",
       "        requirejs.config({\n",
       "            paths: {\n",
       "                'plotly': ['https://cdn.plot.ly/plotly-2.2.0.min']\n",
       "            }\n",
       "        });\n",
       "        require(['plotly'], function(Plotly) {\n",
       "            window._Plotly = Plotly;\n",
       "        });\n",
       "        }\n",
       "        </script>\n",
       "        "
      ]
     },
     "metadata": {},
     "output_type": "display_data"
    },
    {
     "data": {
      "text/html": [
       "<div>                            <div id=\"7f5d5d8a-a544-45ea-aeb4-3efbc8b314a4\" class=\"plotly-graph-div\" style=\"height:500px; width:530px;\"></div>            <script type=\"text/javascript\">                require([\"plotly\"], function(Plotly) {                    window.PLOTLYENV=window.PLOTLYENV || {};                                    if (document.getElementById(\"7f5d5d8a-a544-45ea-aeb4-3efbc8b314a4\")) {                    Plotly.newPlot(                        \"7f5d5d8a-a544-45ea-aeb4-3efbc8b314a4\",                        [{\"domain\":{\"x\":[0.0,1.0],\"y\":[0.0,1.0]},\"hovertemplate\":\"label=%{label}<br>value=%{value}<extra></extra>\",\"labels\":[\"Not disaster\",\"Disaster\"],\"legendgroup\":\"\",\"name\":\"\",\"showlegend\":true,\"type\":\"pie\",\"values\":[4342,3271]}],                        {\"height\":500,\"legend\":{\"tracegroupgap\":0},\"template\":{\"data\":{\"bar\":[{\"error_x\":{\"color\":\"#2a3f5f\"},\"error_y\":{\"color\":\"#2a3f5f\"},\"marker\":{\"line\":{\"color\":\"#E5ECF6\",\"width\":0.5},\"pattern\":{\"fillmode\":\"overlay\",\"size\":10,\"solidity\":0.2}},\"type\":\"bar\"}],\"barpolar\":[{\"marker\":{\"line\":{\"color\":\"#E5ECF6\",\"width\":0.5},\"pattern\":{\"fillmode\":\"overlay\",\"size\":10,\"solidity\":0.2}},\"type\":\"barpolar\"}],\"carpet\":[{\"aaxis\":{\"endlinecolor\":\"#2a3f5f\",\"gridcolor\":\"white\",\"linecolor\":\"white\",\"minorgridcolor\":\"white\",\"startlinecolor\":\"#2a3f5f\"},\"baxis\":{\"endlinecolor\":\"#2a3f5f\",\"gridcolor\":\"white\",\"linecolor\":\"white\",\"minorgridcolor\":\"white\",\"startlinecolor\":\"#2a3f5f\"},\"type\":\"carpet\"}],\"choropleth\":[{\"colorbar\":{\"outlinewidth\":0,\"ticks\":\"\"},\"type\":\"choropleth\"}],\"contour\":[{\"colorbar\":{\"outlinewidth\":0,\"ticks\":\"\"},\"colorscale\":[[0.0,\"#0d0887\"],[0.1111111111111111,\"#46039f\"],[0.2222222222222222,\"#7201a8\"],[0.3333333333333333,\"#9c179e\"],[0.4444444444444444,\"#bd3786\"],[0.5555555555555556,\"#d8576b\"],[0.6666666666666666,\"#ed7953\"],[0.7777777777777778,\"#fb9f3a\"],[0.8888888888888888,\"#fdca26\"],[1.0,\"#f0f921\"]],\"type\":\"contour\"}],\"contourcarpet\":[{\"colorbar\":{\"outlinewidth\":0,\"ticks\":\"\"},\"type\":\"contourcarpet\"}],\"heatmap\":[{\"colorbar\":{\"outlinewidth\":0,\"ticks\":\"\"},\"colorscale\":[[0.0,\"#0d0887\"],[0.1111111111111111,\"#46039f\"],[0.2222222222222222,\"#7201a8\"],[0.3333333333333333,\"#9c179e\"],[0.4444444444444444,\"#bd3786\"],[0.5555555555555556,\"#d8576b\"],[0.6666666666666666,\"#ed7953\"],[0.7777777777777778,\"#fb9f3a\"],[0.8888888888888888,\"#fdca26\"],[1.0,\"#f0f921\"]],\"type\":\"heatmap\"}],\"heatmapgl\":[{\"colorbar\":{\"outlinewidth\":0,\"ticks\":\"\"},\"colorscale\":[[0.0,\"#0d0887\"],[0.1111111111111111,\"#46039f\"],[0.2222222222222222,\"#7201a8\"],[0.3333333333333333,\"#9c179e\"],[0.4444444444444444,\"#bd3786\"],[0.5555555555555556,\"#d8576b\"],[0.6666666666666666,\"#ed7953\"],[0.7777777777777778,\"#fb9f3a\"],[0.8888888888888888,\"#fdca26\"],[1.0,\"#f0f921\"]],\"type\":\"heatmapgl\"}],\"histogram\":[{\"marker\":{\"pattern\":{\"fillmode\":\"overlay\",\"size\":10,\"solidity\":0.2}},\"type\":\"histogram\"}],\"histogram2d\":[{\"colorbar\":{\"outlinewidth\":0,\"ticks\":\"\"},\"colorscale\":[[0.0,\"#0d0887\"],[0.1111111111111111,\"#46039f\"],[0.2222222222222222,\"#7201a8\"],[0.3333333333333333,\"#9c179e\"],[0.4444444444444444,\"#bd3786\"],[0.5555555555555556,\"#d8576b\"],[0.6666666666666666,\"#ed7953\"],[0.7777777777777778,\"#fb9f3a\"],[0.8888888888888888,\"#fdca26\"],[1.0,\"#f0f921\"]],\"type\":\"histogram2d\"}],\"histogram2dcontour\":[{\"colorbar\":{\"outlinewidth\":0,\"ticks\":\"\"},\"colorscale\":[[0.0,\"#0d0887\"],[0.1111111111111111,\"#46039f\"],[0.2222222222222222,\"#7201a8\"],[0.3333333333333333,\"#9c179e\"],[0.4444444444444444,\"#bd3786\"],[0.5555555555555556,\"#d8576b\"],[0.6666666666666666,\"#ed7953\"],[0.7777777777777778,\"#fb9f3a\"],[0.8888888888888888,\"#fdca26\"],[1.0,\"#f0f921\"]],\"type\":\"histogram2dcontour\"}],\"mesh3d\":[{\"colorbar\":{\"outlinewidth\":0,\"ticks\":\"\"},\"type\":\"mesh3d\"}],\"parcoords\":[{\"line\":{\"colorbar\":{\"outlinewidth\":0,\"ticks\":\"\"}},\"type\":\"parcoords\"}],\"pie\":[{\"automargin\":true,\"type\":\"pie\"}],\"scatter\":[{\"marker\":{\"colorbar\":{\"outlinewidth\":0,\"ticks\":\"\"}},\"type\":\"scatter\"}],\"scatter3d\":[{\"line\":{\"colorbar\":{\"outlinewidth\":0,\"ticks\":\"\"}},\"marker\":{\"colorbar\":{\"outlinewidth\":0,\"ticks\":\"\"}},\"type\":\"scatter3d\"}],\"scattercarpet\":[{\"marker\":{\"colorbar\":{\"outlinewidth\":0,\"ticks\":\"\"}},\"type\":\"scattercarpet\"}],\"scattergeo\":[{\"marker\":{\"colorbar\":{\"outlinewidth\":0,\"ticks\":\"\"}},\"type\":\"scattergeo\"}],\"scattergl\":[{\"marker\":{\"colorbar\":{\"outlinewidth\":0,\"ticks\":\"\"}},\"type\":\"scattergl\"}],\"scattermapbox\":[{\"marker\":{\"colorbar\":{\"outlinewidth\":0,\"ticks\":\"\"}},\"type\":\"scattermapbox\"}],\"scatterpolar\":[{\"marker\":{\"colorbar\":{\"outlinewidth\":0,\"ticks\":\"\"}},\"type\":\"scatterpolar\"}],\"scatterpolargl\":[{\"marker\":{\"colorbar\":{\"outlinewidth\":0,\"ticks\":\"\"}},\"type\":\"scatterpolargl\"}],\"scatterternary\":[{\"marker\":{\"colorbar\":{\"outlinewidth\":0,\"ticks\":\"\"}},\"type\":\"scatterternary\"}],\"surface\":[{\"colorbar\":{\"outlinewidth\":0,\"ticks\":\"\"},\"colorscale\":[[0.0,\"#0d0887\"],[0.1111111111111111,\"#46039f\"],[0.2222222222222222,\"#7201a8\"],[0.3333333333333333,\"#9c179e\"],[0.4444444444444444,\"#bd3786\"],[0.5555555555555556,\"#d8576b\"],[0.6666666666666666,\"#ed7953\"],[0.7777777777777778,\"#fb9f3a\"],[0.8888888888888888,\"#fdca26\"],[1.0,\"#f0f921\"]],\"type\":\"surface\"}],\"table\":[{\"cells\":{\"fill\":{\"color\":\"#EBF0F8\"},\"line\":{\"color\":\"white\"}},\"header\":{\"fill\":{\"color\":\"#C8D4E3\"},\"line\":{\"color\":\"white\"}},\"type\":\"table\"}]},\"layout\":{\"annotationdefaults\":{\"arrowcolor\":\"#2a3f5f\",\"arrowhead\":0,\"arrowwidth\":1},\"autotypenumbers\":\"strict\",\"coloraxis\":{\"colorbar\":{\"outlinewidth\":0,\"ticks\":\"\"}},\"colorscale\":{\"diverging\":[[0,\"#8e0152\"],[0.1,\"#c51b7d\"],[0.2,\"#de77ae\"],[0.3,\"#f1b6da\"],[0.4,\"#fde0ef\"],[0.5,\"#f7f7f7\"],[0.6,\"#e6f5d0\"],[0.7,\"#b8e186\"],[0.8,\"#7fbc41\"],[0.9,\"#4d9221\"],[1,\"#276419\"]],\"sequential\":[[0.0,\"#0d0887\"],[0.1111111111111111,\"#46039f\"],[0.2222222222222222,\"#7201a8\"],[0.3333333333333333,\"#9c179e\"],[0.4444444444444444,\"#bd3786\"],[0.5555555555555556,\"#d8576b\"],[0.6666666666666666,\"#ed7953\"],[0.7777777777777778,\"#fb9f3a\"],[0.8888888888888888,\"#fdca26\"],[1.0,\"#f0f921\"]],\"sequentialminus\":[[0.0,\"#0d0887\"],[0.1111111111111111,\"#46039f\"],[0.2222222222222222,\"#7201a8\"],[0.3333333333333333,\"#9c179e\"],[0.4444444444444444,\"#bd3786\"],[0.5555555555555556,\"#d8576b\"],[0.6666666666666666,\"#ed7953\"],[0.7777777777777778,\"#fb9f3a\"],[0.8888888888888888,\"#fdca26\"],[1.0,\"#f0f921\"]]},\"colorway\":[\"#636efa\",\"#EF553B\",\"#00cc96\",\"#ab63fa\",\"#FFA15A\",\"#19d3f3\",\"#FF6692\",\"#B6E880\",\"#FF97FF\",\"#FECB52\"],\"font\":{\"color\":\"#2a3f5f\"},\"geo\":{\"bgcolor\":\"white\",\"lakecolor\":\"white\",\"landcolor\":\"#E5ECF6\",\"showlakes\":true,\"showland\":true,\"subunitcolor\":\"white\"},\"hoverlabel\":{\"align\":\"left\"},\"hovermode\":\"closest\",\"mapbox\":{\"style\":\"light\"},\"paper_bgcolor\":\"white\",\"plot_bgcolor\":\"#E5ECF6\",\"polar\":{\"angularaxis\":{\"gridcolor\":\"white\",\"linecolor\":\"white\",\"ticks\":\"\"},\"bgcolor\":\"#E5ECF6\",\"radialaxis\":{\"gridcolor\":\"white\",\"linecolor\":\"white\",\"ticks\":\"\"}},\"scene\":{\"xaxis\":{\"backgroundcolor\":\"#E5ECF6\",\"gridcolor\":\"white\",\"gridwidth\":2,\"linecolor\":\"white\",\"showbackground\":true,\"ticks\":\"\",\"zerolinecolor\":\"white\"},\"yaxis\":{\"backgroundcolor\":\"#E5ECF6\",\"gridcolor\":\"white\",\"gridwidth\":2,\"linecolor\":\"white\",\"showbackground\":true,\"ticks\":\"\",\"zerolinecolor\":\"white\"},\"zaxis\":{\"backgroundcolor\":\"#E5ECF6\",\"gridcolor\":\"white\",\"gridwidth\":2,\"linecolor\":\"white\",\"showbackground\":true,\"ticks\":\"\",\"zerolinecolor\":\"white\"}},\"shapedefaults\":{\"line\":{\"color\":\"#2a3f5f\"}},\"ternary\":{\"aaxis\":{\"gridcolor\":\"white\",\"linecolor\":\"white\",\"ticks\":\"\"},\"baxis\":{\"gridcolor\":\"white\",\"linecolor\":\"white\",\"ticks\":\"\"},\"bgcolor\":\"#E5ECF6\",\"caxis\":{\"gridcolor\":\"white\",\"linecolor\":\"white\",\"ticks\":\"\"}},\"title\":{\"x\":0.05},\"xaxis\":{\"automargin\":true,\"gridcolor\":\"white\",\"linecolor\":\"white\",\"ticks\":\"\",\"title\":{\"standoff\":15},\"zerolinecolor\":\"white\",\"zerolinewidth\":2},\"yaxis\":{\"automargin\":true,\"gridcolor\":\"white\",\"linecolor\":\"white\",\"ticks\":\"\",\"title\":{\"standoff\":15},\"zerolinecolor\":\"white\",\"zerolinewidth\":2}}},\"title\":{\"text\":\"Target Distribution\"},\"width\":530},                        {\"responsive\": true}                    ).then(function(){\n",
       "                            \n",
       "var gd = document.getElementById('7f5d5d8a-a544-45ea-aeb4-3efbc8b314a4');\n",
       "var x = new MutationObserver(function (mutations, observer) {{\n",
       "        var display = window.getComputedStyle(gd).display;\n",
       "        if (!display || display === 'none') {{\n",
       "            console.log([gd, 'removed!']);\n",
       "            Plotly.purge(gd);\n",
       "            observer.disconnect();\n",
       "        }}\n",
       "}});\n",
       "\n",
       "// Listen for the removal of the full notebook cells\n",
       "var notebookContainer = gd.closest('#notebook-container');\n",
       "if (notebookContainer) {{\n",
       "    x.observe(notebookContainer, {childList: true});\n",
       "}}\n",
       "\n",
       "// Listen for the clearing of the current output cell\n",
       "var outputEl = gd.closest('.output');\n",
       "if (outputEl) {{\n",
       "    x.observe(outputEl, {childList: true});\n",
       "}}\n",
       "\n",
       "                        })                };                });            </script>        </div>"
      ]
     },
     "metadata": {},
     "output_type": "display_data"
    }
   ],
   "source": [
    "targets=train_df['target'].value_counts()\n",
    "print(np.bincount(train_df['target']))\n",
    "\n",
    "fig=px.pie(values=targets, names=['Not disaster','Disaster'],width=530,height=500,title='Target Distribution')\n",
    "fig.show()"
   ]
  },
  {
   "cell_type": "markdown",
   "id": "404b0f32",
   "metadata": {
    "execution": {
     "iopub.execute_input": "2021-07-20T17:14:54.94464Z",
     "iopub.status.busy": "2021-07-20T17:14:54.943953Z",
     "iopub.status.idle": "2021-07-20T17:14:54.949061Z",
     "shell.execute_reply": "2021-07-20T17:14:54.947707Z",
     "shell.execute_reply.started": "2021-07-20T17:14:54.944597Z"
    },
    "papermill": {
     "duration": 0.020547,
     "end_time": "2021-07-20T20:58:43.918379",
     "exception": false,
     "start_time": "2021-07-20T20:58:43.897832",
     "status": "completed"
    },
    "tags": []
   },
   "source": [
    "#### Text length"
   ]
  },
  {
   "cell_type": "code",
   "execution_count": 4,
   "id": "c4667a62",
   "metadata": {
    "execution": {
     "iopub.execute_input": "2021-07-20T20:58:43.995920Z",
     "iopub.status.busy": "2021-07-20T20:58:43.982060Z",
     "iopub.status.idle": "2021-07-20T20:58:44.000288Z",
     "shell.execute_reply": "2021-07-20T20:58:43.999508Z",
     "shell.execute_reply.started": "2021-07-20T20:40:32.350121Z"
    },
    "papermill": {
     "duration": 0.061166,
     "end_time": "2021-07-20T20:58:44.000429",
     "exception": false,
     "start_time": "2021-07-20T20:58:43.939263",
     "status": "completed"
    },
    "tags": []
   },
   "outputs": [
    {
     "data": {
      "text/html": [
       "<div>\n",
       "<style scoped>\n",
       "    .dataframe tbody tr th:only-of-type {\n",
       "        vertical-align: middle;\n",
       "    }\n",
       "\n",
       "    .dataframe tbody tr th {\n",
       "        vertical-align: top;\n",
       "    }\n",
       "\n",
       "    .dataframe thead th {\n",
       "        text-align: right;\n",
       "    }\n",
       "</style>\n",
       "<table border=\"1\" class=\"dataframe\">\n",
       "  <thead>\n",
       "    <tr style=\"text-align: right;\">\n",
       "      <th></th>\n",
       "      <th>id</th>\n",
       "      <th>keyword</th>\n",
       "      <th>location</th>\n",
       "      <th>text</th>\n",
       "      <th>target</th>\n",
       "      <th>class</th>\n",
       "      <th>length</th>\n",
       "    </tr>\n",
       "  </thead>\n",
       "  <tbody>\n",
       "    <tr>\n",
       "      <th>0</th>\n",
       "      <td>1</td>\n",
       "      <td>NaN</td>\n",
       "      <td>NaN</td>\n",
       "      <td>Our Deeds are the Reason of this #earthquake M...</td>\n",
       "      <td>1</td>\n",
       "      <td>Disaster</td>\n",
       "      <td>13</td>\n",
       "    </tr>\n",
       "    <tr>\n",
       "      <th>1</th>\n",
       "      <td>4</td>\n",
       "      <td>NaN</td>\n",
       "      <td>NaN</td>\n",
       "      <td>Forest fire near La Ronge Sask. Canada</td>\n",
       "      <td>1</td>\n",
       "      <td>Disaster</td>\n",
       "      <td>7</td>\n",
       "    </tr>\n",
       "    <tr>\n",
       "      <th>2</th>\n",
       "      <td>5</td>\n",
       "      <td>NaN</td>\n",
       "      <td>NaN</td>\n",
       "      <td>All residents asked to 'shelter in place' are ...</td>\n",
       "      <td>1</td>\n",
       "      <td>Disaster</td>\n",
       "      <td>22</td>\n",
       "    </tr>\n",
       "    <tr>\n",
       "      <th>3</th>\n",
       "      <td>6</td>\n",
       "      <td>NaN</td>\n",
       "      <td>NaN</td>\n",
       "      <td>13,000 people receive #wildfires evacuation or...</td>\n",
       "      <td>1</td>\n",
       "      <td>Disaster</td>\n",
       "      <td>8</td>\n",
       "    </tr>\n",
       "    <tr>\n",
       "      <th>4</th>\n",
       "      <td>7</td>\n",
       "      <td>NaN</td>\n",
       "      <td>NaN</td>\n",
       "      <td>Just got sent this photo from Ruby #Alaska as ...</td>\n",
       "      <td>1</td>\n",
       "      <td>Disaster</td>\n",
       "      <td>16</td>\n",
       "    </tr>\n",
       "    <tr>\n",
       "      <th>5</th>\n",
       "      <td>8</td>\n",
       "      <td>NaN</td>\n",
       "      <td>NaN</td>\n",
       "      <td>#RockyFire Update =&gt; California Hwy. 20 closed...</td>\n",
       "      <td>1</td>\n",
       "      <td>Disaster</td>\n",
       "      <td>18</td>\n",
       "    </tr>\n",
       "    <tr>\n",
       "      <th>6</th>\n",
       "      <td>10</td>\n",
       "      <td>NaN</td>\n",
       "      <td>NaN</td>\n",
       "      <td>#flood #disaster Heavy rain causes flash flood...</td>\n",
       "      <td>1</td>\n",
       "      <td>Disaster</td>\n",
       "      <td>14</td>\n",
       "    </tr>\n",
       "    <tr>\n",
       "      <th>7</th>\n",
       "      <td>13</td>\n",
       "      <td>NaN</td>\n",
       "      <td>NaN</td>\n",
       "      <td>I'm on top of the hill and I can see a fire in...</td>\n",
       "      <td>1</td>\n",
       "      <td>Disaster</td>\n",
       "      <td>15</td>\n",
       "    </tr>\n",
       "    <tr>\n",
       "      <th>8</th>\n",
       "      <td>14</td>\n",
       "      <td>NaN</td>\n",
       "      <td>NaN</td>\n",
       "      <td>There's an emergency evacuation happening now ...</td>\n",
       "      <td>1</td>\n",
       "      <td>Disaster</td>\n",
       "      <td>12</td>\n",
       "    </tr>\n",
       "    <tr>\n",
       "      <th>9</th>\n",
       "      <td>15</td>\n",
       "      <td>NaN</td>\n",
       "      <td>NaN</td>\n",
       "      <td>I'm afraid that the tornado is coming to our a...</td>\n",
       "      <td>1</td>\n",
       "      <td>Disaster</td>\n",
       "      <td>10</td>\n",
       "    </tr>\n",
       "  </tbody>\n",
       "</table>\n",
       "</div>"
      ],
      "text/plain": [
       "   id keyword location                                               text  \\\n",
       "0   1     NaN      NaN  Our Deeds are the Reason of this #earthquake M...   \n",
       "1   4     NaN      NaN             Forest fire near La Ronge Sask. Canada   \n",
       "2   5     NaN      NaN  All residents asked to 'shelter in place' are ...   \n",
       "3   6     NaN      NaN  13,000 people receive #wildfires evacuation or...   \n",
       "4   7     NaN      NaN  Just got sent this photo from Ruby #Alaska as ...   \n",
       "5   8     NaN      NaN  #RockyFire Update => California Hwy. 20 closed...   \n",
       "6  10     NaN      NaN  #flood #disaster Heavy rain causes flash flood...   \n",
       "7  13     NaN      NaN  I'm on top of the hill and I can see a fire in...   \n",
       "8  14     NaN      NaN  There's an emergency evacuation happening now ...   \n",
       "9  15     NaN      NaN  I'm afraid that the tornado is coming to our a...   \n",
       "\n",
       "   target     class  length  \n",
       "0       1  Disaster      13  \n",
       "1       1  Disaster       7  \n",
       "2       1  Disaster      22  \n",
       "3       1  Disaster       8  \n",
       "4       1  Disaster      16  \n",
       "5       1  Disaster      18  \n",
       "6       1  Disaster      14  \n",
       "7       1  Disaster      15  \n",
       "8       1  Disaster      12  \n",
       "9       1  Disaster      10  "
      ]
     },
     "execution_count": 4,
     "metadata": {},
     "output_type": "execute_result"
    }
   ],
   "source": [
    "train_df['length']=train_df['text'].str.split().apply(len)\n",
    "train_df.head(10)"
   ]
  },
  {
   "cell_type": "code",
   "execution_count": 5,
   "id": "ada5b63c",
   "metadata": {
    "execution": {
     "iopub.execute_input": "2021-07-20T20:58:44.048140Z",
     "iopub.status.busy": "2021-07-20T20:58:44.047569Z",
     "iopub.status.idle": "2021-07-20T20:58:44.206319Z",
     "shell.execute_reply": "2021-07-20T20:58:44.206751Z",
     "shell.execute_reply.started": "2021-07-20T20:40:32.394022Z"
    },
    "papermill": {
     "duration": 0.184533,
     "end_time": "2021-07-20T20:58:44.206907",
     "exception": false,
     "start_time": "2021-07-20T20:58:44.022374",
     "status": "completed"
    },
    "tags": []
   },
   "outputs": [
    {
     "data": {
      "text/html": [
       "<div>                            <div id=\"f57f5196-1595-4925-8dbd-eb768c5fd488\" class=\"plotly-graph-div\" style=\"height:525px; width:100%;\"></div>            <script type=\"text/javascript\">                require([\"plotly\"], function(Plotly) {                    window.PLOTLYENV=window.PLOTLYENV || {};                                    if (document.getElementById(\"f57f5196-1595-4925-8dbd-eb768c5fd488\")) {                    Plotly.newPlot(                        \"f57f5196-1595-4925-8dbd-eb768c5fd488\",                        [{\"alignmentgroup\":\"True\",\"bingroup\":\"x\",\"histfunc\":\"sum\",\"hovertemplate\":\"class=Disaster<br>keyword=%{x}<br>sum of length=%{y}<extra></extra>\",\"legendgroup\":\"Disaster\",\"marker\":{\"color\":\"#636efa\",\"opacity\":0.8,\"pattern\":{\"shape\":\"\"}},\"name\":\"Disaster\",\"offsetgroup\":\"Disaster\",\"orientation\":\"v\",\"showlegend\":true,\"type\":\"histogram\",\"x\":[null,null,null,null,null,null,null,null,null,null,null,null,null,null,null,\"ablaze\",\"ablaze\",\"ablaze\",\"ablaze\",\"ablaze\",\"ablaze\",\"ablaze\",\"ablaze\",\"ablaze\",\"ablaze\",\"ablaze\",\"ablaze\",\"ablaze\",\"accident\",\"accident\",\"accident\",\"accident\",\"accident\",\"accident\",\"accident\",\"accident\",\"accident\",\"accident\",\"accident\",\"accident\",\"accident\",\"accident\",\"accident\",\"accident\",\"accident\",\"accident\",\"accident\",\"accident\",\"accident\",\"accident\",\"accident\",\"accident\",\"airplane%20accident\",\"airplane%20accident\",\"airplane%20accident\",\"airplane%20accident\",\"airplane%20accident\",\"airplane%20accident\",\"airplane%20accident\",\"airplane%20accident\",\"airplane%20accident\",\"airplane%20accident\",\"airplane%20accident\",\"airplane%20accident\",\"airplane%20accident\",\"airplane%20accident\",\"airplane%20accident\",\"airplane%20accident\",\"airplane%20accident\",\"airplane%20accident\",\"airplane%20accident\",\"airplane%20accident\",\"airplane%20accident\",\"airplane%20accident\",\"airplane%20accident\",\"airplane%20accident\",\"airplane%20accident\",\"airplane%20accident\",\"airplane%20accident\",\"airplane%20accident\",\"airplane%20accident\",\"airplane%20accident\",\"ambulance\",\"ambulance\",\"ambulance\",\"ambulance\",\"ambulance\",\"ambulance\",\"ambulance\",\"ambulance\",\"ambulance\",\"ambulance\",\"ambulance\",\"ambulance\",\"ambulance\",\"ambulance\",\"ambulance\",\"ambulance\",\"ambulance\",\"ambulance\",\"ambulance\",\"ambulance\",\"annihilated\",\"annihilated\",\"annihilated\",\"annihilated\",\"annihilated\",\"annihilated\",\"annihilated\",\"annihilated\",\"annihilated\",\"annihilated\",\"annihilated\",\"annihilation\",\"annihilation\",\"annihilation\",\"annihilation\",\"annihilation\",\"annihilation\",\"annihilation\",\"annihilation\",\"annihilation\",\"annihilation\",\"apocalypse\",\"apocalypse\",\"apocalypse\",\"apocalypse\",\"apocalypse\",\"apocalypse\",\"apocalypse\",\"apocalypse\",\"apocalypse\",\"armageddon\",\"armageddon\",\"armageddon\",\"armageddon\",\"armageddon\",\"army\",\"army\",\"army\",\"army\",\"army\",\"arson\",\"arson\",\"arson\",\"arson\",\"arson\",\"arson\",\"arson\",\"arson\",\"arson\",\"arson\",\"arson\",\"arson\",\"arson\",\"arson\",\"arson\",\"arson\",\"arson\",\"arson\",\"arson\",\"arson\",\"arson\",\"arson\",\"arsonist\",\"arsonist\",\"arsonist\",\"arsonist\",\"arsonist\",\"arsonist\",\"arsonist\",\"arsonist\",\"attack\",\"attack\",\"attack\",\"attack\",\"attack\",\"attack\",\"attack\",\"attack\",\"attack\",\"attack\",\"attack\",\"attack\",\"attack\",\"attack\",\"attack\",\"attack\",\"attack\",\"attack\",\"attack\",\"attack\",\"attack\",\"attack\",\"attack\",\"attack\",\"attack\",\"attacked\",\"attacked\",\"attacked\",\"attacked\",\"attacked\",\"attacked\",\"attacked\",\"attacked\",\"attacked\",\"attacked\",\"attacked\",\"attacked\",\"attacked\",\"attacked\",\"attacked\",\"attacked\",\"attacked\",\"attacked\",\"attacked\",\"attacked\",\"attacked\",\"avalanche\",\"avalanche\",\"avalanche\",\"avalanche\",\"battle\",\"battle\",\"battle\",\"battle\",\"battle\",\"bioterror\",\"bioterror\",\"bioterror\",\"bioterror\",\"bioterror\",\"bioterror\",\"bioterror\",\"bioterror\",\"bioterror\",\"bioterror\",\"bioterror\",\"bioterror\",\"bioterror\",\"bioterror\",\"bioterror\",\"bioterror\",\"bioterror\",\"bioterror\",\"bioterror\",\"bioterror\",\"bioterror\",\"bioterror\",\"bioterrorism\",\"bioterrorism\",\"bioterrorism\",\"bioterrorism\",\"bioterrorism\",\"bioterrorism\",\"bioterrorism\",\"bioterrorism\",\"bioterrorism\",\"bioterrorism\",\"bioterrorism\",\"bioterrorism\",\"bioterrorism\",\"bioterrorism\",\"bioterrorism\",\"bioterrorism\",\"bioterrorism\",\"bioterrorism\",\"bioterrorism\",\"bioterrorism\",\"bioterrorism\",\"blaze\",\"blaze\",\"blaze\",\"blaze\",\"blaze\",\"blazing\",\"bleeding\",\"bleeding\",\"bleeding\",\"bleeding\",\"bleeding\",\"blew%20up\",\"blew%20up\",\"blight\",\"blight\",\"blizzard\",\"blizzard\",\"blizzard\",\"blizzard\",\"blood\",\"blood\",\"blood\",\"blood\",\"blood\",\"bloody\",\"bloody\",\"bloody\",\"blown%20up\",\"blown%20up\",\"blown%20up\",\"blown%20up\",\"blown%20up\",\"body%20bag\",\"body%20bagging\",\"body%20bagging\",\"body%20bagging\",\"body%20bagging\",\"body%20bagging\",\"body%20bags\",\"bomb\",\"bomb\",\"bomb\",\"bomb\",\"bomb\",\"bomb\",\"bomb\",\"bomb\",\"bomb\",\"bomb\",\"bomb\",\"bomb\",\"bomb\",\"bomb\",\"bomb\",\"bombed\",\"bombed\",\"bombed\",\"bombed\",\"bombed\",\"bombed\",\"bombed\",\"bombed\",\"bombed\",\"bombed\",\"bombed\",\"bombed\",\"bombed\",\"bombed\",\"bombed\",\"bombed\",\"bombed\",\"bombed\",\"bombed\",\"bombing\",\"bombing\",\"bombing\",\"bombing\",\"bombing\",\"bombing\",\"bombing\",\"bombing\",\"bombing\",\"bombing\",\"bombing\",\"bombing\",\"bombing\",\"bombing\",\"bombing\",\"bombing\",\"bombing\",\"bombing\",\"bombing\",\"bombing\",\"bombing\",\"bombing\",\"bombing\",\"bombing\",\"bombing\",\"bombing\",\"bombing\",\"bridge%20collapse\",\"bridge%20collapse\",\"bridge%20collapse\",\"bridge%20collapse\",\"bridge%20collapse\",\"bridge%20collapse\",\"bridge%20collapse\",\"bridge%20collapse\",\"bridge%20collapse\",\"bridge%20collapse\",\"bridge%20collapse\",\"bridge%20collapse\",\"bridge%20collapse\",\"bridge%20collapse\",\"bridge%20collapse\",\"bridge%20collapse\",\"bridge%20collapse\",\"bridge%20collapse\",\"bridge%20collapse\",\"bridge%20collapse\",\"bridge%20collapse\",\"bridge%20collapse\",\"bridge%20collapse\",\"bridge%20collapse\",\"bridge%20collapse\",\"bridge%20collapse\",\"bridge%20collapse\",\"bridge%20collapse\",\"bridge%20collapse\",\"buildings%20burning\",\"buildings%20burning\",\"buildings%20burning\",\"buildings%20burning\",\"buildings%20burning\",\"buildings%20burning\",\"buildings%20burning\",\"buildings%20burning\",\"buildings%20burning\",\"buildings%20burning\",\"buildings%20burning\",\"buildings%20burning\",\"buildings%20burning\",\"buildings%20burning\",\"buildings%20burning\",\"buildings%20burning\",\"buildings%20burning\",\"buildings%20burning\",\"buildings%20burning\",\"buildings%20burning\",\"buildings%20burning\",\"buildings%20burning\",\"buildings%20burning\",\"buildings%20burning\",\"buildings%20on%20fire\",\"buildings%20on%20fire\",\"buildings%20on%20fire\",\"buildings%20on%20fire\",\"buildings%20on%20fire\",\"buildings%20on%20fire\",\"buildings%20on%20fire\",\"buildings%20on%20fire\",\"buildings%20on%20fire\",\"buildings%20on%20fire\",\"buildings%20on%20fire\",\"buildings%20on%20fire\",\"buildings%20on%20fire\",\"buildings%20on%20fire\",\"buildings%20on%20fire\",\"buildings%20on%20fire\",\"buildings%20on%20fire\",\"buildings%20on%20fire\",\"buildings%20on%20fire\",\"buildings%20on%20fire\",\"buildings%20on%20fire\",\"buildings%20on%20fire\",\"buildings%20on%20fire\",\"buildings%20on%20fire\",\"buildings%20on%20fire\",\"buildings%20on%20fire\",\"buildings%20on%20fire\",\"buildings%20on%20fire\",\"burned\",\"burned\",\"burned\",\"burned\",\"burned\",\"burned\",\"burned\",\"burning\",\"burning\",\"burning\",\"burning\",\"burning\",\"burning\",\"burning\",\"burning\",\"burning\",\"burning\",\"burning%20buildings\",\"burning%20buildings\",\"burning%20buildings\",\"burning%20buildings\",\"burning%20buildings\",\"burning%20buildings\",\"burning%20buildings\",\"burning%20buildings\",\"burning%20buildings\",\"burning%20buildings\",\"burning%20buildings\",\"burning%20buildings\",\"burning%20buildings\",\"burning%20buildings\",\"burning%20buildings\",\"burning%20buildings\",\"burning%20buildings\",\"burning%20buildings\",\"burning%20buildings\",\"burning%20buildings\",\"burning%20buildings\",\"bush%20fires\",\"bush%20fires\",\"bush%20fires\",\"bush%20fires\",\"bush%20fires\",\"bush%20fires\",\"bush%20fires\",\"bush%20fires\",\"bush%20fires\",\"bush%20fires\",\"bush%20fires\",\"bush%20fires\",\"bush%20fires\",\"bush%20fires\",\"bush%20fires\",\"bush%20fires\",\"bush%20fires\",\"bush%20fires\",\"casualties\",\"casualties\",\"casualties\",\"casualties\",\"casualties\",\"casualties\",\"casualties\",\"casualties\",\"casualties\",\"casualties\",\"casualties\",\"casualties\",\"casualties\",\"casualties\",\"casualties\",\"casualties\",\"casualties\",\"casualties\",\"casualties\",\"casualties\",\"casualties\",\"casualties\",\"casualties\",\"casualties\",\"casualties\",\"casualties\",\"casualties\",\"casualties\",\"casualty\",\"casualty\",\"casualty\",\"casualty\",\"casualty\",\"casualty\",\"casualty\",\"casualty\",\"casualty\",\"casualty\",\"casualty\",\"casualty\",\"casualty\",\"casualty\",\"casualty\",\"catastrophe\",\"catastrophe\",\"catastrophe\",\"catastrophe\",\"catastrophe\",\"catastrophe\",\"catastrophe\",\"catastrophic\",\"catastrophic\",\"catastrophic\",\"catastrophic\",\"catastrophic\",\"catastrophic\",\"catastrophic\",\"catastrophic\",\"catastrophic\",\"catastrophic\",\"catastrophic\",\"catastrophic\",\"catastrophic\",\"catastrophic\",\"catastrophic\",\"catastrophic\",\"catastrophic\",\"catastrophic\",\"catastrophic\",\"catastrophic\",\"chemical%20emergency\",\"chemical%20emergency\",\"chemical%20emergency\",\"chemical%20emergency\",\"chemical%20emergency\",\"chemical%20emergency\",\"chemical%20emergency\",\"chemical%20emergency\",\"chemical%20emergency\",\"chemical%20emergency\",\"chemical%20emergency\",\"chemical%20emergency\",\"chemical%20emergency\",\"chemical%20emergency\",\"chemical%20emergency\",\"cliff%20fall\",\"cliff%20fall\",\"cliff%20fall\",\"cliff%20fall\",\"cliff%20fall\",\"cliff%20fall\",\"cliff%20fall\",\"cliff%20fall\",\"collapse\",\"collapse\",\"collapse\",\"collapse\",\"collapse\",\"collapse\",\"collapse\",\"collapse\",\"collapse\",\"collapse\",\"collapse\",\"collapse\",\"collapse\",\"collapse\",\"collapse\",\"collapsed\",\"collapsed\",\"collapsed\",\"collapsed\",\"collapsed\",\"collapsed\",\"collapsed\",\"collapsed\",\"collapsed\",\"collapsed\",\"collapsed\",\"collapsed\",\"collapsed\",\"collide\",\"collide\",\"collide\",\"collided\",\"collided\",\"collided\",\"collided\",\"collided\",\"collided\",\"collided\",\"collided\",\"collided\",\"collided\",\"collided\",\"collided\",\"collided\",\"collided\",\"collided\",\"collided\",\"collided\",\"collided\",\"collided\",\"collided\",\"collided\",\"collided\",\"collided\",\"collision\",\"collision\",\"collision\",\"collision\",\"collision\",\"collision\",\"collision\",\"collision\",\"collision\",\"collision\",\"collision\",\"collision\",\"collision\",\"collision\",\"collision\",\"collision\",\"collision\",\"collision\",\"collision\",\"collision\",\"collision\",\"collision\",\"collision\",\"collision\",\"collision\",\"collision\",\"collision\",\"collision\",\"collision\",\"crash\",\"crash\",\"crash\",\"crash\",\"crash\",\"crash\",\"crash\",\"crash\",\"crash\",\"crash\",\"crash\",\"crash\",\"crashed\",\"crashed\",\"crashed\",\"crashed\",\"crashed\",\"crashed\",\"crashed\",\"crashed\",\"crashed\",\"crashed\",\"crashed\",\"crashed\",\"crashed\",\"crashed\",\"crashed\",\"crashed\",\"crashed\",\"crashed\",\"crashed\",\"crashed\",\"crashed\",\"crush\",\"crush\",\"crush\",\"crush\",\"crushed\",\"crushed\",\"crushed\",\"crushed\",\"curfew\",\"curfew\",\"curfew\",\"curfew\",\"curfew\",\"cyclone\",\"cyclone\",\"cyclone\",\"cyclone\",\"cyclone\",\"cyclone\",\"cyclone\",\"cyclone\",\"cyclone\",\"cyclone\",\"cyclone\",\"cyclone\",\"cyclone\",\"cyclone\",\"cyclone\",\"cyclone\",\"cyclone\",\"cyclone\",\"cyclone\",\"damage\",\"damage\",\"damage\",\"damage\",\"damage\",\"damage\",\"damage\",\"damage\",\"damage\",\"damage\",\"damage\",\"damage\",\"damage\",\"damage\",\"damage\",\"damage\",\"damage\",\"damage\",\"damage\",\"danger\",\"danger\",\"danger\",\"danger\",\"danger\",\"danger\",\"danger\",\"danger\",\"dead\",\"dead\",\"dead\",\"dead\",\"dead\",\"dead\",\"dead\",\"death\",\"death\",\"death\",\"death\",\"death\",\"death\",\"death\",\"death\",\"death\",\"deaths\",\"deaths\",\"deaths\",\"deaths\",\"deaths\",\"deaths\",\"deaths\",\"deaths\",\"deaths\",\"deaths\",\"deaths\",\"deaths\",\"deaths\",\"deaths\",\"deaths\",\"deaths\",\"deaths\",\"deaths\",\"deaths\",\"deaths\",\"deaths\",\"deaths\",\"deaths\",\"deaths\",\"deaths\",\"deaths\",\"debris\",\"debris\",\"debris\",\"debris\",\"debris\",\"debris\",\"debris\",\"debris\",\"debris\",\"debris\",\"debris\",\"debris\",\"debris\",\"debris\",\"debris\",\"debris\",\"debris\",\"debris\",\"debris\",\"debris\",\"debris\",\"debris\",\"debris\",\"debris\",\"debris\",\"debris\",\"debris\",\"debris\",\"debris\",\"debris\",\"debris\",\"debris\",\"debris\",\"debris\",\"debris\",\"debris\",\"debris\",\"deluge\",\"deluge\",\"deluge\",\"deluge\",\"deluge\",\"deluge\",\"deluged\",\"deluged\",\"deluged\",\"deluged\",\"deluged\",\"deluged\",\"deluged\",\"demolish\",\"demolish\",\"demolish\",\"demolish\",\"demolish\",\"demolished\",\"demolished\",\"demolished\",\"demolished\",\"demolished\",\"demolished\",\"demolished\",\"demolition\",\"demolition\",\"demolition\",\"demolition\",\"demolition\",\"demolition\",\"demolition\",\"demolition\",\"demolition\",\"derail\",\"derail\",\"derail\",\"derail\",\"derail\",\"derail\",\"derail\",\"derail\",\"derail\",\"derail\",\"derail\",\"derail\",\"derail\",\"derail\",\"derail\",\"derail\",\"derail\",\"derailed\",\"derailed\",\"derailed\",\"derailed\",\"derailed\",\"derailed\",\"derailed\",\"derailed\",\"derailed\",\"derailed\",\"derailed\",\"derailed\",\"derailed\",\"derailed\",\"derailed\",\"derailed\",\"derailed\",\"derailed\",\"derailed\",\"derailed\",\"derailed\",\"derailed\",\"derailed\",\"derailed\",\"derailed\",\"derailed\",\"derailment\",\"derailment\",\"derailment\",\"derailment\",\"derailment\",\"derailment\",\"derailment\",\"derailment\",\"derailment\",\"derailment\",\"derailment\",\"derailment\",\"derailment\",\"derailment\",\"derailment\",\"derailment\",\"derailment\",\"derailment\",\"derailment\",\"derailment\",\"derailment\",\"derailment\",\"derailment\",\"derailment\",\"derailment\",\"derailment\",\"derailment\",\"derailment\",\"derailment\",\"derailment\",\"derailment\",\"derailment\",\"derailment\",\"derailment\",\"derailment\",\"derailment\",\"derailment\",\"derailment\",\"derailment\",\"desolate\",\"desolate\",\"desolate\",\"desolate\",\"desolate\",\"desolate\",\"desolate\",\"desolation\",\"desolation\",\"desolation\",\"desolation\",\"desolation\",\"desolation\",\"desolation\",\"destroy\",\"destroy\",\"destroy\",\"destroy\",\"destroy\",\"destroy\",\"destroy\",\"destroy\",\"destroy\",\"destroyed\",\"destroyed\",\"destroyed\",\"destroyed\",\"destroyed\",\"destroyed\",\"destroyed\",\"destroyed\",\"destruction\",\"destruction\",\"destruction\",\"destruction\",\"destruction\",\"destruction\",\"detonate\",\"detonate\",\"detonate\",\"detonate\",\"detonate\",\"detonate\",\"detonate\",\"detonate\",\"detonate\",\"detonate\",\"detonation\",\"detonation\",\"detonation\",\"detonation\",\"detonation\",\"detonation\",\"detonation\",\"detonation\",\"detonation\",\"devastated\",\"devastated\",\"devastated\",\"devastated\",\"devastated\",\"devastated\",\"devastated\",\"devastated\",\"devastated\",\"devastated\",\"devastated\",\"devastated\",\"devastated\",\"devastated\",\"devastated\",\"devastated\",\"devastated\",\"devastated\",\"devastation\",\"devastation\",\"devastation\",\"devastation\",\"devastation\",\"devastation\",\"devastation\",\"devastation\",\"devastation\",\"devastation\",\"devastation\",\"devastation\",\"devastation\",\"devastation\",\"devastation\",\"devastation\",\"devastation\",\"devastation\",\"devastation\",\"devastation\",\"devastation\",\"devastation\",\"devastation\",\"devastation\",\"devastation\",\"devastation\",\"devastation\",\"disaster\",\"disaster\",\"disaster\",\"disaster\",\"disaster\",\"disaster\",\"disaster\",\"disaster\",\"disaster\",\"disaster\",\"disaster\",\"disaster\",\"disaster\",\"disaster\",\"disaster\",\"displaced\",\"displaced\",\"displaced\",\"displaced\",\"displaced\",\"displaced\",\"displaced\",\"displaced\",\"displaced\",\"displaced\",\"displaced\",\"displaced\",\"displaced\",\"displaced\",\"displaced\",\"displaced\",\"displaced\",\"displaced\",\"displaced\",\"displaced\",\"displaced\",\"displaced\",\"displaced\",\"displaced\",\"displaced\",\"displaced\",\"drought\",\"drought\",\"drought\",\"drought\",\"drought\",\"drought\",\"drought\",\"drought\",\"drought\",\"drought\",\"drought\",\"drought\",\"drought\",\"drought\",\"drought\",\"drought\",\"drought\",\"drought\",\"drought\",\"drought\",\"drought\",\"drought\",\"drought\",\"drought\",\"drought\",\"drought\",\"drought\",\"drought\",\"drown\",\"drown\",\"drown\",\"drowned\",\"drowned\",\"drowned\",\"drowned\",\"drowned\",\"drowned\",\"drowned\",\"drowned\",\"drowned\",\"drowned\",\"drowned\",\"drowned\",\"drowned\",\"drowned\",\"drowned\",\"drowning\",\"drowning\",\"drowning\",\"drowning\",\"drowning\",\"drowning\",\"drowning\",\"drowning\",\"drowning\",\"dust%20storm\",\"dust%20storm\",\"dust%20storm\",\"dust%20storm\",\"dust%20storm\",\"dust%20storm\",\"dust%20storm\",\"dust%20storm\",\"dust%20storm\",\"dust%20storm\",\"dust%20storm\",\"dust%20storm\",\"dust%20storm\",\"dust%20storm\",\"dust%20storm\",\"dust%20storm\",\"dust%20storm\",\"dust%20storm\",\"dust%20storm\",\"dust%20storm\",\"dust%20storm\",\"dust%20storm\",\"dust%20storm\",\"dust%20storm\",\"earthquake\",\"earthquake\",\"earthquake\",\"earthquake\",\"earthquake\",\"earthquake\",\"earthquake\",\"earthquake\",\"earthquake\",\"earthquake\",\"earthquake\",\"earthquake\",\"earthquake\",\"earthquake\",\"earthquake\",\"earthquake\",\"earthquake\",\"earthquake\",\"earthquake\",\"earthquake\",\"earthquake\",\"earthquake\",\"earthquake\",\"earthquake\",\"earthquake\",\"earthquake\",\"earthquake\",\"earthquake\",\"earthquake\",\"earthquake\",\"electrocute\",\"electrocuted\",\"electrocuted\",\"electrocuted\",\"electrocuted\",\"electrocuted\",\"electrocuted\",\"electrocuted\",\"electrocuted\",\"electrocuted\",\"electrocuted\",\"electrocuted\",\"electrocuted\",\"electrocuted\",\"emergency\",\"emergency\",\"emergency\",\"emergency\",\"emergency\",\"emergency\",\"emergency\",\"emergency\",\"emergency\",\"emergency\",\"emergency\",\"emergency\",\"emergency\",\"emergency\",\"emergency%20plan\",\"emergency%20plan\",\"emergency%20plan\",\"emergency%20plan\",\"emergency%20plan\",\"emergency%20plan\",\"emergency%20plan\",\"emergency%20plan\",\"emergency%20plan\",\"emergency%20plan\",\"emergency%20plan\",\"emergency%20plan\",\"emergency%20plan\",\"emergency%20plan\",\"emergency%20plan\",\"emergency%20plan\",\"emergency%20plan\",\"emergency%20plan\",\"emergency%20plan\",\"emergency%20plan\",\"emergency%20plan\",\"emergency%20services\",\"emergency%20services\",\"emergency%20services\",\"emergency%20services\",\"emergency%20services\",\"emergency%20services\",\"emergency%20services\",\"emergency%20services\",\"emergency%20services\",\"emergency%20services\",\"emergency%20services\",\"engulfed\",\"engulfed\",\"engulfed\",\"engulfed\",\"engulfed\",\"engulfed\",\"engulfed\",\"engulfed\",\"engulfed\",\"engulfed\",\"engulfed\",\"engulfed\",\"engulfed\",\"engulfed\",\"engulfed\",\"engulfed\",\"engulfed\",\"engulfed\",\"engulfed\",\"epicentre\",\"evacuate\",\"evacuate\",\"evacuate\",\"evacuate\",\"evacuate\",\"evacuate\",\"evacuate\",\"evacuate\",\"evacuate\",\"evacuate\",\"evacuate\",\"evacuate\",\"evacuate\",\"evacuate\",\"evacuate\",\"evacuate\",\"evacuate\",\"evacuate\",\"evacuate\",\"evacuate\",\"evacuate\",\"evacuate\",\"evacuate\",\"evacuate\",\"evacuate\",\"evacuated\",\"evacuated\",\"evacuated\",\"evacuated\",\"evacuated\",\"evacuated\",\"evacuated\",\"evacuated\",\"evacuated\",\"evacuated\",\"evacuated\",\"evacuated\",\"evacuated\",\"evacuated\",\"evacuated\",\"evacuated\",\"evacuated\",\"evacuated\",\"evacuated\",\"evacuated\",\"evacuated\",\"evacuated\",\"evacuated\",\"evacuated\",\"evacuated\",\"evacuated\",\"evacuated\",\"evacuated\",\"evacuated\",\"evacuated\",\"evacuated\",\"evacuated\",\"evacuation\",\"evacuation\",\"evacuation\",\"evacuation\",\"evacuation\",\"evacuation\",\"evacuation\",\"evacuation\",\"evacuation\",\"evacuation\",\"evacuation\",\"evacuation\",\"evacuation\",\"evacuation\",\"evacuation\",\"evacuation\",\"evacuation\",\"evacuation\",\"evacuation\",\"evacuation\",\"evacuation\",\"evacuation\",\"evacuation\",\"evacuation\",\"evacuation\",\"evacuation\",\"evacuation\",\"evacuation\",\"explode\",\"explode\",\"explode\",\"exploded\",\"exploded\",\"exploded\",\"exploded\",\"exploded\",\"exploded\",\"exploded\",\"exploded\",\"exploded\",\"explosion\",\"explosion\",\"explosion\",\"explosion\",\"explosion\",\"explosion\",\"explosion\",\"explosion\",\"explosion\",\"explosion\",\"explosion\",\"explosion\",\"explosion\",\"explosion\",\"explosion\",\"explosion\",\"explosion\",\"explosion\",\"explosion\",\"explosion\",\"eyewitness\",\"eyewitness\",\"eyewitness\",\"eyewitness\",\"eyewitness\",\"eyewitness\",\"eyewitness\",\"eyewitness\",\"eyewitness\",\"eyewitness\",\"eyewitness\",\"eyewitness\",\"famine\",\"famine\",\"famine\",\"famine\",\"famine\",\"famine\",\"famine\",\"famine\",\"famine\",\"famine\",\"famine\",\"famine\",\"famine\",\"famine\",\"famine\",\"famine\",\"famine\",\"famine\",\"famine\",\"famine\",\"famine\",\"famine\",\"famine\",\"famine\",\"famine\",\"famine\",\"fatal\",\"fatal\",\"fatal\",\"fatal\",\"fatal\",\"fatal\",\"fatal\",\"fatal\",\"fatal\",\"fatal\",\"fatal\",\"fatal\",\"fatal\",\"fatal\",\"fatal\",\"fatal\",\"fatal\",\"fatal\",\"fatal\",\"fatal\",\"fatal\",\"fatal\",\"fatal\",\"fatal\",\"fatal\",\"fatal\",\"fatalities\",\"fatalities\",\"fatalities\",\"fatalities\",\"fatalities\",\"fatalities\",\"fatalities\",\"fatalities\",\"fatalities\",\"fatalities\",\"fatalities\",\"fatalities\",\"fatalities\",\"fatalities\",\"fatalities\",\"fatalities\",\"fatalities\",\"fatalities\",\"fatalities\",\"fatalities\",\"fatalities\",\"fatalities\",\"fatalities\",\"fatalities\",\"fatalities\",\"fatalities\",\"fatality\",\"fatality\",\"fatality\",\"fatality\",\"fatality\",\"fatality\",\"fatality\",\"fatality\",\"fatality\",\"fatality\",\"fear\",\"fear\",\"fear\",\"fear\",\"fear\",\"fire\",\"fire\",\"fire\",\"fire\",\"fire\",\"fire\",\"fire\",\"fire\",\"fire\",\"fire\",\"fire\",\"fire%20truck\",\"fire%20truck\",\"fire%20truck\",\"fire%20truck\",\"fire%20truck\",\"fire%20truck\",\"fire%20truck\",\"fire%20truck\",\"fire%20truck\",\"fire%20truck\",\"fire%20truck\",\"fire%20truck\",\"fire%20truck\",\"fire%20truck\",\"fire%20truck\",\"fire%20truck\",\"fire%20truck\",\"fire%20truck\",\"fire%20truck\",\"fire%20truck\",\"fire%20truck\",\"fire%20truck\",\"first%20responders\",\"first%20responders\",\"first%20responders\",\"first%20responders\",\"first%20responders\",\"first%20responders\",\"first%20responders\",\"first%20responders\",\"first%20responders\",\"first%20responders\",\"first%20responders\",\"first%20responders\",\"flames\",\"flames\",\"flames\",\"flames\",\"flames\",\"flames\",\"flames\",\"flames\",\"flames\",\"flames\",\"flames\",\"flames\",\"flames\",\"flattened\",\"flattened\",\"flattened\",\"flattened\",\"flattened\",\"flood\",\"flood\",\"flood\",\"flood\",\"flood\",\"flood\",\"flood\",\"flood\",\"flood\",\"flood\",\"flood\",\"flood\",\"flood\",\"flood\",\"flood\",\"flooding\",\"flooding\",\"flooding\",\"flooding\",\"flooding\",\"flooding\",\"flooding\",\"flooding\",\"flooding\",\"flooding\",\"flooding\",\"flooding\",\"flooding\",\"flooding\",\"flooding\",\"flooding\",\"flooding\",\"flooding\",\"flooding\",\"flooding\",\"flooding\",\"flooding\",\"flooding\",\"flooding\",\"flooding\",\"floods\",\"floods\",\"floods\",\"floods\",\"floods\",\"floods\",\"floods\",\"floods\",\"floods\",\"floods\",\"floods\",\"floods\",\"floods\",\"floods\",\"floods\",\"floods\",\"floods\",\"floods\",\"floods\",\"floods\",\"floods\",\"floods\",\"floods\",\"floods\",\"floods\",\"floods\",\"forest%20fire\",\"forest%20fire\",\"forest%20fire\",\"forest%20fire\",\"forest%20fire\",\"forest%20fire\",\"forest%20fire\",\"forest%20fire\",\"forest%20fire\",\"forest%20fire\",\"forest%20fire\",\"forest%20fire\",\"forest%20fire\",\"forest%20fire\",\"forest%20fire\",\"forest%20fires\",\"forest%20fires\",\"forest%20fires\",\"forest%20fires\",\"forest%20fires\",\"forest%20fires\",\"forest%20fires\",\"forest%20fires\",\"forest%20fires\",\"forest%20fires\",\"forest%20fires\",\"forest%20fires\",\"forest%20fires\",\"forest%20fires\",\"forest%20fires\",\"forest%20fires\",\"forest%20fires\",\"forest%20fires\",\"forest%20fires\",\"forest%20fires\",\"forest%20fires\",\"forest%20fires\",\"forest%20fires\",\"forest%20fires\",\"forest%20fires\",\"forest%20fires\",\"forest%20fires\",\"hail\",\"hail\",\"hail\",\"hail\",\"hail\",\"hail\",\"hail\",\"hail\",\"hail\",\"hail\",\"hail\",\"hail\",\"hail\",\"hail\",\"hail\",\"hail\",\"hail\",\"hail\",\"hailstorm\",\"hailstorm\",\"hailstorm\",\"hailstorm\",\"hailstorm\",\"hailstorm\",\"hailstorm\",\"hailstorm\",\"hailstorm\",\"hailstorm\",\"hailstorm\",\"hailstorm\",\"hailstorm\",\"hailstorm\",\"hailstorm\",\"hailstorm\",\"hailstorm\",\"hailstorm\",\"hailstorm\",\"hailstorm\",\"hailstorm\",\"hailstorm\",\"hailstorm\",\"hailstorm\",\"harm\",\"harm\",\"harm\",\"harm\",\"hazard\",\"hazard\",\"hazard\",\"hazard\",\"hazard\",\"hazard\",\"hazard\",\"hazardous\",\"hazardous\",\"hazardous\",\"hazardous\",\"hazardous\",\"hazardous\",\"hazardous\",\"hazardous\",\"hazardous\",\"hazardous\",\"hazardous\",\"hazardous\",\"hazardous\",\"hazardous\",\"hazardous\",\"hazardous\",\"hazardous\",\"hazardous\",\"hazardous\",\"hazardous\",\"hazardous\",\"hazardous\",\"heat%20wave\",\"heat%20wave\",\"heat%20wave\",\"heat%20wave\",\"heat%20wave\",\"heat%20wave\",\"heat%20wave\",\"heat%20wave\",\"heat%20wave\",\"heat%20wave\",\"heat%20wave\",\"heat%20wave\",\"heat%20wave\",\"heat%20wave\",\"heat%20wave\",\"heat%20wave\",\"heat%20wave\",\"heat%20wave\",\"heat%20wave\",\"heat%20wave\",\"heat%20wave\",\"heat%20wave\",\"heat%20wave\",\"heat%20wave\",\"heat%20wave\",\"hellfire\",\"hellfire\",\"hellfire\",\"hellfire\",\"hellfire\",\"hellfire\",\"hellfire\",\"hijack\",\"hijack\",\"hijack\",\"hijack\",\"hijack\",\"hijack\",\"hijack\",\"hijack\",\"hijack\",\"hijack\",\"hijack\",\"hijack\",\"hijack\",\"hijack\",\"hijack\",\"hijack\",\"hijacker\",\"hijacker\",\"hijacker\",\"hijacker\",\"hijacker\",\"hijacker\",\"hijacker\",\"hijacker\",\"hijacker\",\"hijacker\",\"hijacker\",\"hijacker\",\"hijacker\",\"hijacker\",\"hijacker\",\"hijacker\",\"hijacker\",\"hijacker\",\"hijacker\",\"hijacking\",\"hijacking\",\"hijacking\",\"hijacking\",\"hijacking\",\"hijacking\",\"hijacking\",\"hijacking\",\"hijacking\",\"hijacking\",\"hijacking\",\"hijacking\",\"hijacking\",\"hijacking\",\"hijacking\",\"hostage\",\"hostage\",\"hostage\",\"hostage\",\"hostage\",\"hostage\",\"hostage\",\"hostage\",\"hostage\",\"hostage\",\"hostage\",\"hostage\",\"hostage\",\"hostage\",\"hostage\",\"hostages\",\"hostages\",\"hostages\",\"hostages\",\"hostages\",\"hostages\",\"hostages\",\"hostages\",\"hostages\",\"hostages\",\"hostages\",\"hostages\",\"hostages\",\"hostages\",\"hostages\",\"hostages\",\"hostages\",\"hostages\",\"hostages\",\"hostages\",\"hostages\",\"hostages\",\"hostages\",\"hostages\",\"hostages\",\"hostages\",\"hostages\",\"hurricane\",\"hurricane\",\"hurricane\",\"hurricane\",\"hurricane\",\"hurricane\",\"hurricane\",\"hurricane\",\"hurricane\",\"hurricane\",\"hurricane\",\"hurricane\",\"hurricane\",\"hurricane\",\"hurricane\",\"hurricane\",\"hurricane\",\"hurricane\",\"hurricane\",\"hurricane\",\"injured\",\"injured\",\"injured\",\"injured\",\"injured\",\"injured\",\"injured\",\"injured\",\"injured\",\"injured\",\"injured\",\"injured\",\"injured\",\"injured\",\"injured\",\"injured\",\"injured\",\"injured\",\"injured\",\"injured\",\"injured\",\"injured\",\"injured\",\"injured\",\"injuries\",\"injuries\",\"injuries\",\"injuries\",\"injuries\",\"injuries\",\"injuries\",\"injuries\",\"injuries\",\"injury\",\"injury\",\"injury\",\"injury\",\"injury\",\"injury\",\"injury\",\"injury\",\"injury\",\"injury\",\"injury\",\"inundated\",\"inundated\",\"inundated\",\"inundated\",\"inundated\",\"inundated\",\"inundation\",\"inundation\",\"landslide\",\"landslide\",\"landslide\",\"landslide\",\"landslide\",\"landslide\",\"landslide\",\"landslide\",\"landslide\",\"landslide\",\"landslide\",\"landslide\",\"landslide\",\"landslide\",\"lava\",\"lava\",\"lava\",\"lava\",\"lava\",\"lightning\",\"lightning\",\"lightning\",\"lightning\",\"lightning\",\"lightning\",\"lightning\",\"lightning\",\"lightning\",\"lightning\",\"lightning\",\"lightning\",\"lightning\",\"lightning\",\"lightning\",\"lightning\",\"lightning\",\"loud%20bang\",\"loud%20bang\",\"loud%20bang\",\"loud%20bang\",\"loud%20bang\",\"loud%20bang\",\"loud%20bang\",\"mass%20murder\",\"mass%20murder\",\"mass%20murder\",\"mass%20murder\",\"mass%20murder\",\"mass%20murder\",\"mass%20murder\",\"mass%20murder\",\"mass%20murder\",\"mass%20murder\",\"mass%20murder\",\"mass%20murder\",\"mass%20murder\",\"mass%20murder\",\"mass%20murder\",\"mass%20murder\",\"mass%20murder\",\"mass%20murder\",\"mass%20murder\",\"mass%20murder\",\"mass%20murder\",\"mass%20murder\",\"mass%20murder\",\"mass%20murder\",\"mass%20murder\",\"mass%20murder\",\"mass%20murder\",\"mass%20murder\",\"mass%20murderer\",\"mass%20murderer\",\"mass%20murderer\",\"mass%20murderer\",\"mass%20murderer\",\"mass%20murderer\",\"mass%20murderer\",\"mass%20murderer\",\"mass%20murderer\",\"mass%20murderer\",\"mass%20murderer\",\"mass%20murderer\",\"mass%20murderer\",\"mass%20murderer\",\"mass%20murderer\",\"mass%20murderer\",\"mass%20murderer\",\"mass%20murderer\",\"mass%20murderer\",\"massacre\",\"massacre\",\"massacre\",\"massacre\",\"massacre\",\"massacre\",\"massacre\",\"massacre\",\"massacre\",\"massacre\",\"massacre\",\"massacre\",\"massacre\",\"massacre\",\"massacre\",\"massacre\",\"massacre\",\"massacre\",\"massacre\",\"massacre\",\"massacre\",\"massacre\",\"massacre\",\"massacre\",\"massacre\",\"mayhem\",\"mayhem\",\"mayhem\",\"meltdown\",\"meltdown\",\"meltdown\",\"meltdown\",\"meltdown\",\"military\",\"military\",\"military\",\"military\",\"military\",\"military\",\"military\",\"military\",\"mudslide\",\"mudslide\",\"mudslide\",\"mudslide\",\"mudslide\",\"mudslide\",\"mudslide\",\"mudslide\",\"mudslide\",\"mudslide\",\"mudslide\",\"mudslide\",\"natural%20disaster\",\"natural%20disaster\",\"natural%20disaster\",\"natural%20disaster\",\"natural%20disaster\",\"natural%20disaster\",\"natural%20disaster\",\"natural%20disaster\",\"natural%20disaster\",\"natural%20disaster\",\"natural%20disaster\",\"natural%20disaster\",\"natural%20disaster\",\"natural%20disaster\",\"natural%20disaster\",\"natural%20disaster\",\"natural%20disaster\",\"natural%20disaster\",\"nuclear%20disaster\",\"nuclear%20disaster\",\"nuclear%20disaster\",\"nuclear%20disaster\",\"nuclear%20disaster\",\"nuclear%20disaster\",\"nuclear%20disaster\",\"nuclear%20disaster\",\"nuclear%20disaster\",\"nuclear%20disaster\",\"nuclear%20disaster\",\"nuclear%20disaster\",\"nuclear%20disaster\",\"nuclear%20disaster\",\"nuclear%20disaster\",\"nuclear%20disaster\",\"nuclear%20disaster\",\"nuclear%20disaster\",\"nuclear%20disaster\",\"nuclear%20disaster\",\"nuclear%20disaster\",\"nuclear%20disaster\",\"nuclear%20disaster\",\"nuclear%20disaster\",\"nuclear%20disaster\",\"nuclear%20disaster\",\"nuclear%20disaster\",\"nuclear%20disaster\",\"nuclear%20disaster\",\"nuclear%20disaster\",\"nuclear%20disaster\",\"nuclear%20reactor\",\"nuclear%20reactor\",\"nuclear%20reactor\",\"nuclear%20reactor\",\"nuclear%20reactor\",\"nuclear%20reactor\",\"nuclear%20reactor\",\"nuclear%20reactor\",\"nuclear%20reactor\",\"nuclear%20reactor\",\"nuclear%20reactor\",\"nuclear%20reactor\",\"nuclear%20reactor\",\"nuclear%20reactor\",\"obliterate\",\"obliterate\",\"obliterate\",\"obliterate\",\"obliterated\",\"obliterated\",\"obliterated\",\"obliterated\",\"obliteration\",\"obliteration\",\"obliteration\",\"obliteration\",\"oil%20spill\",\"oil%20spill\",\"oil%20spill\",\"oil%20spill\",\"oil%20spill\",\"oil%20spill\",\"oil%20spill\",\"oil%20spill\",\"oil%20spill\",\"oil%20spill\",\"oil%20spill\",\"oil%20spill\",\"oil%20spill\",\"oil%20spill\",\"oil%20spill\",\"oil%20spill\",\"oil%20spill\",\"oil%20spill\",\"oil%20spill\",\"oil%20spill\",\"oil%20spill\",\"oil%20spill\",\"oil%20spill\",\"oil%20spill\",\"oil%20spill\",\"oil%20spill\",\"oil%20spill\",\"oil%20spill\",\"oil%20spill\",\"oil%20spill\",\"oil%20spill\",\"oil%20spill\",\"oil%20spill\",\"oil%20spill\",\"oil%20spill\",\"oil%20spill\",\"oil%20spill\",\"outbreak\",\"outbreak\",\"outbreak\",\"outbreak\",\"outbreak\",\"outbreak\",\"outbreak\",\"outbreak\",\"outbreak\",\"outbreak\",\"outbreak\",\"outbreak\",\"outbreak\",\"outbreak\",\"outbreak\",\"outbreak\",\"outbreak\",\"outbreak\",\"outbreak\",\"outbreak\",\"outbreak\",\"outbreak\",\"outbreak\",\"outbreak\",\"outbreak\",\"outbreak\",\"outbreak\",\"outbreak\",\"outbreak\",\"outbreak\",\"outbreak\",\"outbreak\",\"outbreak\",\"outbreak\",\"outbreak\",\"outbreak\",\"outbreak\",\"outbreak\",\"outbreak\",\"pandemonium\",\"pandemonium\",\"pandemonium\",\"pandemonium\",\"pandemonium\",\"pandemonium\",\"pandemonium\",\"pandemonium\",\"panic\",\"panic\",\"panic\",\"panicking\",\"panicking\",\"police\",\"police\",\"police\",\"police\",\"police\",\"police\",\"police\",\"police\",\"police\",\"police\",\"police\",\"police\",\"police\",\"police\",\"police\",\"police\",\"police\",\"police\",\"police\",\"police\",\"police\",\"quarantine\",\"quarantine\",\"quarantine\",\"quarantine\",\"quarantine\",\"quarantined\",\"quarantined\",\"quarantined\",\"quarantined\",\"quarantined\",\"quarantined\",\"quarantined\",\"quarantined\",\"quarantined\",\"quarantined\",\"quarantined\",\"quarantined\",\"quarantined\",\"quarantined\",\"radiation%20emergency\",\"radiation%20emergency\",\"radiation%20emergency\",\"radiation%20emergency\",\"radiation%20emergency\",\"rainstorm\",\"rainstorm\",\"rainstorm\",\"rainstorm\",\"rainstorm\",\"rainstorm\",\"rainstorm\",\"rainstorm\",\"rainstorm\",\"rainstorm\",\"rainstorm\",\"rainstorm\",\"rainstorm\",\"rainstorm\",\"rainstorm\",\"rainstorm\",\"rainstorm\",\"rainstorm\",\"razed\",\"razed\",\"razed\",\"razed\",\"razed\",\"razed\",\"razed\",\"razed\",\"razed\",\"razed\",\"razed\",\"razed\",\"razed\",\"razed\",\"razed\",\"razed\",\"razed\",\"razed\",\"razed\",\"razed\",\"razed\",\"razed\",\"razed\",\"razed\",\"razed\",\"razed\",\"razed\",\"razed\",\"razed\",\"razed\",\"razed\",\"refugees\",\"refugees\",\"refugees\",\"refugees\",\"refugees\",\"refugees\",\"refugees\",\"refugees\",\"refugees\",\"refugees\",\"refugees\",\"refugees\",\"refugees\",\"refugees\",\"refugees\",\"refugees\",\"refugees\",\"refugees\",\"refugees\",\"refugees\",\"refugees\",\"refugees\",\"rescue\",\"rescue\",\"rescue\",\"rescue\",\"rescue\",\"rescued\",\"rescued\",\"rescued\",\"rescued\",\"rescued\",\"rescued\",\"rescued\",\"rescued\",\"rescued\",\"rescued\",\"rescued\",\"rescued\",\"rescued\",\"rescued\",\"rescued\",\"rescued\",\"rescued\",\"rescuers\",\"rescuers\",\"rescuers\",\"rescuers\",\"rescuers\",\"rescuers\",\"rescuers\",\"rescuers\",\"rescuers\",\"rescuers\",\"rescuers\",\"rescuers\",\"rescuers\",\"rescuers\",\"rescuers\",\"rescuers\",\"rescuers\",\"rescuers\",\"rescuers\",\"rescuers\",\"rescuers\",\"rescuers\",\"rescuers\",\"rescuers\",\"rescuers\",\"rescuers\",\"rescuers\",\"rescuers\",\"rescuers\",\"rescuers\",\"rescuers\",\"rescuers\",\"riot\",\"riot\",\"riot\",\"riot\",\"riot\",\"riot\",\"rioting\",\"rioting\",\"rioting\",\"rioting\",\"rioting\",\"rioting\",\"rioting\",\"rioting\",\"rioting\",\"rioting\",\"rioting\",\"rioting\",\"rioting\",\"rioting\",\"rioting\",\"rioting\",\"rioting\",\"rioting\",\"rioting\",\"rioting\",\"rioting\",\"rioting\",\"rioting\",\"rubble\",\"rubble\",\"rubble\",\"rubble\",\"rubble\",\"rubble\",\"rubble\",\"rubble\",\"rubble\",\"rubble\",\"ruin\",\"sandstorm\",\"sandstorm\",\"sandstorm\",\"sandstorm\",\"sandstorm\",\"sandstorm\",\"sandstorm\",\"sandstorm\",\"sandstorm\",\"sandstorm\",\"sandstorm\",\"sandstorm\",\"sandstorm\",\"sandstorm\",\"sandstorm\",\"sandstorm\",\"sandstorm\",\"sandstorm\",\"sandstorm\",\"sandstorm\",\"sandstorm\",\"sandstorm\",\"sandstorm\",\"sandstorm\",\"sandstorm\",\"sandstorm\",\"sandstorm\",\"sandstorm\",\"screamed\",\"screamed\",\"screamed\",\"screamed\",\"screaming\",\"screaming\",\"screams\",\"screams\",\"screams\",\"screams\",\"screams\",\"seismic\",\"seismic\",\"seismic\",\"seismic\",\"seismic\",\"seismic\",\"seismic\",\"seismic\",\"seismic\",\"seismic\",\"seismic\",\"seismic\",\"seismic\",\"sinkhole\",\"sinkhole\",\"sinkhole\",\"sinkhole\",\"sinkhole\",\"sinkhole\",\"sinkhole\",\"sinkhole\",\"sinkhole\",\"sinkhole\",\"sinkhole\",\"sinkhole\",\"sinkhole\",\"sinkhole\",\"sinkhole\",\"sinkhole\",\"sinkhole\",\"sinkhole\",\"sinkhole\",\"sinkhole\",\"sinkhole\",\"sinkhole\",\"sinkhole\",\"sinkhole\",\"sinkhole\",\"sinkhole\",\"sinkhole\",\"sinking\",\"sinking\",\"sinking\",\"sinking\",\"sinking\",\"sinking\",\"sinking\",\"sinking\",\"siren\",\"siren\",\"siren\",\"siren\",\"siren\",\"sirens\",\"sirens\",\"sirens\",\"sirens\",\"sirens\",\"sirens\",\"sirens\",\"smoke\",\"smoke\",\"smoke\",\"snowstorm\",\"snowstorm\",\"snowstorm\",\"snowstorm\",\"snowstorm\",\"snowstorm\",\"snowstorm\",\"snowstorm\",\"snowstorm\",\"snowstorm\",\"snowstorm\",\"snowstorm\",\"snowstorm\",\"storm\",\"storm\",\"storm\",\"storm\",\"storm\",\"storm\",\"storm\",\"storm\",\"storm\",\"storm\",\"storm\",\"storm\",\"storm\",\"storm\",\"storm\",\"storm\",\"storm\",\"storm\",\"stretcher\",\"stretcher\",\"stretcher\",\"structural%20failure\",\"structural%20failure\",\"structural%20failure\",\"structural%20failure\",\"structural%20failure\",\"structural%20failure\",\"structural%20failure\",\"structural%20failure\",\"structural%20failure\",\"structural%20failure\",\"structural%20failure\",\"structural%20failure\",\"structural%20failure\",\"structural%20failure\",\"structural%20failure\",\"structural%20failure\",\"structural%20failure\",\"structural%20failure\",\"structural%20failure\",\"structural%20failure\",\"structural%20failure\",\"structural%20failure\",\"structural%20failure\",\"suicide%20bomb\",\"suicide%20bomb\",\"suicide%20bomb\",\"suicide%20bomb\",\"suicide%20bomb\",\"suicide%20bomb\",\"suicide%20bomb\",\"suicide%20bomb\",\"suicide%20bomb\",\"suicide%20bomb\",\"suicide%20bomb\",\"suicide%20bomb\",\"suicide%20bomb\",\"suicide%20bomb\",\"suicide%20bomb\",\"suicide%20bomb\",\"suicide%20bomb\",\"suicide%20bomb\",\"suicide%20bomb\",\"suicide%20bomb\",\"suicide%20bomb\",\"suicide%20bomb\",\"suicide%20bomb\",\"suicide%20bomb\",\"suicide%20bomb\",\"suicide%20bomb\",\"suicide%20bomb\",\"suicide%20bomb\",\"suicide%20bomb\",\"suicide%20bomb\",\"suicide%20bomb\",\"suicide%20bomb\",\"suicide%20bomber\",\"suicide%20bomber\",\"suicide%20bomber\",\"suicide%20bomber\",\"suicide%20bomber\",\"suicide%20bomber\",\"suicide%20bomber\",\"suicide%20bomber\",\"suicide%20bomber\",\"suicide%20bomber\",\"suicide%20bomber\",\"suicide%20bomber\",\"suicide%20bomber\",\"suicide%20bomber\",\"suicide%20bomber\",\"suicide%20bomber\",\"suicide%20bomber\",\"suicide%20bomber\",\"suicide%20bomber\",\"suicide%20bomber\",\"suicide%20bomber\",\"suicide%20bomber\",\"suicide%20bomber\",\"suicide%20bomber\",\"suicide%20bomber\",\"suicide%20bomber\",\"suicide%20bomber\",\"suicide%20bomber\",\"suicide%20bomber\",\"suicide%20bomber\",\"suicide%20bombing\",\"suicide%20bombing\",\"suicide%20bombing\",\"suicide%20bombing\",\"suicide%20bombing\",\"suicide%20bombing\",\"suicide%20bombing\",\"suicide%20bombing\",\"suicide%20bombing\",\"suicide%20bombing\",\"suicide%20bombing\",\"suicide%20bombing\",\"suicide%20bombing\",\"suicide%20bombing\",\"suicide%20bombing\",\"suicide%20bombing\",\"suicide%20bombing\",\"suicide%20bombing\",\"suicide%20bombing\",\"suicide%20bombing\",\"suicide%20bombing\",\"suicide%20bombing\",\"suicide%20bombing\",\"suicide%20bombing\",\"suicide%20bombing\",\"suicide%20bombing\",\"suicide%20bombing\",\"suicide%20bombing\",\"suicide%20bombing\",\"suicide%20bombing\",\"suicide%20bombing\",\"suicide%20bombing\",\"sunk\",\"sunk\",\"sunk\",\"sunk\",\"sunk\",\"sunk\",\"sunk\",\"sunk\",\"sunk\",\"survive\",\"survive\",\"survive\",\"survive\",\"survive\",\"survived\",\"survived\",\"survived\",\"survived\",\"survived\",\"survived\",\"survived\",\"survived\",\"survived\",\"survived\",\"survivors\",\"survivors\",\"survivors\",\"survivors\",\"survivors\",\"survivors\",\"survivors\",\"survivors\",\"survivors\",\"survivors\",\"survivors\",\"survivors\",\"survivors\",\"survivors\",\"survivors\",\"survivors\",\"survivors\",\"survivors\",\"survivors\",\"survivors\",\"survivors\",\"terrorism\",\"terrorism\",\"terrorism\",\"terrorism\",\"terrorism\",\"terrorism\",\"terrorism\",\"terrorism\",\"terrorism\",\"terrorism\",\"terrorism\",\"terrorism\",\"terrorism\",\"terrorism\",\"terrorism\",\"terrorism\",\"terrorism\",\"terrorism\",\"terrorism\",\"terrorism\",\"terrorism\",\"terrorism\",\"terrorism\",\"terrorism\",\"terrorist\",\"terrorist\",\"terrorist\",\"terrorist\",\"terrorist\",\"terrorist\",\"terrorist\",\"terrorist\",\"terrorist\",\"terrorist\",\"terrorist\",\"terrorist\",\"terrorist\",\"terrorist\",\"terrorist\",\"terrorist\",\"terrorist\",\"terrorist\",\"terrorist\",\"terrorist\",\"terrorist\",\"terrorist\",\"terrorist\",\"threat\",\"threat\",\"thunder\",\"thunder\",\"thunder\",\"thunder\",\"thunder\",\"thunder\",\"thunder\",\"thunder\",\"thunder\",\"thunder\",\"thunder\",\"thunder\",\"thunderstorm\",\"thunderstorm\",\"thunderstorm\",\"thunderstorm\",\"thunderstorm\",\"thunderstorm\",\"thunderstorm\",\"thunderstorm\",\"thunderstorm\",\"thunderstorm\",\"thunderstorm\",\"thunderstorm\",\"thunderstorm\",\"thunderstorm\",\"thunderstorm\",\"thunderstorm\",\"thunderstorm\",\"thunderstorm\",\"thunderstorm\",\"thunderstorm\",\"thunderstorm\",\"thunderstorm\",\"thunderstorm\",\"thunderstorm\",\"thunderstorm\",\"thunderstorm\",\"tornado\",\"tornado\",\"tornado\",\"tornado\",\"tornado\",\"tornado\",\"tornado\",\"tornado\",\"tornado\",\"tornado\",\"tornado\",\"tornado\",\"tornado\",\"tornado\",\"tornado\",\"tornado\",\"tragedy\",\"tragedy\",\"tragedy\",\"tragedy\",\"tragedy\",\"tragedy\",\"tragedy\",\"tragedy\",\"tragedy\",\"tragedy\",\"tragedy\",\"tragedy\",\"tragedy\",\"tragedy\",\"tragedy\",\"tragedy\",\"tragedy\",\"tragedy\",\"tragedy\",\"tragedy\",\"tragedy\",\"tragedy\",\"trapped\",\"trapped\",\"trapped\",\"trapped\",\"trapped\",\"trapped\",\"trapped\",\"trapped\",\"trapped\",\"trauma\",\"trauma\",\"trauma\",\"trauma\",\"trauma\",\"trauma\",\"trauma\",\"trauma\",\"trauma\",\"trauma\",\"trauma\",\"traumatised\",\"traumatised\",\"trouble\",\"trouble\",\"trouble\",\"trouble\",\"trouble\",\"tsunami\",\"tsunami\",\"tsunami\",\"tsunami\",\"tsunami\",\"tsunami\",\"tsunami\",\"tsunami\",\"tsunami\",\"tsunami\",\"tsunami\",\"twister\",\"twister\",\"twister\",\"twister\",\"twister\",\"typhoon\",\"typhoon\",\"typhoon\",\"typhoon\",\"typhoon\",\"typhoon\",\"typhoon\",\"typhoon\",\"typhoon\",\"typhoon\",\"typhoon\",\"typhoon\",\"typhoon\",\"typhoon\",\"typhoon\",\"typhoon\",\"typhoon\",\"typhoon\",\"typhoon\",\"typhoon\",\"typhoon\",\"typhoon\",\"typhoon\",\"typhoon\",\"typhoon\",\"typhoon\",\"typhoon\",\"typhoon\",\"typhoon\",\"typhoon\",\"typhoon\",\"typhoon\",\"typhoon\",\"typhoon\",\"typhoon\",\"typhoon\",\"typhoon\",\"upheaval\",\"upheaval\",\"upheaval\",\"upheaval\",\"upheaval\",\"upheaval\",\"violent%20storm\",\"violent%20storm\",\"violent%20storm\",\"violent%20storm\",\"violent%20storm\",\"violent%20storm\",\"violent%20storm\",\"violent%20storm\",\"violent%20storm\",\"violent%20storm\",\"violent%20storm\",\"violent%20storm\",\"violent%20storm\",\"violent%20storm\",\"violent%20storm\",\"violent%20storm\",\"violent%20storm\",\"violent%20storm\",\"violent%20storm\",\"violent%20storm\",\"violent%20storm\",\"violent%20storm\",\"violent%20storm\",\"violent%20storm\",\"violent%20storm\",\"violent%20storm\",\"volcano\",\"volcano\",\"volcano\",\"volcano\",\"volcano\",\"volcano\",\"volcano\",\"volcano\",\"volcano\",\"volcano\",\"volcano\",\"volcano\",\"volcano\",\"volcano\",\"volcano\",\"volcano\",\"volcano\",\"volcano\",\"war%20zone\",\"war%20zone\",\"war%20zone\",\"war%20zone\",\"war%20zone\",\"war%20zone\",\"war%20zone\",\"weapon\",\"weapon\",\"weapon\",\"weapon\",\"weapon\",\"weapon\",\"weapon\",\"weapon\",\"weapon\",\"weapon\",\"weapon\",\"weapon\",\"weapon\",\"weapon\",\"weapons\",\"weapons\",\"weapons\",\"weapons\",\"weapons\",\"weapons\",\"weapons\",\"weapons\",\"weapons\",\"weapons\",\"weapons\",\"weapons\",\"weapons\",\"weapons\",\"weapons\",\"weapons\",\"weapons\",\"whirlwind\",\"whirlwind\",\"whirlwind\",\"whirlwind\",\"whirlwind\",\"whirlwind\",\"whirlwind\",\"whirlwind\",\"whirlwind\",\"whirlwind\",\"whirlwind\",\"whirlwind\",\"whirlwind\",\"whirlwind\",\"wild%20fires\",\"wild%20fires\",\"wild%20fires\",\"wild%20fires\",\"wild%20fires\",\"wild%20fires\",\"wild%20fires\",\"wild%20fires\",\"wild%20fires\",\"wild%20fires\",\"wild%20fires\",\"wild%20fires\",\"wild%20fires\",\"wild%20fires\",\"wild%20fires\",\"wild%20fires\",\"wild%20fires\",\"wild%20fires\",\"wild%20fires\",\"wild%20fires\",\"wild%20fires\",\"wild%20fires\",\"wild%20fires\",\"wild%20fires\",\"wild%20fires\",\"wild%20fires\",\"wild%20fires\",\"wildfire\",\"wildfire\",\"wildfire\",\"wildfire\",\"wildfire\",\"wildfire\",\"wildfire\",\"wildfire\",\"wildfire\",\"wildfire\",\"wildfire\",\"wildfire\",\"wildfire\",\"wildfire\",\"wildfire\",\"wildfire\",\"wildfire\",\"wildfire\",\"wildfire\",\"wildfire\",\"wildfire\",\"wildfire\",\"wildfire\",\"wildfire\",\"wildfire\",\"wildfire\",\"wildfire\",\"wildfire\",\"wildfire\",\"windstorm\",\"windstorm\",\"windstorm\",\"windstorm\",\"windstorm\",\"windstorm\",\"windstorm\",\"windstorm\",\"windstorm\",\"windstorm\",\"windstorm\",\"windstorm\",\"windstorm\",\"windstorm\",\"windstorm\",\"windstorm\",\"wounded\",\"wounded\",\"wounded\",\"wounded\",\"wounded\",\"wounded\",\"wounded\",\"wounded\",\"wounded\",\"wounded\",\"wounded\",\"wounded\",\"wounded\",\"wounded\",\"wounded\",\"wounded\",\"wounded\",\"wounded\",\"wounded\",\"wounded\",\"wounded\",\"wounded\",\"wounded\",\"wounded\",\"wounded\",\"wounded\",\"wounds\",\"wounds\",\"wounds\",\"wounds\",\"wounds\",\"wounds\",\"wounds\",\"wounds\",\"wounds\",\"wounds\",\"wreck\",\"wreck\",\"wreck\",\"wreck\",\"wreck\",\"wreck\",\"wreck\",\"wreckage\",\"wreckage\",\"wreckage\",\"wreckage\",\"wreckage\",\"wreckage\",\"wreckage\",\"wreckage\",\"wreckage\",\"wreckage\",\"wreckage\",\"wreckage\",\"wreckage\",\"wreckage\",\"wreckage\",\"wreckage\",\"wreckage\",\"wreckage\",\"wreckage\",\"wreckage\",\"wreckage\",\"wreckage\",\"wreckage\",\"wreckage\",\"wreckage\",\"wreckage\",\"wreckage\",\"wreckage\",\"wreckage\",\"wreckage\",\"wreckage\",\"wreckage\",\"wreckage\",\"wreckage\",\"wreckage\",\"wreckage\",\"wreckage\",\"wreckage\",\"wreckage\",\"wrecked\",\"wrecked\",\"wrecked\",null,null,null,null,null,null,null,null,null,null,null,null,null,null,null,null,null,null,null,null,null,null,null,null,null,null,null],\"xaxis\":\"x\",\"y\":[13,7,22,8,16,18,14,15,12,10,9,27,12,7,11,5,9,8,19,13,9,11,10,19,13,16,23,8,12,16,18,4,15,9,16,18,19,14,12,17,8,24,25,6,8,12,9,4,26,21,22,17,18,20,18,17,20,9,10,22,10,18,20,13,18,13,10,10,11,18,11,18,18,17,25,10,14,20,5,12,7,21,22,11,20,13,19,10,18,13,11,8,11,10,12,11,11,11,11,11,11,11,5,18,18,16,22,17,8,16,23,18,15,17,4,8,19,19,13,21,12,12,19,16,17,19,10,26,15,14,4,21,16,2,14,15,21,20,22,12,11,22,15,19,15,17,13,13,11,10,13,9,19,8,15,18,19,13,13,11,13,14,15,11,7,7,7,11,14,9,11,16,11,11,7,20,14,11,13,12,9,15,13,14,14,11,12,18,14,11,21,21,20,11,24,13,13,18,12,18,18,18,17,6,18,18,18,14,18,18,18,18,18,18,18,25,18,18,15,10,8,22,18,16,15,19,17,15,16,9,16,20,17,19,18,15,18,17,14,20,16,10,17,16,8,14,14,17,16,4,20,16,22,20,12,14,22,21,14,20,11,15,19,4,18,22,22,20,9,15,14,15,12,10,14,15,15,12,7,8,12,27,15,12,19,24,16,14,9,19,17,6,7,17,23,5,17,18,15,22,25,28,16,15,4,21,14,6,17,19,10,22,11,14,11,7,22,22,29,6,20,10,16,22,19,18,22,8,22,23,19,27,15,8,14,15,16,21,8,24,14,13,23,14,18,12,22,22,19,20,13,16,15,10,12,8,9,9,9,9,11,11,15,9,11,20,12,22,19,10,18,13,18,19,11,18,22,11,14,11,15,16,11,15,13,21,11,11,14,14,21,11,11,13,8,23,11,20,22,12,11,17,21,10,19,21,17,23,11,5,16,18,16,19,16,11,15,23,5,9,17,21,19,14,16,13,10,9,13,23,19,15,16,7,18,21,23,20,19,7,14,20,17,21,13,20,20,15,22,19,19,14,25,13,10,20,18,21,16,18,15,7,18,8,4,14,13,17,20,27,16,19,16,15,21,10,5,23,11,13,10,17,9,16,16,22,24,14,22,8,24,27,17,11,14,13,16,5,6,24,12,14,17,18,19,17,8,19,23,10,10,11,15,19,20,18,11,5,13,24,22,13,13,20,24,9,19,19,17,16,14,15,18,15,14,12,16,20,17,23,18,14,11,19,19,11,15,22,15,8,13,20,14,18,27,13,23,9,17,14,14,14,19,11,14,14,14,16,13,11,14,15,14,13,9,18,13,13,17,12,19,8,10,19,21,18,18,16,12,15,10,16,24,13,20,6,18,23,23,23,8,17,19,11,16,17,13,5,5,12,13,16,9,9,6,27,15,19,8,24,19,20,17,15,11,11,19,20,9,14,20,19,16,17,20,22,14,9,16,21,23,22,26,27,16,24,20,19,22,17,16,17,19,12,18,15,11,22,19,11,18,18,12,18,25,15,14,10,23,9,14,19,23,18,17,12,24,10,16,12,9,11,14,7,15,10,10,5,21,5,5,7,8,13,20,11,13,18,19,27,12,19,18,7,6,6,11,15,16,29,21,25,15,18,18,12,8,4,11,5,8,24,5,20,22,19,17,25,16,21,17,15,12,12,18,17,9,15,17,17,12,11,17,18,15,15,19,18,9,11,7,9,19,27,14,16,18,13,22,15,6,10,18,14,17,4,20,18,17,11,17,12,7,14,28,20,28,15,13,8,9,7,8,7,10,20,11,4,15,17,10,22,17,23,6,22,22,18,22,13,13,3,24,21,11,12,7,19,20,18,20,19,9,16,19,21,21,22,17,18,13,6,18,14,18,15,15,15,22,18,13,15,12,18,13,14,18,11,11,10,17,9,11,14,15,14,17,21,11,15,7,20,20,14,17,7,20,21,20,22,9,12,11,17,26,9,16,21,11,14,18,20,23,19,19,17,18,9,14,11,17,16,8,14,9,12,10,12,12,14,17,26,17,14,14,8,8,14,15,12,17,9,11,14,12,15,22,23,21,17,19,7,18,14,7,21,24,17,24,19,26,20,14,23,24,8,13,15,20,18,6,9,16,9,21,13,18,11,11,20,15,9,21,11,21,21,9,17,21,21,10,18,13,17,17,11,20,15,18,12,13,11,11,17,20,25,10,15,20,9,23,11,20,6,17,7,22,11,24,20,19,15,17,18,5,14,17,10,23,22,21,11,24,12,20,14,18,16,20,25,13,16,17,10,17,10,11,18,7,7,20,20,12,24,8,16,13,8,9,11,8,8,20,11,19,15,19,20,11,16,15,15,8,15,20,15,20,15,15,15,8,16,7,15,10,25,19,18,19,20,19,19,10,18,19,17,19,10,20,19,19,19,11,19,19,19,17,19,19,18,22,8,19,24,10,6,17,19,10,13,17,10,14,20,26,11,17,22,15,15,14,23,16,10,15,23,15,15,15,15,11,18,17,13,17,10,17,21,13,13,12,17,15,6,5,17,23,7,9,12,8,23,8,20,17,19,14,16,13,5,26,18,25,11,14,7,11,16,7,23,21,10,23,7,10,25,15,13,11,9,13,26,11,11,12,17,10,20,25,9,5,14,14,8,14,19,21,17,12,14,12,20,19,12,7,10,17,17,19,11,5,29,22,7,22,9,21,23,24,15,20,16,14,14,20,15,17,14,18,17,14,20,15,17,17,11,17,11,17,17,17,16,9,3,20,3,12,14,18,18,15,25,15,9,12,10,23,18,29,18,17,16,19,22,8,18,7,13,15,20,18,13,22,8,18,15,20,20,17,24,17,21,19,12,9,18,12,8,12,21,21,23,17,16,20,23,12,14,10,16,21,14,12,18,24,14,17,17,6,19,20,12,15,15,22,15,23,19,13,23,15,12,21,9,11,15,15,15,16,18,15,27,23,22,17,21,13,13,8,19,16,12,18,13,23,19,10,21,15,26,9,17,23,21,21,10,11,15,15,20,18,6,13,18,13,15,17,18,14,16,19,18,10,12,13,16,10,10,22,11,3,10,13,15,21,17,23,10,20,20,9,20,9,11,12,19,23,12,15,27,17,11,19,16,16,20,18,14,22,14,9,22,18,8,13,11,15,15,8,13,19,6,10,21,18,24,21,16,14,18,10,18,12,16,11,23,14,13,14,16,14,17,8,12,3,10,20,10,15,16,14,15,18,17,12,8,13,16,14,17,16,9,14,10,19,20,9,16,9,10,17,16,12,9,17,12,24,11,20,16,10,11,10,22,20,13,20,18,13,10,14,11,20,20,12,16,12,13,20,14,20,10,20,20,12,20,20,10,9,20,20,10,14,21,23,17,24,24,8,18,8,13,13,7,16,19,16,13,16,11,15,13,17,20,14,19,22,14,4,10,13,14,11,11,2,19,11,18,9,22,21,8,14,25,8,12,12,6,18,16,7,14,12,16,20,8,26,21,11,22,13,18,9,27,12,20,9,27,20,22,11,6,8,17,16,11,21,13,18,17,14,11,13,16,20,18,20,19,12,16,21,20,17,6,18,21,20,18,19,21,20,24,22,21,3,25,12,20,7,14,12,20,19,15,15,14,17,12,16,13,22,19,10,11,16,15,3,16,15,9,19,10,22,15,10,16,16,7,15,13,19,14,18,12,17,21,14,23,18,21,25,25,12,19,6,20,22,15,18,24,8,11,19,17,12,21,18,14,10,14,3,16,17,17,19,21,6,10,16,18,6,19,11,10,28,21,22,8,17,25,16,13,22,12,20,15,11,16,7,19,14,20,15,21,14,16,13,11,16,15,16,19,25,16,14,11,20,24,22,15,24,25,19,18,5,5,11,19,23,10,20,22,12,17,22,8,12,9,10,6,9,11,14,15,11,24,15,14,10,5,19,19,13,20,14,13,20,15,27,19,9,24,15,12,13,19,12,23,19,7,8,14,9,16,16,8,8,8,5,7,11,14,14,7,20,9,16,8,9,11,21,9,11,21,12,17,5,18,18,22,8,13,15,25,23,15,22,19,15,13,18,7,12,19,22,16,18,22,11,22,22,13,20,23,18,14,11,13,19,13,18,12,12,12,13,13,12,11,16,9,11,8,18,9,9,8,9,8,11,9,8,10,10,12,10,13,8,16,13,8,18,16,10,14,14,16,16,8,10,8,16,16,15,9,11,12,17,22,11,20,11,20,22,11,17,11,18,19,19,16,17,21,10,19,19,17,18,10,18,15,25,7,19,17,18,15,16,18,15,19,19,24,20,4,13,13,9,9,8,4,2,12,7,6,9,15,17,21,22,13,14,3,11,18,18,10,14,19,9,16,18,15,7,11,24,17,9,17,18,18,18,17,21,17,10,18,17,19,14,20,20,11,9,23,15,20,13,12,16,7,13,21,13,7,8,13,13,22,21,23,17,26,8,11,16,5,16,16,22,22,15,10,17,17,11,23,16,12,8,9,17,8,9,9,10,7,14,21,16,13,20,12,14,8,13,12,21,15,9,10,13,24,24,23,24,16,24,22,19,17,8,27,22,18,6,22,13,9,16,15,22,15,18,11,20,23,18,16,7,17,17,15,14,19,24,14,21,22,11,16,22,24,17,13,18,5,14,6,24,9,11,10,11,6,16,21,13,11,12,13,16,15,12,15,18,9,15,4,20,18,9,11,19,21,9,22,13,13,20,17,11,7,7,7,5,12,11,16,19,17,9,17,17,18,17,17,12,13,11,9,14,4,4,18,3,5,9,18,21,13,12,15,7,24,19,10,22,14,16,15,25,22,8,14,18,18,15,13,21,15,17,15,10,11,21,11,26,11,10,21,23,18,18,11,16,15,10,16,15,9,22,12,11,20,27,17,18,12,20,16,17,20,15,9,26,19,18,13,12,15,21,21,15,13,24,18,11,20,13,21,15,5,12,19,10,20,13,14,11,11,11,11,11,14,18,13,21,16,19,18,11,13,17,14,17,17,18,12,10,11,11,12,12,13,12,21,11,13,9,14,18,22,18,10,15,20,17,18,20,11,18,18,22,18,18,18,18,19,24,18,18,9,18,18,18,18,18,10,16,18,13,18,19,18,18,21,18,17,16,12,12,7,14,12,13,10,20,22,10,22,14,14,22,21,20,16,14,15,21,19,13,15,18,19,15,17,16,16,14,15,13,10,20,11,11,8,6,7,9,11,15,17,8,21,13,19,12,10,13,17,11,13,13,11,19,16,17,9,16,18,16,20,11,20,22,9,14,20,20,7,22,19,16,8,11,13,13,18,12,13,13,16,18,13,13,12,12,12,12,12,13,7,13,13,12,10,13,14,13,13,13,11,12,13,12,13,19,9,13,12,7,9,9,8,20,9,23,6,15,9,9,22,17,17,8,9,24,20,8,13,13,22,14,25,8,12,7,18,7,6,7,24,12,10,8,13,15,8,18,7,19,18,18,18,19,20,17,18,21,12,18,18,21,19,21,20,18,14,21,24,18,18,18,19,20,21,14,20,9,13,20,19,5,7,13,21,15,18,19,16,17,10,16,8,15,16,22,21,20,20,5,23,13,25,25,21,12,13,18,20,23,16,13,21,13,20,12,19,12,13,13,11,14,14,14,14,14,14,14,14,19,3,14,14,14,14,16,14,14,14,14,14,14,14,14,14,14,16,14,14,23,23,19,5,5,3,5,30,22,23,25,5,12,9,12,18,14,16,18,12,10,8,25,11,20,13,9,8,10,9,18,11,11,9,14,14,7,13,9,8,8,5,9,18,17,9,8,11,23,6,14,11,25,16,14,15,25,18,25,11,18,25,13,18,23,11,15,21,22,19,19,26,19,8,11,14,18,15,8,15,22,14,10,20,14,17,20,16,13,10,24,10,18,17,12,8,19,11,4,17,16,13,24,11,23,18,26,10,21,10,11,19,18,18,14,14,18,14,18,18,10,18,20,17,18,23,10,18,12,15,21,16,17,17,16,16,17,16,18,23,16,17,18,18,16,16,18,17,21,14,14,14,17,18,16,12,18,14,18,16,20,16,18,11,11,20,10,10,8,17,17,19,12,11,18,20,6,11,23,12,16,23,13,16,19,7,11,18,22,19,19,11,16,23,22,13,20,18,14,9,7,17,11,9,20,19,24,6,15,22,9,9,21,17,20,7,21,8,21,19,9,19,22,20,14,19,17,12,18,14,23,18,9,19,14,5,11,21,9,15,11,28,23,16,22,20,21,17,13,11,10,18,15,18,7,18,6,10,21,8,13,10,21,15,22,19,20,19,6,4,10,12,13,6,10,13,16,7,17,4,12,8,17,14,12,19,6,13,19,13,26,10,13,12,10,27,13,17,16,13,13,17,18,8,13,17,26,21,13,12,12,15,6,23,21,15,12,9,12,23,6,18,8,15,6,16,7,15,25,8,17,12,11,17,18,12,18,21,12,21,19,17,18,15,20,10,24,12,13,17,8,15,20,10,10,12,18,22,20,7,20,12,10,11,12,21,10,26,18,18,10,10,6,13,14,23,23,17,13,21,11,23,22,21,7,23,23,15,23,26,23,23,23,20,4,13,25,21,14,17,9,9,17,17,17,21,22,21,15,12,3,11,13,23,15,25,6,17,16,7,12,21,17,20,9,19,13,15,22,15,20,17,12,13,24,25,16,12,13,19,20,14,15,15,15,15,22,15,16,15,14,8,13,8,22,15,15,15,6,15,9,18,18,11,6,8,13,19,8,15,9,6,15,15,8,22,8,22,11,13,11,18,8,9,25,16,15,16,15,16,16,24,22,11,11,9,14,16,12,9,22,19,14,25,9,18,16,17,19,14,18,14,18,18,17,18,18,11,8,17,25,4,15,15,18,19,12,24,18,7,15,9,23,23,19,18,11,13,8,22,9,17,8,18,27,8,16,30,21,23,20,18,20,12,26,6,17,15,7,17,12,16,16,8,11,10,8,17,13,18,19,14,19,8,17,10,17,13,13,20,20,17,21,19,9,16,12,22,15,16,20,10,17,20,13,7,11,20,13,11,17,7,14,22,18,12,13,17,17,11,17,4,13,17,15,10,12,22,13,15,13,12,14,17,13,17,12,19,20,8,17,15,10,11,12,12,6,10,16,10,18,12,10,13,18,12,11,13,18,19,9,22,17,12,7,23,17,18,8,19,12,18,10,12,11,15,16,17,8,20,20,17,14,11,16,23,16,17,15,12,21,13,10,21,12,4,7,17,8,12,6,11,17,13,17,13,17,18,17,17,28,21,9,17,17,18,17,17,8,19,13,17,25,17,21,17,17,8,12,21,8,17,11,17,8,17,17,17,17,10,17,10,8,7,17,8,12,15,2,19,16,21,19,14,18,18,11,18,9,13,13,20,19,26,20,16,11,20,8,19,13],\"yaxis\":\"y\"},{\"alignmentgroup\":\"True\",\"bingroup\":\"x\",\"histfunc\":\"sum\",\"hovertemplate\":\"class=Not disaster<br>keyword=%{x}<br>sum of length=%{y}<extra></extra>\",\"legendgroup\":\"Not disaster\",\"marker\":{\"color\":\"#EF553B\",\"opacity\":0.8,\"pattern\":{\"shape\":\"\"}},\"name\":\"Not disaster\",\"offsetgroup\":\"Not disaster\",\"orientation\":\"v\",\"showlegend\":true,\"type\":\"histogram\",\"x\":[null,null,null,null,null,null,null,null,null,null,null,null,null,null,null,null,\"ablaze\",\"ablaze\",\"ablaze\",\"ablaze\",\"ablaze\",\"ablaze\",\"ablaze\",\"ablaze\",\"ablaze\",\"ablaze\",\"ablaze\",\"ablaze\",\"ablaze\",\"ablaze\",\"ablaze\",\"ablaze\",\"ablaze\",\"ablaze\",\"ablaze\",\"ablaze\",\"ablaze\",\"ablaze\",\"ablaze\",\"accident\",\"accident\",\"accident\",\"accident\",\"accident\",\"accident\",\"accident\",\"accident\",\"accident\",\"accident\",\"accident\",\"aftershock\",\"aftershock\",\"aftershock\",\"aftershock\",\"aftershock\",\"aftershock\",\"aftershock\",\"aftershock\",\"aftershock\",\"aftershock\",\"aftershock\",\"aftershock\",\"aftershock\",\"aftershock\",\"aftershock\",\"aftershock\",\"aftershock\",\"aftershock\",\"aftershock\",\"aftershock\",\"aftershock\",\"aftershock\",\"aftershock\",\"aftershock\",\"aftershock\",\"aftershock\",\"aftershock\",\"aftershock\",\"aftershock\",\"aftershock\",\"aftershock\",\"aftershock\",\"aftershock\",\"aftershock\",\"airplane%20accident\",\"airplane%20accident\",\"airplane%20accident\",\"airplane%20accident\",\"airplane%20accident\",\"ambulance\",\"ambulance\",\"ambulance\",\"ambulance\",\"ambulance\",\"ambulance\",\"ambulance\",\"ambulance\",\"ambulance\",\"ambulance\",\"ambulance\",\"ambulance\",\"ambulance\",\"ambulance\",\"ambulance\",\"ambulance\",\"ambulance\",\"ambulance\",\"annihilated\",\"annihilated\",\"annihilated\",\"annihilated\",\"annihilated\",\"annihilated\",\"annihilated\",\"annihilated\",\"annihilated\",\"annihilated\",\"annihilated\",\"annihilated\",\"annihilated\",\"annihilated\",\"annihilated\",\"annihilated\",\"annihilated\",\"annihilated\",\"annihilated\",\"annihilated\",\"annihilated\",\"annihilated\",\"annihilated\",\"annihilation\",\"annihilation\",\"annihilation\",\"annihilation\",\"annihilation\",\"annihilation\",\"annihilation\",\"annihilation\",\"annihilation\",\"annihilation\",\"annihilation\",\"annihilation\",\"annihilation\",\"annihilation\",\"annihilation\",\"annihilation\",\"annihilation\",\"annihilation\",\"annihilation\",\"apocalypse\",\"apocalypse\",\"apocalypse\",\"apocalypse\",\"apocalypse\",\"apocalypse\",\"apocalypse\",\"apocalypse\",\"apocalypse\",\"apocalypse\",\"apocalypse\",\"apocalypse\",\"apocalypse\",\"apocalypse\",\"apocalypse\",\"apocalypse\",\"apocalypse\",\"apocalypse\",\"apocalypse\",\"apocalypse\",\"apocalypse\",\"apocalypse\",\"apocalypse\",\"armageddon\",\"armageddon\",\"armageddon\",\"armageddon\",\"armageddon\",\"armageddon\",\"armageddon\",\"armageddon\",\"armageddon\",\"armageddon\",\"armageddon\",\"armageddon\",\"armageddon\",\"armageddon\",\"armageddon\",\"armageddon\",\"armageddon\",\"armageddon\",\"armageddon\",\"armageddon\",\"armageddon\",\"armageddon\",\"armageddon\",\"armageddon\",\"armageddon\",\"armageddon\",\"armageddon\",\"armageddon\",\"armageddon\",\"armageddon\",\"armageddon\",\"armageddon\",\"armageddon\",\"armageddon\",\"armageddon\",\"armageddon\",\"armageddon\",\"army\",\"army\",\"army\",\"army\",\"army\",\"army\",\"army\",\"army\",\"army\",\"army\",\"army\",\"army\",\"army\",\"army\",\"army\",\"army\",\"army\",\"army\",\"army\",\"army\",\"army\",\"army\",\"army\",\"army\",\"army\",\"army\",\"army\",\"army\",\"army\",\"arson\",\"arson\",\"arson\",\"arson\",\"arson\",\"arson\",\"arson\",\"arson\",\"arson\",\"arson\",\"arsonist\",\"arsonist\",\"arsonist\",\"arsonist\",\"arsonist\",\"arsonist\",\"arsonist\",\"arsonist\",\"arsonist\",\"arsonist\",\"arsonist\",\"arsonist\",\"arsonist\",\"arsonist\",\"arsonist\",\"arsonist\",\"arsonist\",\"arsonist\",\"arsonist\",\"arsonist\",\"arsonist\",\"arsonist\",\"arsonist\",\"arsonist\",\"arsonist\",\"arsonist\",\"attack\",\"attack\",\"attack\",\"attack\",\"attack\",\"attack\",\"attack\",\"attack\",\"attack\",\"attack\",\"attack\",\"attacked\",\"attacked\",\"attacked\",\"attacked\",\"attacked\",\"attacked\",\"attacked\",\"attacked\",\"attacked\",\"attacked\",\"attacked\",\"attacked\",\"attacked\",\"attacked\",\"avalanche\",\"avalanche\",\"avalanche\",\"avalanche\",\"avalanche\",\"avalanche\",\"avalanche\",\"avalanche\",\"avalanche\",\"avalanche\",\"avalanche\",\"avalanche\",\"avalanche\",\"avalanche\",\"avalanche\",\"avalanche\",\"avalanche\",\"avalanche\",\"avalanche\",\"avalanche\",\"avalanche\",\"avalanche\",\"avalanche\",\"avalanche\",\"avalanche\",\"avalanche\",\"battle\",\"battle\",\"battle\",\"battle\",\"battle\",\"battle\",\"battle\",\"battle\",\"battle\",\"battle\",\"battle\",\"battle\",\"battle\",\"battle\",\"battle\",\"battle\",\"battle\",\"battle\",\"battle\",\"battle\",\"battle\",\"bioterror\",\"bioterror\",\"bioterror\",\"bioterror\",\"bioterror\",\"bioterror\",\"bioterror\",\"bioterror\",\"bioterror\",\"bioterror\",\"bioterror\",\"bioterror\",\"bioterror\",\"bioterror\",\"bioterror\",\"bioterrorism\",\"bioterrorism\",\"bioterrorism\",\"bioterrorism\",\"bioterrorism\",\"bioterrorism\",\"bioterrorism\",\"bioterrorism\",\"bioterrorism\",\"blaze\",\"blaze\",\"blaze\",\"blaze\",\"blaze\",\"blaze\",\"blaze\",\"blaze\",\"blaze\",\"blaze\",\"blaze\",\"blaze\",\"blaze\",\"blaze\",\"blaze\",\"blaze\",\"blaze\",\"blaze\",\"blaze\",\"blaze\",\"blaze\",\"blaze\",\"blaze\",\"blaze\",\"blaze\",\"blaze\",\"blaze\",\"blaze\",\"blaze\",\"blaze\",\"blaze\",\"blaze\",\"blaze\",\"blazing\",\"blazing\",\"blazing\",\"blazing\",\"blazing\",\"blazing\",\"blazing\",\"blazing\",\"blazing\",\"blazing\",\"blazing\",\"blazing\",\"blazing\",\"blazing\",\"blazing\",\"blazing\",\"blazing\",\"blazing\",\"blazing\",\"blazing\",\"blazing\",\"blazing\",\"blazing\",\"blazing\",\"blazing\",\"blazing\",\"blazing\",\"blazing\",\"blazing\",\"blazing\",\"blazing\",\"blazing\",\"blazing\",\"bleeding\",\"bleeding\",\"bleeding\",\"bleeding\",\"bleeding\",\"bleeding\",\"bleeding\",\"bleeding\",\"bleeding\",\"bleeding\",\"bleeding\",\"bleeding\",\"bleeding\",\"bleeding\",\"bleeding\",\"bleeding\",\"bleeding\",\"bleeding\",\"bleeding\",\"bleeding\",\"bleeding\",\"bleeding\",\"bleeding\",\"bleeding\",\"bleeding\",\"bleeding\",\"bleeding\",\"bleeding\",\"bleeding\",\"bleeding\",\"blew%20up\",\"blew%20up\",\"blew%20up\",\"blew%20up\",\"blew%20up\",\"blew%20up\",\"blew%20up\",\"blew%20up\",\"blew%20up\",\"blew%20up\",\"blew%20up\",\"blew%20up\",\"blew%20up\",\"blew%20up\",\"blew%20up\",\"blew%20up\",\"blew%20up\",\"blew%20up\",\"blew%20up\",\"blew%20up\",\"blew%20up\",\"blew%20up\",\"blew%20up\",\"blew%20up\",\"blew%20up\",\"blew%20up\",\"blew%20up\",\"blew%20up\",\"blew%20up\",\"blew%20up\",\"blew%20up\",\"blight\",\"blight\",\"blight\",\"blight\",\"blight\",\"blight\",\"blight\",\"blight\",\"blight\",\"blight\",\"blight\",\"blight\",\"blight\",\"blight\",\"blight\",\"blight\",\"blight\",\"blight\",\"blight\",\"blight\",\"blight\",\"blight\",\"blight\",\"blight\",\"blight\",\"blight\",\"blight\",\"blight\",\"blight\",\"blight\",\"blizzard\",\"blizzard\",\"blizzard\",\"blizzard\",\"blizzard\",\"blizzard\",\"blizzard\",\"blizzard\",\"blizzard\",\"blizzard\",\"blizzard\",\"blizzard\",\"blizzard\",\"blizzard\",\"blizzard\",\"blizzard\",\"blizzard\",\"blizzard\",\"blizzard\",\"blizzard\",\"blizzard\",\"blizzard\",\"blizzard\",\"blizzard\",\"blizzard\",\"blizzard\",\"blizzard\",\"blizzard\",\"blizzard\",\"blizzard\",\"blizzard\",\"blizzard\",\"blizzard\",\"blood\",\"blood\",\"blood\",\"blood\",\"blood\",\"blood\",\"blood\",\"blood\",\"blood\",\"blood\",\"blood\",\"blood\",\"blood\",\"blood\",\"blood\",\"blood\",\"blood\",\"blood\",\"blood\",\"blood\",\"blood\",\"blood\",\"blood\",\"blood\",\"blood\",\"blood\",\"blood\",\"blood\",\"blood\",\"blood\",\"bloody\",\"bloody\",\"bloody\",\"bloody\",\"bloody\",\"bloody\",\"bloody\",\"bloody\",\"bloody\",\"bloody\",\"bloody\",\"bloody\",\"bloody\",\"bloody\",\"bloody\",\"bloody\",\"bloody\",\"bloody\",\"bloody\",\"bloody\",\"bloody\",\"bloody\",\"bloody\",\"bloody\",\"bloody\",\"bloody\",\"bloody\",\"bloody\",\"bloody\",\"bloody\",\"bloody\",\"bloody\",\"blown%20up\",\"blown%20up\",\"blown%20up\",\"blown%20up\",\"blown%20up\",\"blown%20up\",\"blown%20up\",\"blown%20up\",\"blown%20up\",\"blown%20up\",\"blown%20up\",\"blown%20up\",\"blown%20up\",\"blown%20up\",\"blown%20up\",\"blown%20up\",\"blown%20up\",\"blown%20up\",\"blown%20up\",\"blown%20up\",\"blown%20up\",\"blown%20up\",\"blown%20up\",\"blown%20up\",\"blown%20up\",\"blown%20up\",\"blown%20up\",\"blown%20up\",\"body%20bag\",\"body%20bag\",\"body%20bag\",\"body%20bag\",\"body%20bag\",\"body%20bag\",\"body%20bag\",\"body%20bag\",\"body%20bag\",\"body%20bag\",\"body%20bag\",\"body%20bag\",\"body%20bag\",\"body%20bag\",\"body%20bag\",\"body%20bag\",\"body%20bag\",\"body%20bag\",\"body%20bag\",\"body%20bag\",\"body%20bag\",\"body%20bag\",\"body%20bag\",\"body%20bag\",\"body%20bag\",\"body%20bag\",\"body%20bag\",\"body%20bag\",\"body%20bag\",\"body%20bag\",\"body%20bag\",\"body%20bag\",\"body%20bagging\",\"body%20bagging\",\"body%20bagging\",\"body%20bagging\",\"body%20bagging\",\"body%20bagging\",\"body%20bagging\",\"body%20bagging\",\"body%20bagging\",\"body%20bagging\",\"body%20bagging\",\"body%20bagging\",\"body%20bagging\",\"body%20bagging\",\"body%20bagging\",\"body%20bagging\",\"body%20bagging\",\"body%20bagging\",\"body%20bagging\",\"body%20bagging\",\"body%20bagging\",\"body%20bagging\",\"body%20bagging\",\"body%20bagging\",\"body%20bagging\",\"body%20bagging\",\"body%20bagging\",\"body%20bagging\",\"body%20bags\",\"body%20bags\",\"body%20bags\",\"body%20bags\",\"body%20bags\",\"body%20bags\",\"body%20bags\",\"body%20bags\",\"body%20bags\",\"body%20bags\",\"body%20bags\",\"body%20bags\",\"body%20bags\",\"body%20bags\",\"body%20bags\",\"body%20bags\",\"body%20bags\",\"body%20bags\",\"body%20bags\",\"body%20bags\",\"body%20bags\",\"body%20bags\",\"body%20bags\",\"body%20bags\",\"body%20bags\",\"body%20bags\",\"body%20bags\",\"body%20bags\",\"body%20bags\",\"body%20bags\",\"body%20bags\",\"body%20bags\",\"body%20bags\",\"body%20bags\",\"body%20bags\",\"body%20bags\",\"body%20bags\",\"body%20bags\",\"body%20bags\",\"body%20bags\",\"bomb\",\"bomb\",\"bomb\",\"bomb\",\"bomb\",\"bomb\",\"bomb\",\"bomb\",\"bomb\",\"bomb\",\"bomb\",\"bomb\",\"bomb\",\"bomb\",\"bomb\",\"bomb\",\"bomb\",\"bomb\",\"bomb\",\"bombed\",\"bombed\",\"bombed\",\"bombed\",\"bombed\",\"bombed\",\"bombed\",\"bombed\",\"bombed\",\"bombed\",\"bombed\",\"bombed\",\"bombed\",\"bombed\",\"bombed\",\"bombed\",\"bombed\",\"bombed\",\"bombed\",\"bombing\",\"bombing\",\"bridge%20collapse\",\"bridge%20collapse\",\"bridge%20collapse\",\"bridge%20collapse\",\"bridge%20collapse\",\"bridge%20collapse\",\"buildings%20burning\",\"buildings%20burning\",\"buildings%20burning\",\"buildings%20burning\",\"buildings%20burning\",\"buildings%20burning\",\"buildings%20burning\",\"buildings%20burning\",\"buildings%20burning\",\"buildings%20burning\",\"buildings%20burning\",\"buildings%20on%20fire\",\"buildings%20on%20fire\",\"buildings%20on%20fire\",\"buildings%20on%20fire\",\"buildings%20on%20fire\",\"burned\",\"burned\",\"burned\",\"burned\",\"burned\",\"burned\",\"burned\",\"burned\",\"burned\",\"burned\",\"burned\",\"burned\",\"burned\",\"burned\",\"burned\",\"burned\",\"burned\",\"burned\",\"burned\",\"burned\",\"burned\",\"burned\",\"burned\",\"burned\",\"burned\",\"burned\",\"burning\",\"burning\",\"burning\",\"burning\",\"burning\",\"burning\",\"burning\",\"burning\",\"burning\",\"burning\",\"burning\",\"burning\",\"burning\",\"burning\",\"burning\",\"burning\",\"burning\",\"burning\",\"burning\",\"burning\",\"burning\",\"burning\",\"burning\",\"burning\",\"burning%20buildings\",\"burning%20buildings\",\"burning%20buildings\",\"burning%20buildings\",\"burning%20buildings\",\"burning%20buildings\",\"burning%20buildings\",\"burning%20buildings\",\"burning%20buildings\",\"burning%20buildings\",\"burning%20buildings\",\"burning%20buildings\",\"burning%20buildings\",\"burning%20buildings\",\"burning%20buildings\",\"burning%20buildings\",\"bush%20fires\",\"bush%20fires\",\"bush%20fires\",\"bush%20fires\",\"bush%20fires\",\"bush%20fires\",\"bush%20fires\",\"casualties\",\"casualties\",\"casualties\",\"casualties\",\"casualties\",\"casualties\",\"casualties\",\"casualty\",\"casualty\",\"casualty\",\"casualty\",\"casualty\",\"casualty\",\"casualty\",\"casualty\",\"casualty\",\"casualty\",\"casualty\",\"casualty\",\"casualty\",\"casualty\",\"casualty\",\"casualty\",\"casualty\",\"casualty\",\"casualty\",\"catastrophe\",\"catastrophe\",\"catastrophe\",\"catastrophe\",\"catastrophe\",\"catastrophe\",\"catastrophe\",\"catastrophe\",\"catastrophe\",\"catastrophe\",\"catastrophe\",\"catastrophe\",\"catastrophe\",\"catastrophe\",\"catastrophe\",\"catastrophe\",\"catastrophe\",\"catastrophe\",\"catastrophe\",\"catastrophe\",\"catastrophe\",\"catastrophe\",\"catastrophe\",\"catastrophe\",\"catastrophe\",\"catastrophe\",\"catastrophe\",\"catastrophe\",\"catastrophe\",\"catastrophic\",\"catastrophic\",\"catastrophic\",\"catastrophic\",\"catastrophic\",\"catastrophic\",\"catastrophic\",\"catastrophic\",\"catastrophic\",\"catastrophic\",\"chemical%20emergency\",\"chemical%20emergency\",\"chemical%20emergency\",\"chemical%20emergency\",\"chemical%20emergency\",\"chemical%20emergency\",\"chemical%20emergency\",\"chemical%20emergency\",\"chemical%20emergency\",\"chemical%20emergency\",\"chemical%20emergency\",\"chemical%20emergency\",\"chemical%20emergency\",\"chemical%20emergency\",\"chemical%20emergency\",\"chemical%20emergency\",\"chemical%20emergency\",\"chemical%20emergency\",\"cliff%20fall\",\"cliff%20fall\",\"cliff%20fall\",\"cliff%20fall\",\"cliff%20fall\",\"cliff%20fall\",\"cliff%20fall\",\"cliff%20fall\",\"cliff%20fall\",\"cliff%20fall\",\"cliff%20fall\",\"cliff%20fall\",\"cliff%20fall\",\"cliff%20fall\",\"cliff%20fall\",\"cliff%20fall\",\"cliff%20fall\",\"cliff%20fall\",\"cliff%20fall\",\"cliff%20fall\",\"cliff%20fall\",\"cliff%20fall\",\"cliff%20fall\",\"cliff%20fall\",\"cliff%20fall\",\"cliff%20fall\",\"cliff%20fall\",\"cliff%20fall\",\"collapse\",\"collapse\",\"collapse\",\"collapse\",\"collapse\",\"collapse\",\"collapse\",\"collapse\",\"collapse\",\"collapse\",\"collapse\",\"collapse\",\"collapse\",\"collapse\",\"collapse\",\"collapse\",\"collapse\",\"collapse\",\"collapse\",\"collapsed\",\"collapsed\",\"collapsed\",\"collapsed\",\"collapsed\",\"collapsed\",\"collapsed\",\"collapsed\",\"collapsed\",\"collapsed\",\"collapsed\",\"collapsed\",\"collapsed\",\"collapsed\",\"collapsed\",\"collapsed\",\"collapsed\",\"collapsed\",\"collapsed\",\"collapsed\",\"collapsed\",\"collapsed\",\"collide\",\"collide\",\"collide\",\"collide\",\"collide\",\"collide\",\"collide\",\"collide\",\"collide\",\"collide\",\"collide\",\"collide\",\"collide\",\"collide\",\"collide\",\"collide\",\"collide\",\"collide\",\"collide\",\"collide\",\"collide\",\"collide\",\"collide\",\"collide\",\"collide\",\"collide\",\"collide\",\"collide\",\"collide\",\"collide\",\"collide\",\"collided\",\"collided\",\"collided\",\"collided\",\"collided\",\"collided\",\"collided\",\"collided\",\"collided\",\"collided\",\"collided\",\"collided\",\"collided\",\"collided\",\"collided\",\"collided\",\"collided\",\"collision\",\"collision\",\"collision\",\"collision\",\"collision\",\"collision\",\"collision\",\"collision\",\"collision\",\"collision\",\"crash\",\"crash\",\"crash\",\"crash\",\"crash\",\"crash\",\"crash\",\"crash\",\"crash\",\"crash\",\"crash\",\"crash\",\"crash\",\"crash\",\"crash\",\"crash\",\"crash\",\"crash\",\"crash\",\"crash\",\"crash\",\"crashed\",\"crashed\",\"crashed\",\"crashed\",\"crashed\",\"crashed\",\"crashed\",\"crashed\",\"crashed\",\"crashed\",\"crashed\",\"crashed\",\"crashed\",\"crush\",\"crush\",\"crush\",\"crush\",\"crush\",\"crush\",\"crush\",\"crush\",\"crush\",\"crush\",\"crush\",\"crush\",\"crush\",\"crush\",\"crush\",\"crush\",\"crush\",\"crush\",\"crush\",\"crush\",\"crush\",\"crush\",\"crush\",\"crush\",\"crush\",\"crush\",\"crush\",\"crush\",\"crush\",\"crush\",\"crush\",\"crush\",\"crush\",\"crushed\",\"crushed\",\"crushed\",\"crushed\",\"crushed\",\"crushed\",\"crushed\",\"crushed\",\"crushed\",\"crushed\",\"crushed\",\"crushed\",\"crushed\",\"crushed\",\"crushed\",\"crushed\",\"crushed\",\"crushed\",\"crushed\",\"crushed\",\"crushed\",\"crushed\",\"crushed\",\"crushed\",\"crushed\",\"crushed\",\"crushed\",\"curfew\",\"curfew\",\"curfew\",\"curfew\",\"curfew\",\"curfew\",\"curfew\",\"curfew\",\"curfew\",\"curfew\",\"curfew\",\"curfew\",\"curfew\",\"curfew\",\"curfew\",\"curfew\",\"curfew\",\"curfew\",\"curfew\",\"curfew\",\"curfew\",\"curfew\",\"curfew\",\"curfew\",\"curfew\",\"curfew\",\"curfew\",\"curfew\",\"curfew\",\"curfew\",\"curfew\",\"curfew\",\"cyclone\",\"cyclone\",\"cyclone\",\"cyclone\",\"cyclone\",\"cyclone\",\"cyclone\",\"cyclone\",\"cyclone\",\"cyclone\",\"cyclone\",\"cyclone\",\"cyclone\",\"damage\",\"damage\",\"damage\",\"damage\",\"damage\",\"damage\",\"damage\",\"damage\",\"damage\",\"damage\",\"damage\",\"damage\",\"damage\",\"damage\",\"damage\",\"damage\",\"damage\",\"damage\",\"damage\",\"damage\",\"damage\",\"damage\",\"danger\",\"danger\",\"danger\",\"danger\",\"danger\",\"danger\",\"danger\",\"danger\",\"danger\",\"danger\",\"danger\",\"danger\",\"danger\",\"danger\",\"danger\",\"danger\",\"danger\",\"danger\",\"danger\",\"danger\",\"danger\",\"danger\",\"danger\",\"danger\",\"danger\",\"danger\",\"danger\",\"danger\",\"dead\",\"dead\",\"dead\",\"dead\",\"dead\",\"dead\",\"dead\",\"dead\",\"dead\",\"dead\",\"dead\",\"dead\",\"dead\",\"dead\",\"dead\",\"dead\",\"dead\",\"dead\",\"dead\",\"dead\",\"dead\",\"dead\",\"dead\",\"death\",\"death\",\"death\",\"death\",\"death\",\"death\",\"death\",\"death\",\"death\",\"death\",\"death\",\"death\",\"death\",\"death\",\"death\",\"death\",\"death\",\"death\",\"death\",\"death\",\"death\",\"death\",\"death\",\"death\",\"death\",\"death\",\"death\",\"deaths\",\"deaths\",\"deaths\",\"deaths\",\"deaths\",\"deaths\",\"deaths\",\"deaths\",\"deaths\",\"deaths\",\"deaths\",\"deaths\",\"deluge\",\"deluge\",\"deluge\",\"deluge\",\"deluge\",\"deluge\",\"deluge\",\"deluge\",\"deluge\",\"deluge\",\"deluge\",\"deluge\",\"deluge\",\"deluge\",\"deluge\",\"deluge\",\"deluge\",\"deluge\",\"deluge\",\"deluge\",\"deluge\",\"deluge\",\"deluge\",\"deluge\",\"deluge\",\"deluge\",\"deluge\",\"deluge\",\"deluge\",\"deluge\",\"deluge\",\"deluge\",\"deluge\",\"deluge\",\"deluge\",\"deluge\",\"deluged\",\"deluged\",\"deluged\",\"deluged\",\"deluged\",\"deluged\",\"deluged\",\"deluged\",\"deluged\",\"deluged\",\"deluged\",\"deluged\",\"deluged\",\"deluged\",\"deluged\",\"deluged\",\"deluged\",\"deluged\",\"deluged\",\"deluged\",\"demolish\",\"demolish\",\"demolish\",\"demolish\",\"demolish\",\"demolish\",\"demolish\",\"demolish\",\"demolish\",\"demolish\",\"demolish\",\"demolish\",\"demolish\",\"demolish\",\"demolish\",\"demolish\",\"demolish\",\"demolish\",\"demolish\",\"demolish\",\"demolish\",\"demolish\",\"demolish\",\"demolish\",\"demolish\",\"demolish\",\"demolish\",\"demolish\",\"demolish\",\"demolished\",\"demolished\",\"demolished\",\"demolished\",\"demolished\",\"demolished\",\"demolished\",\"demolished\",\"demolished\",\"demolished\",\"demolished\",\"demolished\",\"demolished\",\"demolished\",\"demolished\",\"demolished\",\"demolished\",\"demolished\",\"demolished\",\"demolished\",\"demolished\",\"demolition\",\"demolition\",\"demolition\",\"demolition\",\"demolition\",\"demolition\",\"demolition\",\"demolition\",\"demolition\",\"demolition\",\"demolition\",\"demolition\",\"demolition\",\"demolition\",\"demolition\",\"demolition\",\"demolition\",\"demolition\",\"demolition\",\"demolition\",\"demolition\",\"demolition\",\"demolition\",\"demolition\",\"demolition\",\"demolition\",\"derail\",\"derail\",\"derail\",\"derail\",\"derail\",\"derail\",\"derail\",\"derail\",\"derail\",\"derail\",\"derail\",\"derail\",\"derail\",\"derail\",\"derail\",\"derail\",\"derail\",\"derail\",\"derailed\",\"derailed\",\"derailed\",\"derailed\",\"derailed\",\"derailed\",\"derailed\",\"derailed\",\"derailed\",\"derailed\",\"derailed\",\"derailed\",\"desolate\",\"desolate\",\"desolate\",\"desolate\",\"desolate\",\"desolate\",\"desolate\",\"desolate\",\"desolate\",\"desolate\",\"desolate\",\"desolate\",\"desolate\",\"desolate\",\"desolate\",\"desolate\",\"desolate\",\"desolate\",\"desolate\",\"desolate\",\"desolate\",\"desolate\",\"desolation\",\"desolation\",\"desolation\",\"desolation\",\"desolation\",\"desolation\",\"desolation\",\"desolation\",\"desolation\",\"desolation\",\"desolation\",\"desolation\",\"desolation\",\"desolation\",\"desolation\",\"desolation\",\"desolation\",\"desolation\",\"desolation\",\"desolation\",\"desolation\",\"desolation\",\"desolation\",\"desolation\",\"desolation\",\"desolation\",\"desolation\",\"desolation\",\"desolation\",\"destroy\",\"destroy\",\"destroy\",\"destroy\",\"destroy\",\"destroy\",\"destroy\",\"destroy\",\"destroy\",\"destroy\",\"destroy\",\"destroy\",\"destroy\",\"destroy\",\"destroy\",\"destroy\",\"destroy\",\"destroy\",\"destroy\",\"destroy\",\"destroy\",\"destroy\",\"destroy\",\"destroy\",\"destroy\",\"destroy\",\"destroy\",\"destroy\",\"destroyed\",\"destroyed\",\"destroyed\",\"destroyed\",\"destroyed\",\"destroyed\",\"destroyed\",\"destroyed\",\"destroyed\",\"destroyed\",\"destroyed\",\"destroyed\",\"destroyed\",\"destroyed\",\"destroyed\",\"destroyed\",\"destroyed\",\"destroyed\",\"destroyed\",\"destroyed\",\"destroyed\",\"destroyed\",\"destroyed\",\"destroyed\",\"destruction\",\"destruction\",\"destruction\",\"destruction\",\"destruction\",\"destruction\",\"destruction\",\"destruction\",\"destruction\",\"destruction\",\"destruction\",\"destruction\",\"destruction\",\"destruction\",\"destruction\",\"destruction\",\"destruction\",\"destruction\",\"destruction\",\"destruction\",\"destruction\",\"destruction\",\"destruction\",\"destruction\",\"destruction\",\"destruction\",\"destruction\",\"destruction\",\"detonate\",\"detonate\",\"detonate\",\"detonate\",\"detonate\",\"detonate\",\"detonate\",\"detonate\",\"detonate\",\"detonate\",\"detonate\",\"detonate\",\"detonate\",\"detonate\",\"detonate\",\"detonate\",\"detonate\",\"detonate\",\"detonate\",\"detonate\",\"detonate\",\"detonate\",\"detonate\",\"detonate\",\"detonate\",\"detonate\",\"detonation\",\"detonation\",\"detonation\",\"detonation\",\"detonation\",\"detonation\",\"detonation\",\"detonation\",\"detonation\",\"detonation\",\"detonation\",\"detonation\",\"detonation\",\"detonation\",\"detonation\",\"detonation\",\"detonation\",\"detonation\",\"detonation\",\"detonation\",\"detonation\",\"detonation\",\"detonation\",\"devastated\",\"devastated\",\"devastated\",\"devastated\",\"devastated\",\"devastated\",\"devastated\",\"devastated\",\"devastated\",\"devastated\",\"devastated\",\"devastated\",\"devastated\",\"devastation\",\"devastation\",\"devastation\",\"devastation\",\"devastation\",\"devastation\",\"devastation\",\"devastation\",\"devastation\",\"disaster\",\"disaster\",\"disaster\",\"disaster\",\"disaster\",\"disaster\",\"disaster\",\"disaster\",\"disaster\",\"disaster\",\"disaster\",\"disaster\",\"disaster\",\"disaster\",\"disaster\",\"disaster\",\"disaster\",\"disaster\",\"disaster\",\"disaster\",\"displaced\",\"displaced\",\"displaced\",\"displaced\",\"displaced\",\"displaced\",\"displaced\",\"displaced\",\"displaced\",\"displaced\",\"drought\",\"drought\",\"drought\",\"drought\",\"drought\",\"drought\",\"drought\",\"drown\",\"drown\",\"drown\",\"drown\",\"drown\",\"drown\",\"drown\",\"drown\",\"drown\",\"drown\",\"drown\",\"drown\",\"drown\",\"drown\",\"drown\",\"drown\",\"drown\",\"drown\",\"drown\",\"drown\",\"drown\",\"drown\",\"drown\",\"drown\",\"drown\",\"drown\",\"drown\",\"drown\",\"drown\",\"drowned\",\"drowned\",\"drowned\",\"drowned\",\"drowned\",\"drowned\",\"drowned\",\"drowned\",\"drowned\",\"drowned\",\"drowned\",\"drowned\",\"drowned\",\"drowned\",\"drowned\",\"drowned\",\"drowned\",\"drowned\",\"drowned\",\"drowned\",\"drowned\",\"drowned\",\"drowned\",\"drowning\",\"drowning\",\"drowning\",\"drowning\",\"drowning\",\"drowning\",\"drowning\",\"drowning\",\"drowning\",\"drowning\",\"drowning\",\"drowning\",\"drowning\",\"drowning\",\"drowning\",\"drowning\",\"drowning\",\"drowning\",\"drowning\",\"drowning\",\"drowning\",\"drowning\",\"drowning\",\"drowning\",\"drowning\",\"dust%20storm\",\"dust%20storm\",\"dust%20storm\",\"dust%20storm\",\"dust%20storm\",\"dust%20storm\",\"dust%20storm\",\"dust%20storm\",\"dust%20storm\",\"dust%20storm\",\"dust%20storm\",\"dust%20storm\",\"earthquake\",\"earthquake\",\"earthquake\",\"earthquake\",\"earthquake\",\"earthquake\",\"earthquake\",\"earthquake\",\"earthquake\",\"electrocute\",\"electrocute\",\"electrocute\",\"electrocute\",\"electrocute\",\"electrocute\",\"electrocute\",\"electrocute\",\"electrocute\",\"electrocute\",\"electrocute\",\"electrocute\",\"electrocute\",\"electrocute\",\"electrocute\",\"electrocute\",\"electrocute\",\"electrocute\",\"electrocute\",\"electrocute\",\"electrocute\",\"electrocute\",\"electrocute\",\"electrocute\",\"electrocute\",\"electrocute\",\"electrocute\",\"electrocute\",\"electrocute\",\"electrocute\",\"electrocute\",\"electrocuted\",\"electrocuted\",\"electrocuted\",\"electrocuted\",\"electrocuted\",\"electrocuted\",\"electrocuted\",\"electrocuted\",\"electrocuted\",\"electrocuted\",\"electrocuted\",\"electrocuted\",\"electrocuted\",\"electrocuted\",\"electrocuted\",\"electrocuted\",\"electrocuted\",\"electrocuted\",\"electrocuted\",\"electrocuted\",\"electrocuted\",\"emergency\",\"emergency\",\"emergency\",\"emergency\",\"emergency\",\"emergency\",\"emergency\",\"emergency\",\"emergency\",\"emergency\",\"emergency\",\"emergency\",\"emergency\",\"emergency\",\"emergency\",\"emergency\",\"emergency\",\"emergency\",\"emergency\",\"emergency\",\"emergency\",\"emergency\",\"emergency\",\"emergency%20plan\",\"emergency%20plan\",\"emergency%20plan\",\"emergency%20plan\",\"emergency%20plan\",\"emergency%20plan\",\"emergency%20plan\",\"emergency%20plan\",\"emergency%20plan\",\"emergency%20plan\",\"emergency%20plan\",\"emergency%20plan\",\"emergency%20plan\",\"emergency%20plan\",\"emergency%20services\",\"emergency%20services\",\"emergency%20services\",\"emergency%20services\",\"emergency%20services\",\"emergency%20services\",\"emergency%20services\",\"emergency%20services\",\"emergency%20services\",\"emergency%20services\",\"emergency%20services\",\"emergency%20services\",\"emergency%20services\",\"emergency%20services\",\"emergency%20services\",\"emergency%20services\",\"emergency%20services\",\"emergency%20services\",\"emergency%20services\",\"emergency%20services\",\"emergency%20services\",\"emergency%20services\",\"engulfed\",\"engulfed\",\"engulfed\",\"engulfed\",\"engulfed\",\"engulfed\",\"engulfed\",\"engulfed\",\"engulfed\",\"engulfed\",\"engulfed\",\"engulfed\",\"engulfed\",\"engulfed\",\"engulfed\",\"engulfed\",\"engulfed\",\"epicentre\",\"epicentre\",\"epicentre\",\"epicentre\",\"epicentre\",\"epicentre\",\"epicentre\",\"epicentre\",\"epicentre\",\"epicentre\",\"epicentre\",\"evacuate\",\"evacuate\",\"evacuate\",\"evacuate\",\"evacuate\",\"evacuate\",\"evacuate\",\"evacuate\",\"evacuate\",\"evacuate\",\"evacuate\",\"evacuate\",\"evacuate\",\"evacuate\",\"evacuate\",\"evacuated\",\"evacuated\",\"evacuated\",\"evacuated\",\"evacuation\",\"evacuation\",\"evacuation\",\"evacuation\",\"evacuation\",\"evacuation\",\"evacuation\",\"evacuation\",\"explode\",\"explode\",\"explode\",\"explode\",\"explode\",\"explode\",\"explode\",\"explode\",\"explode\",\"explode\",\"explode\",\"explode\",\"explode\",\"explode\",\"explode\",\"explode\",\"explode\",\"explode\",\"explode\",\"explode\",\"explode\",\"explode\",\"explode\",\"explode\",\"explode\",\"explode\",\"explode\",\"explode\",\"explode\",\"explode\",\"explode\",\"explode\",\"explode\",\"explode\",\"explode\",\"exploded\",\"exploded\",\"exploded\",\"exploded\",\"exploded\",\"exploded\",\"exploded\",\"exploded\",\"exploded\",\"exploded\",\"exploded\",\"exploded\",\"exploded\",\"exploded\",\"exploded\",\"exploded\",\"exploded\",\"exploded\",\"exploded\",\"exploded\",\"exploded\",\"exploded\",\"exploded\",\"exploded\",\"explosion\",\"explosion\",\"explosion\",\"explosion\",\"explosion\",\"explosion\",\"explosion\",\"explosion\",\"explosion\",\"explosion\",\"explosion\",\"explosion\",\"explosion\",\"explosion\",\"explosion\",\"explosion\",\"explosion\",\"explosion\",\"explosion\",\"eyewitness\",\"eyewitness\",\"eyewitness\",\"eyewitness\",\"eyewitness\",\"eyewitness\",\"eyewitness\",\"eyewitness\",\"eyewitness\",\"eyewitness\",\"eyewitness\",\"eyewitness\",\"eyewitness\",\"eyewitness\",\"eyewitness\",\"eyewitness\",\"eyewitness\",\"eyewitness\",\"eyewitness\",\"eyewitness\",\"famine\",\"famine\",\"famine\",\"famine\",\"famine\",\"famine\",\"famine\",\"famine\",\"famine\",\"famine\",\"famine\",\"famine\",\"famine\",\"fatal\",\"fatal\",\"fatal\",\"fatal\",\"fatal\",\"fatal\",\"fatal\",\"fatal\",\"fatal\",\"fatal\",\"fatal\",\"fatal\",\"fatalities\",\"fatalities\",\"fatalities\",\"fatalities\",\"fatalities\",\"fatalities\",\"fatalities\",\"fatalities\",\"fatalities\",\"fatalities\",\"fatalities\",\"fatalities\",\"fatalities\",\"fatalities\",\"fatalities\",\"fatalities\",\"fatalities\",\"fatalities\",\"fatalities\",\"fatality\",\"fatality\",\"fatality\",\"fatality\",\"fatality\",\"fatality\",\"fatality\",\"fatality\",\"fatality\",\"fatality\",\"fatality\",\"fatality\",\"fatality\",\"fatality\",\"fatality\",\"fatality\",\"fatality\",\"fatality\",\"fatality\",\"fatality\",\"fatality\",\"fatality\",\"fatality\",\"fatality\",\"fatality\",\"fatality\",\"fatality\",\"fear\",\"fear\",\"fear\",\"fear\",\"fear\",\"fear\",\"fear\",\"fear\",\"fear\",\"fear\",\"fear\",\"fear\",\"fear\",\"fear\",\"fear\",\"fear\",\"fear\",\"fear\",\"fear\",\"fear\",\"fear\",\"fear\",\"fear\",\"fear\",\"fear\",\"fear\",\"fear\",\"fear\",\"fear\",\"fear\",\"fear\",\"fear\",\"fear\",\"fear\",\"fear\",\"fire\",\"fire\",\"fire\",\"fire\",\"fire\",\"fire\",\"fire\",\"fire\",\"fire\",\"fire\",\"fire\",\"fire\",\"fire\",\"fire\",\"fire\",\"fire\",\"fire\",\"fire\",\"fire\",\"fire\",\"fire\",\"fire\",\"fire\",\"fire\",\"fire\",\"fire\",\"fire\",\"fire%20truck\",\"fire%20truck\",\"fire%20truck\",\"fire%20truck\",\"fire%20truck\",\"fire%20truck\",\"fire%20truck\",\"fire%20truck\",\"fire%20truck\",\"fire%20truck\",\"fire%20truck\",\"first%20responders\",\"first%20responders\",\"first%20responders\",\"first%20responders\",\"first%20responders\",\"first%20responders\",\"first%20responders\",\"first%20responders\",\"first%20responders\",\"first%20responders\",\"first%20responders\",\"first%20responders\",\"first%20responders\",\"first%20responders\",\"first%20responders\",\"first%20responders\",\"first%20responders\",\"flames\",\"flames\",\"flames\",\"flames\",\"flames\",\"flames\",\"flames\",\"flames\",\"flames\",\"flames\",\"flames\",\"flames\",\"flames\",\"flames\",\"flames\",\"flames\",\"flames\",\"flames\",\"flames\",\"flames\",\"flames\",\"flames\",\"flames\",\"flames\",\"flames\",\"flames\",\"flattened\",\"flattened\",\"flattened\",\"flattened\",\"flattened\",\"flattened\",\"flattened\",\"flattened\",\"flattened\",\"flattened\",\"flattened\",\"flattened\",\"flattened\",\"flattened\",\"flattened\",\"flattened\",\"flattened\",\"flattened\",\"flattened\",\"flattened\",\"flattened\",\"flattened\",\"flattened\",\"flattened\",\"flattened\",\"flattened\",\"flattened\",\"flattened\",\"flattened\",\"flood\",\"flood\",\"flood\",\"flood\",\"flood\",\"flood\",\"flood\",\"flood\",\"flood\",\"flood\",\"flood\",\"flood\",\"flood\",\"flood\",\"flood\",\"flood\",\"flood\",\"flood\",\"flood\",\"flood\",\"flooding\",\"flooding\",\"flooding\",\"flooding\",\"flooding\",\"flooding\",\"flooding\",\"flooding\",\"flooding\",\"flooding\",\"flooding\",\"flooding\",\"flooding\",\"floods\",\"floods\",\"floods\",\"floods\",\"floods\",\"floods\",\"floods\",\"floods\",\"floods\",\"floods\",\"forest%20fire\",\"forest%20fire\",\"forest%20fire\",\"forest%20fire\",\"forest%20fires\",\"forest%20fires\",\"forest%20fires\",\"forest%20fires\",\"forest%20fires\",\"hail\",\"hail\",\"hail\",\"hail\",\"hail\",\"hail\",\"hail\",\"hail\",\"hail\",\"hail\",\"hail\",\"hail\",\"hail\",\"hail\",\"hail\",\"hail\",\"hail\",\"hailstorm\",\"hailstorm\",\"hailstorm\",\"hailstorm\",\"hailstorm\",\"hailstorm\",\"hailstorm\",\"hailstorm\",\"harm\",\"harm\",\"harm\",\"harm\",\"harm\",\"harm\",\"harm\",\"harm\",\"harm\",\"harm\",\"harm\",\"harm\",\"harm\",\"harm\",\"harm\",\"harm\",\"harm\",\"harm\",\"harm\",\"harm\",\"harm\",\"harm\",\"harm\",\"harm\",\"harm\",\"harm\",\"harm\",\"harm\",\"harm\",\"harm\",\"harm\",\"harm\",\"harm\",\"harm\",\"harm\",\"harm\",\"harm\",\"hazard\",\"hazard\",\"hazard\",\"hazard\",\"hazard\",\"hazard\",\"hazard\",\"hazard\",\"hazard\",\"hazard\",\"hazard\",\"hazard\",\"hazard\",\"hazard\",\"hazard\",\"hazard\",\"hazard\",\"hazard\",\"hazard\",\"hazard\",\"hazard\",\"hazard\",\"hazard\",\"hazard\",\"hazard\",\"hazard\",\"hazard\",\"hazardous\",\"hazardous\",\"hazardous\",\"hazardous\",\"hazardous\",\"hazardous\",\"hazardous\",\"hazardous\",\"hazardous\",\"hazardous\",\"hazardous\",\"hazardous\",\"hazardous\",\"heat%20wave\",\"heat%20wave\",\"heat%20wave\",\"heat%20wave\",\"heat%20wave\",\"heat%20wave\",\"heat%20wave\",\"heat%20wave\",\"heat%20wave\",\"hellfire\",\"hellfire\",\"hellfire\",\"hellfire\",\"hellfire\",\"hellfire\",\"hellfire\",\"hellfire\",\"hellfire\",\"hellfire\",\"hellfire\",\"hellfire\",\"hellfire\",\"hellfire\",\"hellfire\",\"hellfire\",\"hellfire\",\"hellfire\",\"hellfire\",\"hellfire\",\"hellfire\",\"hellfire\",\"hellfire\",\"hellfire\",\"hellfire\",\"hellfire\",\"hellfire\",\"hellfire\",\"hellfire\",\"hellfire\",\"hellfire\",\"hellfire\",\"hijack\",\"hijack\",\"hijack\",\"hijack\",\"hijack\",\"hijack\",\"hijack\",\"hijack\",\"hijack\",\"hijack\",\"hijack\",\"hijack\",\"hijack\",\"hijack\",\"hijack\",\"hijack\",\"hijack\",\"hijacker\",\"hijacker\",\"hijacker\",\"hijacker\",\"hijacker\",\"hijacker\",\"hijacker\",\"hijacker\",\"hijacker\",\"hijacker\",\"hijacker\",\"hijacker\",\"hijacker\",\"hijacker\",\"hijacker\",\"hijacker\",\"hijacking\",\"hijacking\",\"hijacking\",\"hijacking\",\"hijacking\",\"hijacking\",\"hijacking\",\"hijacking\",\"hijacking\",\"hijacking\",\"hijacking\",\"hijacking\",\"hijacking\",\"hijacking\",\"hijacking\",\"hijacking\",\"hijacking\",\"hostage\",\"hostage\",\"hostage\",\"hostage\",\"hostage\",\"hostage\",\"hostage\",\"hostage\",\"hostage\",\"hostage\",\"hostage\",\"hostage\",\"hostage\",\"hostage\",\"hostage\",\"hostage\",\"hostages\",\"hostages\",\"hostages\",\"hostages\",\"hostages\",\"hostages\",\"hostages\",\"hostages\",\"hostages\",\"hostages\",\"hurricane\",\"hurricane\",\"hurricane\",\"hurricane\",\"hurricane\",\"hurricane\",\"hurricane\",\"hurricane\",\"hurricane\",\"hurricane\",\"hurricane\",\"hurricane\",\"hurricane\",\"hurricane\",\"hurricane\",\"hurricane\",\"hurricane\",\"hurricane\",\"injured\",\"injured\",\"injured\",\"injured\",\"injured\",\"injured\",\"injured\",\"injured\",\"injured\",\"injured\",\"injured\",\"injuries\",\"injuries\",\"injuries\",\"injuries\",\"injuries\",\"injuries\",\"injuries\",\"injuries\",\"injuries\",\"injuries\",\"injuries\",\"injuries\",\"injuries\",\"injuries\",\"injuries\",\"injuries\",\"injuries\",\"injuries\",\"injuries\",\"injuries\",\"injuries\",\"injuries\",\"injuries\",\"injuries\",\"injury\",\"injury\",\"injury\",\"injury\",\"injury\",\"injury\",\"injury\",\"injury\",\"injury\",\"injury\",\"injury\",\"injury\",\"injury\",\"injury\",\"injury\",\"injury\",\"injury\",\"injury\",\"injury\",\"injury\",\"injury\",\"injury\",\"injury\",\"injury\",\"injury\",\"injury\",\"injury\",\"inundated\",\"inundated\",\"inundated\",\"inundated\",\"inundated\",\"inundated\",\"inundated\",\"inundated\",\"inundated\",\"inundated\",\"inundated\",\"inundated\",\"inundated\",\"inundated\",\"inundated\",\"inundated\",\"inundated\",\"inundated\",\"inundated\",\"inundated\",\"inundated\",\"inundated\",\"inundated\",\"inundated\",\"inundated\",\"inundated\",\"inundated\",\"inundated\",\"inundated\",\"inundation\",\"inundation\",\"inundation\",\"inundation\",\"inundation\",\"inundation\",\"inundation\",\"inundation\",\"landslide\",\"landslide\",\"landslide\",\"landslide\",\"landslide\",\"landslide\",\"landslide\",\"landslide\",\"landslide\",\"landslide\",\"landslide\",\"landslide\",\"landslide\",\"landslide\",\"landslide\",\"landslide\",\"landslide\",\"landslide\",\"landslide\",\"lava\",\"lava\",\"lava\",\"lava\",\"lava\",\"lava\",\"lava\",\"lava\",\"lava\",\"lava\",\"lava\",\"lava\",\"lava\",\"lava\",\"lava\",\"lava\",\"lava\",\"lava\",\"lava\",\"lava\",\"lava\",\"lava\",\"lava\",\"lava\",\"lava\",\"lava\",\"lava\",\"lava\",\"lava\",\"lightning\",\"lightning\",\"lightning\",\"lightning\",\"lightning\",\"lightning\",\"lightning\",\"lightning\",\"lightning\",\"lightning\",\"lightning\",\"lightning\",\"lightning\",\"lightning\",\"lightning\",\"lightning\",\"loud%20bang\",\"loud%20bang\",\"loud%20bang\",\"loud%20bang\",\"loud%20bang\",\"loud%20bang\",\"loud%20bang\",\"loud%20bang\",\"loud%20bang\",\"loud%20bang\",\"loud%20bang\",\"loud%20bang\",\"loud%20bang\",\"loud%20bang\",\"loud%20bang\",\"loud%20bang\",\"loud%20bang\",\"loud%20bang\",\"loud%20bang\",\"loud%20bang\",\"loud%20bang\",\"loud%20bang\",\"loud%20bang\",\"loud%20bang\",\"loud%20bang\",\"loud%20bang\",\"loud%20bang\",\"mass%20murder\",\"mass%20murder\",\"mass%20murder\",\"mass%20murder\",\"mass%20murder\",\"mass%20murderer\",\"mass%20murderer\",\"mass%20murderer\",\"mass%20murderer\",\"mass%20murderer\",\"mass%20murderer\",\"mass%20murderer\",\"mass%20murderer\",\"mass%20murderer\",\"mass%20murderer\",\"mass%20murderer\",\"mass%20murderer\",\"mass%20murderer\",\"massacre\",\"massacre\",\"massacre\",\"massacre\",\"massacre\",\"massacre\",\"massacre\",\"massacre\",\"massacre\",\"massacre\",\"massacre\",\"mayhem\",\"mayhem\",\"mayhem\",\"mayhem\",\"mayhem\",\"mayhem\",\"mayhem\",\"mayhem\",\"mayhem\",\"mayhem\",\"mayhem\",\"mayhem\",\"mayhem\",\"mayhem\",\"mayhem\",\"mayhem\",\"mayhem\",\"mayhem\",\"mayhem\",\"mayhem\",\"mayhem\",\"mayhem\",\"mayhem\",\"mayhem\",\"mayhem\",\"mayhem\",\"mayhem\",\"meltdown\",\"meltdown\",\"meltdown\",\"meltdown\",\"meltdown\",\"meltdown\",\"meltdown\",\"meltdown\",\"meltdown\",\"meltdown\",\"meltdown\",\"meltdown\",\"meltdown\",\"meltdown\",\"meltdown\",\"meltdown\",\"meltdown\",\"meltdown\",\"meltdown\",\"meltdown\",\"meltdown\",\"meltdown\",\"meltdown\",\"meltdown\",\"meltdown\",\"meltdown\",\"meltdown\",\"meltdown\",\"military\",\"military\",\"military\",\"military\",\"military\",\"military\",\"military\",\"military\",\"military\",\"military\",\"military\",\"military\",\"military\",\"military\",\"military\",\"military\",\"military\",\"military\",\"military\",\"military\",\"military\",\"military\",\"military\",\"military\",\"military\",\"military\",\"mudslide\",\"mudslide\",\"mudslide\",\"mudslide\",\"mudslide\",\"mudslide\",\"mudslide\",\"mudslide\",\"mudslide\",\"mudslide\",\"mudslide\",\"mudslide\",\"mudslide\",\"mudslide\",\"mudslide\",\"mudslide\",\"mudslide\",\"mudslide\",\"mudslide\",\"mudslide\",\"mudslide\",\"mudslide\",\"mudslide\",\"mudslide\",\"mudslide\",\"natural%20disaster\",\"natural%20disaster\",\"natural%20disaster\",\"natural%20disaster\",\"natural%20disaster\",\"natural%20disaster\",\"natural%20disaster\",\"natural%20disaster\",\"natural%20disaster\",\"natural%20disaster\",\"natural%20disaster\",\"natural%20disaster\",\"natural%20disaster\",\"natural%20disaster\",\"natural%20disaster\",\"natural%20disaster\",\"nuclear%20disaster\",\"nuclear%20disaster\",\"nuclear%20disaster\",\"nuclear%20reactor\",\"nuclear%20reactor\",\"nuclear%20reactor\",\"nuclear%20reactor\",\"nuclear%20reactor\",\"nuclear%20reactor\",\"nuclear%20reactor\",\"nuclear%20reactor\",\"nuclear%20reactor\",\"nuclear%20reactor\",\"nuclear%20reactor\",\"nuclear%20reactor\",\"nuclear%20reactor\",\"nuclear%20reactor\",\"nuclear%20reactor\",\"nuclear%20reactor\",\"nuclear%20reactor\",\"nuclear%20reactor\",\"nuclear%20reactor\",\"nuclear%20reactor\",\"nuclear%20reactor\",\"nuclear%20reactor\",\"obliterate\",\"obliterate\",\"obliterate\",\"obliterate\",\"obliterate\",\"obliterate\",\"obliterate\",\"obliterate\",\"obliterate\",\"obliterate\",\"obliterate\",\"obliterate\",\"obliterate\",\"obliterate\",\"obliterate\",\"obliterate\",\"obliterate\",\"obliterate\",\"obliterate\",\"obliterate\",\"obliterate\",\"obliterate\",\"obliterate\",\"obliterate\",\"obliterate\",\"obliterate\",\"obliterate\",\"obliterated\",\"obliterated\",\"obliterated\",\"obliterated\",\"obliterated\",\"obliterated\",\"obliterated\",\"obliterated\",\"obliterated\",\"obliterated\",\"obliterated\",\"obliterated\",\"obliterated\",\"obliterated\",\"obliterated\",\"obliterated\",\"obliterated\",\"obliterated\",\"obliterated\",\"obliterated\",\"obliterated\",\"obliterated\",\"obliterated\",\"obliterated\",\"obliterated\",\"obliterated\",\"obliterated\",\"obliteration\",\"obliteration\",\"obliteration\",\"obliteration\",\"obliteration\",\"obliteration\",\"obliteration\",\"obliteration\",\"obliteration\",\"obliteration\",\"obliteration\",\"obliteration\",\"obliteration\",\"obliteration\",\"obliteration\",\"obliteration\",\"obliteration\",\"obliteration\",\"obliteration\",\"obliteration\",\"obliteration\",\"obliteration\",\"obliteration\",\"obliteration\",\"obliteration\",\"oil%20spill\",\"outbreak\",\"pandemonium\",\"pandemonium\",\"pandemonium\",\"pandemonium\",\"pandemonium\",\"pandemonium\",\"pandemonium\",\"pandemonium\",\"pandemonium\",\"pandemonium\",\"pandemonium\",\"pandemonium\",\"pandemonium\",\"pandemonium\",\"pandemonium\",\"pandemonium\",\"pandemonium\",\"pandemonium\",\"pandemonium\",\"pandemonium\",\"pandemonium\",\"pandemonium\",\"pandemonium\",\"pandemonium\",\"pandemonium\",\"pandemonium\",\"pandemonium\",\"pandemonium\",\"pandemonium\",\"panic\",\"panic\",\"panic\",\"panic\",\"panic\",\"panic\",\"panic\",\"panic\",\"panic\",\"panic\",\"panic\",\"panic\",\"panic\",\"panic\",\"panic\",\"panic\",\"panic\",\"panic\",\"panic\",\"panic\",\"panic\",\"panic\",\"panic\",\"panic\",\"panic\",\"panic\",\"panic\",\"panic\",\"panic\",\"panic\",\"panic\",\"panic\",\"panic\",\"panic\",\"panicking\",\"panicking\",\"panicking\",\"panicking\",\"panicking\",\"panicking\",\"panicking\",\"panicking\",\"panicking\",\"panicking\",\"panicking\",\"panicking\",\"panicking\",\"panicking\",\"panicking\",\"panicking\",\"panicking\",\"panicking\",\"panicking\",\"panicking\",\"panicking\",\"panicking\",\"panicking\",\"panicking\",\"panicking\",\"panicking\",\"panicking\",\"panicking\",\"panicking\",\"panicking\",\"panicking\",\"police\",\"police\",\"police\",\"police\",\"police\",\"police\",\"police\",\"police\",\"police\",\"police\",\"police\",\"police\",\"police\",\"police\",\"police\",\"police\",\"quarantine\",\"quarantine\",\"quarantine\",\"quarantine\",\"quarantine\",\"quarantine\",\"quarantine\",\"quarantine\",\"quarantine\",\"quarantine\",\"quarantine\",\"quarantine\",\"quarantine\",\"quarantine\",\"quarantine\",\"quarantine\",\"quarantine\",\"quarantine\",\"quarantine\",\"quarantine\",\"quarantine\",\"quarantine\",\"quarantine\",\"quarantine\",\"quarantine\",\"quarantine\",\"quarantine\",\"quarantine\",\"quarantine\",\"quarantined\",\"quarantined\",\"quarantined\",\"quarantined\",\"quarantined\",\"quarantined\",\"quarantined\",\"quarantined\",\"quarantined\",\"quarantined\",\"quarantined\",\"quarantined\",\"quarantined\",\"quarantined\",\"quarantined\",\"quarantined\",\"quarantined\",\"quarantined\",\"quarantined\",\"quarantined\",\"quarantined\",\"quarantined\",\"quarantined\",\"radiation%20emergency\",\"radiation%20emergency\",\"radiation%20emergency\",\"radiation%20emergency\",\"rainstorm\",\"rainstorm\",\"rainstorm\",\"rainstorm\",\"rainstorm\",\"rainstorm\",\"rainstorm\",\"rainstorm\",\"rainstorm\",\"rainstorm\",\"rainstorm\",\"rainstorm\",\"rainstorm\",\"rainstorm\",\"rainstorm\",\"rainstorm\",\"razed\",\"razed\",\"razed\",\"razed\",\"refugees\",\"refugees\",\"refugees\",\"refugees\",\"refugees\",\"refugees\",\"refugees\",\"refugees\",\"refugees\",\"refugees\",\"refugees\",\"refugees\",\"refugees\",\"refugees\",\"rescue\",\"rescue\",\"rescue\",\"rescue\",\"rescue\",\"rescue\",\"rescue\",\"rescue\",\"rescue\",\"rescue\",\"rescue\",\"rescue\",\"rescue\",\"rescue\",\"rescue\",\"rescue\",\"rescue\",\"rescued\",\"rescued\",\"rescued\",\"rescued\",\"rescued\",\"rescued\",\"rescued\",\"rescued\",\"rescued\",\"rescued\",\"rescued\",\"rescued\",\"rescued\",\"rescued\",\"rescued\",\"rescued\",\"rescued\",\"rescued\",\"rescuers\",\"rescuers\",\"rescuers\",\"riot\",\"riot\",\"riot\",\"riot\",\"riot\",\"riot\",\"riot\",\"riot\",\"riot\",\"riot\",\"riot\",\"riot\",\"riot\",\"riot\",\"riot\",\"riot\",\"riot\",\"riot\",\"riot\",\"riot\",\"riot\",\"riot\",\"riot\",\"riot\",\"riot\",\"riot\",\"riot\",\"riot\",\"rioting\",\"rioting\",\"rioting\",\"rioting\",\"rioting\",\"rioting\",\"rioting\",\"rioting\",\"rioting\",\"rioting\",\"rioting\",\"rioting\",\"rubble\",\"rubble\",\"rubble\",\"rubble\",\"rubble\",\"rubble\",\"rubble\",\"rubble\",\"rubble\",\"rubble\",\"rubble\",\"rubble\",\"rubble\",\"rubble\",\"rubble\",\"rubble\",\"rubble\",\"rubble\",\"ruin\",\"ruin\",\"ruin\",\"ruin\",\"ruin\",\"ruin\",\"ruin\",\"ruin\",\"ruin\",\"ruin\",\"ruin\",\"ruin\",\"ruin\",\"ruin\",\"ruin\",\"ruin\",\"ruin\",\"ruin\",\"ruin\",\"ruin\",\"ruin\",\"ruin\",\"ruin\",\"ruin\",\"ruin\",\"ruin\",\"ruin\",\"ruin\",\"ruin\",\"ruin\",\"ruin\",\"ruin\",\"ruin\",\"ruin\",\"ruin\",\"ruin\",\"sandstorm\",\"sandstorm\",\"sandstorm\",\"sandstorm\",\"sandstorm\",\"sandstorm\",\"sandstorm\",\"sandstorm\",\"sandstorm\",\"screamed\",\"screamed\",\"screamed\",\"screamed\",\"screamed\",\"screamed\",\"screamed\",\"screamed\",\"screamed\",\"screamed\",\"screamed\",\"screamed\",\"screamed\",\"screamed\",\"screamed\",\"screamed\",\"screamed\",\"screamed\",\"screamed\",\"screamed\",\"screamed\",\"screamed\",\"screamed\",\"screamed\",\"screamed\",\"screamed\",\"screamed\",\"screamed\",\"screamed\",\"screamed\",\"screaming\",\"screaming\",\"screaming\",\"screaming\",\"screaming\",\"screaming\",\"screaming\",\"screaming\",\"screaming\",\"screaming\",\"screaming\",\"screaming\",\"screaming\",\"screaming\",\"screaming\",\"screaming\",\"screaming\",\"screaming\",\"screaming\",\"screaming\",\"screaming\",\"screaming\",\"screaming\",\"screaming\",\"screaming\",\"screaming\",\"screaming\",\"screaming\",\"screaming\",\"screaming\",\"screaming\",\"screaming\",\"screaming\",\"screaming\",\"screams\",\"screams\",\"screams\",\"screams\",\"screams\",\"screams\",\"screams\",\"screams\",\"screams\",\"screams\",\"screams\",\"screams\",\"screams\",\"screams\",\"screams\",\"screams\",\"screams\",\"screams\",\"screams\",\"screams\",\"screams\",\"screams\",\"screams\",\"screams\",\"screams\",\"screams\",\"screams\",\"screams\",\"screams\",\"screams\",\"seismic\",\"seismic\",\"seismic\",\"seismic\",\"seismic\",\"seismic\",\"seismic\",\"seismic\",\"seismic\",\"seismic\",\"seismic\",\"seismic\",\"seismic\",\"seismic\",\"seismic\",\"seismic\",\"sinkhole\",\"sinkhole\",\"sinkhole\",\"sinkhole\",\"sinkhole\",\"sinkhole\",\"sinkhole\",\"sinkhole\",\"sinkhole\",\"sinkhole\",\"sinkhole\",\"sinkhole\",\"sinking\",\"sinking\",\"sinking\",\"sinking\",\"sinking\",\"sinking\",\"sinking\",\"sinking\",\"sinking\",\"sinking\",\"sinking\",\"sinking\",\"sinking\",\"sinking\",\"sinking\",\"sinking\",\"sinking\",\"sinking\",\"sinking\",\"sinking\",\"sinking\",\"sinking\",\"sinking\",\"sinking\",\"sinking\",\"sinking\",\"sinking\",\"sinking\",\"sinking\",\"sinking\",\"sinking\",\"sinking\",\"sinking\",\"siren\",\"siren\",\"siren\",\"siren\",\"siren\",\"siren\",\"siren\",\"siren\",\"siren\",\"siren\",\"siren\",\"siren\",\"siren\",\"siren\",\"siren\",\"siren\",\"siren\",\"siren\",\"siren\",\"siren\",\"siren\",\"siren\",\"siren\",\"siren\",\"siren\",\"siren\",\"siren\",\"siren\",\"siren\",\"siren\",\"siren\",\"siren\",\"siren\",\"siren\",\"siren\",\"sirens\",\"sirens\",\"sirens\",\"sirens\",\"sirens\",\"sirens\",\"sirens\",\"sirens\",\"sirens\",\"sirens\",\"sirens\",\"sirens\",\"sirens\",\"sirens\",\"sirens\",\"sirens\",\"sirens\",\"sirens\",\"sirens\",\"sirens\",\"sirens\",\"sirens\",\"smoke\",\"smoke\",\"smoke\",\"smoke\",\"smoke\",\"smoke\",\"smoke\",\"smoke\",\"smoke\",\"smoke\",\"smoke\",\"smoke\",\"smoke\",\"smoke\",\"smoke\",\"smoke\",\"smoke\",\"smoke\",\"smoke\",\"smoke\",\"smoke\",\"smoke\",\"smoke\",\"smoke\",\"smoke\",\"smoke\",\"smoke\",\"smoke\",\"smoke\",\"smoke\",\"smoke\",\"snowstorm\",\"snowstorm\",\"snowstorm\",\"snowstorm\",\"snowstorm\",\"snowstorm\",\"snowstorm\",\"snowstorm\",\"snowstorm\",\"snowstorm\",\"snowstorm\",\"snowstorm\",\"snowstorm\",\"snowstorm\",\"snowstorm\",\"snowstorm\",\"storm\",\"storm\",\"storm\",\"storm\",\"storm\",\"storm\",\"storm\",\"storm\",\"storm\",\"storm\",\"storm\",\"storm\",\"storm\",\"storm\",\"storm\",\"storm\",\"storm\",\"stretcher\",\"stretcher\",\"stretcher\",\"stretcher\",\"stretcher\",\"stretcher\",\"stretcher\",\"stretcher\",\"stretcher\",\"stretcher\",\"stretcher\",\"stretcher\",\"stretcher\",\"stretcher\",\"stretcher\",\"stretcher\",\"stretcher\",\"stretcher\",\"stretcher\",\"stretcher\",\"stretcher\",\"stretcher\",\"stretcher\",\"stretcher\",\"stretcher\",\"stretcher\",\"stretcher\",\"stretcher\",\"stretcher\",\"stretcher\",\"structural%20failure\",\"structural%20failure\",\"structural%20failure\",\"structural%20failure\",\"structural%20failure\",\"structural%20failure\",\"structural%20failure\",\"structural%20failure\",\"structural%20failure\",\"structural%20failure\",\"structural%20failure\",\"structural%20failure\",\"suicide%20bomb\",\"suicide%20bomb\",\"suicide%20bomb\",\"suicide%20bomber\",\"suicide%20bombing\",\"sunk\",\"sunk\",\"sunk\",\"sunk\",\"sunk\",\"sunk\",\"sunk\",\"sunk\",\"sunk\",\"sunk\",\"sunk\",\"sunk\",\"sunk\",\"sunk\",\"sunk\",\"sunk\",\"sunk\",\"sunk\",\"sunk\",\"sunk\",\"sunk\",\"sunk\",\"sunk\",\"sunk\",\"sunk\",\"sunk\",\"sunk\",\"sunk\",\"sunk\",\"sunk\",\"survive\",\"survive\",\"survive\",\"survive\",\"survive\",\"survive\",\"survive\",\"survive\",\"survive\",\"survive\",\"survive\",\"survive\",\"survive\",\"survive\",\"survive\",\"survive\",\"survive\",\"survive\",\"survive\",\"survive\",\"survive\",\"survive\",\"survive\",\"survive\",\"survive\",\"survive\",\"survive\",\"survived\",\"survived\",\"survived\",\"survived\",\"survived\",\"survived\",\"survived\",\"survived\",\"survived\",\"survived\",\"survived\",\"survived\",\"survived\",\"survived\",\"survived\",\"survived\",\"survived\",\"survived\",\"survived\",\"survived\",\"survived\",\"survived\",\"survived\",\"survivors\",\"survivors\",\"survivors\",\"survivors\",\"survivors\",\"survivors\",\"survivors\",\"survivors\",\"survivors\",\"terrorism\",\"terrorism\",\"terrorism\",\"terrorism\",\"terrorism\",\"terrorism\",\"terrorism\",\"terrorism\",\"terrorism\",\"terrorism\",\"terrorist\",\"terrorist\",\"terrorist\",\"terrorist\",\"terrorist\",\"terrorist\",\"terrorist\",\"terrorist\",\"threat\",\"threat\",\"threat\",\"threat\",\"threat\",\"threat\",\"threat\",\"threat\",\"threat\",\"thunder\",\"thunder\",\"thunder\",\"thunder\",\"thunder\",\"thunder\",\"thunder\",\"thunder\",\"thunder\",\"thunder\",\"thunder\",\"thunder\",\"thunder\",\"thunder\",\"thunder\",\"thunder\",\"thunder\",\"thunder\",\"thunder\",\"thunder\",\"thunder\",\"thunder\",\"thunder\",\"thunder\",\"thunder\",\"thunder\",\"thunderstorm\",\"thunderstorm\",\"thunderstorm\",\"thunderstorm\",\"thunderstorm\",\"thunderstorm\",\"thunderstorm\",\"tornado\",\"tornado\",\"tornado\",\"tornado\",\"tornado\",\"tornado\",\"tornado\",\"tornado\",\"tornado\",\"tornado\",\"tornado\",\"tornado\",\"tornado\",\"tornado\",\"tornado\",\"tornado\",\"tornado\",\"tornado\",\"tornado\",\"tragedy\",\"tragedy\",\"tragedy\",\"tragedy\",\"tragedy\",\"tragedy\",\"tragedy\",\"tragedy\",\"tragedy\",\"tragedy\",\"tragedy\",\"tragedy\",\"tragedy\",\"tragedy\",\"trapped\",\"trapped\",\"trapped\",\"trapped\",\"trapped\",\"trapped\",\"trapped\",\"trapped\",\"trapped\",\"trapped\",\"trapped\",\"trapped\",\"trapped\",\"trapped\",\"trapped\",\"trapped\",\"trapped\",\"trapped\",\"trapped\",\"trapped\",\"trapped\",\"trapped\",\"trapped\",\"trauma\",\"trauma\",\"trauma\",\"trauma\",\"trauma\",\"trauma\",\"trauma\",\"trauma\",\"trauma\",\"trauma\",\"trauma\",\"trauma\",\"trauma\",\"trauma\",\"trauma\",\"trauma\",\"trauma\",\"trauma\",\"trauma\",\"trauma\",\"traumatised\",\"traumatised\",\"traumatised\",\"traumatised\",\"traumatised\",\"traumatised\",\"traumatised\",\"traumatised\",\"traumatised\",\"traumatised\",\"traumatised\",\"traumatised\",\"traumatised\",\"traumatised\",\"traumatised\",\"traumatised\",\"traumatised\",\"traumatised\",\"traumatised\",\"traumatised\",\"traumatised\",\"traumatised\",\"traumatised\",\"traumatised\",\"traumatised\",\"traumatised\",\"traumatised\",\"traumatised\",\"traumatised\",\"traumatised\",\"traumatised\",\"traumatised\",\"traumatised\",\"trouble\",\"trouble\",\"trouble\",\"trouble\",\"trouble\",\"trouble\",\"trouble\",\"trouble\",\"trouble\",\"trouble\",\"trouble\",\"trouble\",\"trouble\",\"trouble\",\"trouble\",\"trouble\",\"trouble\",\"trouble\",\"trouble\",\"trouble\",\"trouble\",\"trouble\",\"trouble\",\"trouble\",\"trouble\",\"trouble\",\"trouble\",\"trouble\",\"tsunami\",\"tsunami\",\"tsunami\",\"tsunami\",\"tsunami\",\"tsunami\",\"tsunami\",\"tsunami\",\"tsunami\",\"tsunami\",\"tsunami\",\"tsunami\",\"tsunami\",\"tsunami\",\"tsunami\",\"tsunami\",\"tsunami\",\"tsunami\",\"tsunami\",\"tsunami\",\"tsunami\",\"tsunami\",\"tsunami\",\"twister\",\"twister\",\"twister\",\"twister\",\"twister\",\"twister\",\"twister\",\"twister\",\"twister\",\"twister\",\"twister\",\"twister\",\"twister\",\"twister\",\"twister\",\"twister\",\"twister\",\"twister\",\"twister\",\"twister\",\"twister\",\"twister\",\"twister\",\"twister\",\"twister\",\"twister\",\"twister\",\"twister\",\"twister\",\"twister\",\"twister\",\"twister\",\"twister\",\"twister\",\"twister\",\"typhoon\",\"upheaval\",\"upheaval\",\"upheaval\",\"upheaval\",\"upheaval\",\"upheaval\",\"upheaval\",\"upheaval\",\"upheaval\",\"upheaval\",\"upheaval\",\"upheaval\",\"upheaval\",\"upheaval\",\"upheaval\",\"upheaval\",\"upheaval\",\"upheaval\",\"upheaval\",\"upheaval\",\"upheaval\",\"upheaval\",\"upheaval\",\"upheaval\",\"upheaval\",\"upheaval\",\"upheaval\",\"upheaval\",\"upheaval\",\"upheaval\",\"upheaval\",\"upheaval\",\"violent%20storm\",\"violent%20storm\",\"violent%20storm\",\"violent%20storm\",\"violent%20storm\",\"violent%20storm\",\"violent%20storm\",\"volcano\",\"volcano\",\"volcano\",\"volcano\",\"volcano\",\"volcano\",\"volcano\",\"volcano\",\"volcano\",\"war%20zone\",\"war%20zone\",\"war%20zone\",\"war%20zone\",\"war%20zone\",\"war%20zone\",\"war%20zone\",\"war%20zone\",\"war%20zone\",\"war%20zone\",\"war%20zone\",\"war%20zone\",\"war%20zone\",\"war%20zone\",\"war%20zone\",\"war%20zone\",\"war%20zone\",\"weapon\",\"weapon\",\"weapon\",\"weapon\",\"weapon\",\"weapon\",\"weapon\",\"weapon\",\"weapon\",\"weapon\",\"weapon\",\"weapon\",\"weapon\",\"weapon\",\"weapon\",\"weapon\",\"weapon\",\"weapon\",\"weapon\",\"weapon\",\"weapon\",\"weapon\",\"weapon\",\"weapon\",\"weapon\",\"weapons\",\"weapons\",\"weapons\",\"weapons\",\"weapons\",\"weapons\",\"weapons\",\"weapons\",\"weapons\",\"weapons\",\"weapons\",\"weapons\",\"weapons\",\"weapons\",\"weapons\",\"weapons\",\"weapons\",\"weapons\",\"weapons\",\"weapons\",\"weapons\",\"weapons\",\"whirlwind\",\"whirlwind\",\"whirlwind\",\"whirlwind\",\"whirlwind\",\"whirlwind\",\"whirlwind\",\"whirlwind\",\"whirlwind\",\"whirlwind\",\"whirlwind\",\"whirlwind\",\"whirlwind\",\"whirlwind\",\"whirlwind\",\"whirlwind\",\"whirlwind\",\"whirlwind\",\"whirlwind\",\"whirlwind\",\"whirlwind\",\"whirlwind\",\"whirlwind\",\"whirlwind\",\"whirlwind\",\"wild%20fires\",\"wild%20fires\",\"wild%20fires\",\"wild%20fires\",\"wildfire\",\"wildfire\",\"wildfire\",\"wildfire\",\"windstorm\",\"windstorm\",\"windstorm\",\"windstorm\",\"windstorm\",\"windstorm\",\"windstorm\",\"windstorm\",\"windstorm\",\"windstorm\",\"windstorm\",\"windstorm\",\"windstorm\",\"windstorm\",\"windstorm\",\"windstorm\",\"windstorm\",\"windstorm\",\"windstorm\",\"windstorm\",\"windstorm\",\"windstorm\",\"windstorm\",\"windstorm\",\"wounded\",\"wounded\",\"wounded\",\"wounded\",\"wounded\",\"wounded\",\"wounded\",\"wounded\",\"wounded\",\"wounded\",\"wounded\",\"wounds\",\"wounds\",\"wounds\",\"wounds\",\"wounds\",\"wounds\",\"wounds\",\"wounds\",\"wounds\",\"wounds\",\"wounds\",\"wounds\",\"wounds\",\"wounds\",\"wounds\",\"wounds\",\"wounds\",\"wounds\",\"wounds\",\"wounds\",\"wounds\",\"wounds\",\"wounds\",\"wreck\",\"wreck\",\"wreck\",\"wreck\",\"wreck\",\"wreck\",\"wreck\",\"wreck\",\"wreck\",\"wreck\",\"wreck\",\"wreck\",\"wreck\",\"wreck\",\"wreck\",\"wreck\",\"wreck\",\"wreck\",\"wreck\",\"wreck\",\"wreck\",\"wreck\",\"wreck\",\"wreck\",\"wreck\",\"wreck\",\"wreck\",\"wreck\",\"wreck\",\"wreck\",\"wrecked\",\"wrecked\",\"wrecked\",\"wrecked\",\"wrecked\",\"wrecked\",\"wrecked\",\"wrecked\",\"wrecked\",\"wrecked\",\"wrecked\",\"wrecked\",\"wrecked\",\"wrecked\",\"wrecked\",\"wrecked\",\"wrecked\",\"wrecked\",\"wrecked\",\"wrecked\",\"wrecked\",\"wrecked\",\"wrecked\",\"wrecked\",\"wrecked\",\"wrecked\",\"wrecked\",\"wrecked\",\"wrecked\",\"wrecked\",\"wrecked\",\"wrecked\",\"wrecked\",\"wrecked\",\"wrecked\",\"wrecked\",null,null,null],\"xaxis\":\"x\",\"y\":[3,3,3,5,3,3,4,2,4,1,6,5,3,2,4,2,10,7,13,21,5,8,11,24,6,14,16,10,8,27,18,15,22,24,17,18,15,10,19,27,18,14,12,9,27,17,6,22,10,20,8,20,16,11,16,8,24,11,11,11,18,2,16,16,16,9,16,16,21,16,23,8,16,19,26,16,27,11,5,2,21,19,14,18,14,13,22,13,21,9,13,13,13,5,11,13,21,14,13,13,22,9,9,12,11,18,13,17,19,6,13,19,16,14,17,4,13,13,17,24,15,9,21,14,13,22,20,23,22,7,21,6,19,12,19,17,20,6,14,19,23,22,21,18,23,19,9,13,19,10,7,16,2,17,20,8,12,5,18,23,18,20,13,16,17,16,17,21,14,11,23,19,16,16,11,5,8,11,14,12,15,16,21,22,19,15,16,16,15,2,23,16,20,16,16,18,24,9,6,20,5,16,13,9,12,18,24,11,12,11,12,13,10,10,12,19,18,14,8,18,12,28,14,11,12,11,11,24,20,11,10,11,10,20,20,20,12,11,13,6,4,13,4,19,13,4,15,13,9,16,7,4,11,4,14,14,17,9,12,4,14,18,6,14,2,9,15,18,5,12,8,8,20,18,12,11,16,19,13,27,7,24,8,12,3,8,22,4,5,20,24,12,4,22,21,15,17,12,9,13,12,6,15,16,10,21,15,15,15,12,16,19,18,9,15,16,17,17,18,11,6,14,11,15,8,13,20,14,21,14,21,21,8,12,10,12,11,11,4,22,9,5,18,19,13,20,10,16,14,11,16,16,20,15,13,15,10,14,11,14,15,18,21,15,4,16,20,17,4,15,3,8,14,26,5,5,21,11,8,8,17,3,18,19,17,10,13,24,11,5,11,20,15,10,12,16,14,12,21,14,9,7,14,8,11,19,20,20,13,18,11,20,7,12,15,14,19,15,5,19,21,21,12,3,18,6,24,17,17,5,12,20,22,23,12,17,9,12,12,14,13,20,25,15,15,15,7,10,11,24,5,11,7,13,18,28,13,9,9,14,17,18,7,5,12,16,8,10,13,10,20,18,25,21,26,17,10,9,15,23,6,8,21,24,9,26,4,17,5,5,13,19,20,13,5,6,23,14,23,25,2,3,26,12,11,11,22,10,15,10,20,13,21,11,7,5,14,12,21,9,26,19,26,24,20,7,4,22,7,14,6,23,21,16,2,17,2,7,8,4,10,11,22,11,7,5,8,7,12,4,8,6,6,7,9,9,10,13,28,3,4,12,13,25,18,17,19,8,14,25,13,14,5,13,18,14,5,7,11,18,11,11,3,13,19,5,13,21,6,20,8,7,5,18,14,9,15,11,18,11,18,18,19,26,3,5,28,18,20,26,10,23,5,8,21,5,14,17,16,12,17,10,22,23,24,9,5,6,22,9,10,26,18,17,19,17,18,20,22,16,14,19,17,22,28,6,11,7,11,20,18,18,31,25,18,17,17,11,16,20,18,13,18,28,18,18,15,16,13,18,17,18,13,14,16,17,20,17,16,11,18,23,20,12,6,18,27,11,7,5,5,23,14,12,19,11,15,21,14,11,22,25,27,20,11,21,22,13,9,12,19,9,15,12,9,10,14,20,3,26,21,12,23,14,13,6,10,19,22,3,16,14,14,14,8,12,13,26,10,9,8,21,15,18,13,6,18,13,19,15,20,12,11,6,7,15,9,9,6,17,10,6,9,9,6,8,17,25,6,24,5,10,8,4,22,21,4,18,9,22,20,16,9,25,11,8,7,4,8,11,16,26,22,19,17,16,12,7,23,17,9,22,14,14,14,23,10,14,19,20,17,16,25,15,24,27,3,6,21,22,25,24,11,19,8,15,10,9,26,14,16,7,22,19,13,14,20,11,11,16,18,17,20,16,8,9,17,13,6,17,27,13,13,9,9,18,8,14,16,17,14,27,11,17,22,21,23,20,29,19,20,23,23,19,21,19,14,19,20,20,16,18,22,19,20,17,26,22,22,13,7,9,16,20,17,16,5,17,11,18,15,7,23,10,3,13,4,11,7,10,17,25,13,13,20,8,22,13,19,16,3,14,18,18,14,14,17,13,12,9,10,25,26,24,15,13,13,12,19,22,15,14,9,21,19,19,24,20,10,20,11,20,14,20,19,18,11,17,18,15,22,12,17,17,13,19,22,21,18,10,10,21,26,11,11,12,12,17,9,23,7,19,25,14,7,9,12,12,13,28,10,16,22,23,24,21,9,18,11,20,19,19,17,12,12,14,10,10,13,24,28,11,12,13,14,21,18,21,13,17,23,15,7,19,9,20,21,20,26,6,24,21,14,13,9,11,3,19,19,7,16,19,7,14,18,19,9,8,9,11,8,17,6,16,22,18,10,12,27,11,12,21,15,17,11,21,7,19,15,17,24,13,17,21,15,17,13,16,25,4,11,28,22,17,17,12,6,16,10,9,12,6,14,6,20,18,11,11,17,14,14,9,16,4,7,25,6,20,20,17,12,7,10,11,10,15,12,24,11,17,6,19,15,6,26,21,18,24,13,18,5,14,20,4,12,8,5,6,11,11,5,5,9,12,9,17,23,10,12,7,8,12,5,17,6,5,9,17,15,6,18,5,1,7,5,6,3,12,20,3,5,6,14,11,18,13,8,17,5,7,11,9,17,9,14,22,10,9,19,9,5,8,27,12,17,7,10,7,27,13,9,18,6,10,15,5,26,15,10,22,27,25,27,28,9,6,19,8,30,14,12,6,17,22,21,20,5,15,6,18,13,9,15,17,18,10,18,16,5,25,8,13,10,12,28,11,23,19,25,5,13,20,20,14,7,9,23,25,5,15,15,22,18,22,12,24,11,18,7,14,13,15,24,12,12,10,22,15,21,23,10,17,21,26,8,19,14,18,14,19,16,6,17,18,28,8,6,26,28,14,13,5,28,12,4,18,9,30,24,6,11,16,12,21,4,13,24,12,16,5,5,13,5,8,26,6,12,22,14,8,13,13,10,7,26,22,21,17,8,21,3,22,23,25,16,21,13,15,16,23,7,24,17,12,22,19,5,13,22,23,23,15,9,12,16,22,12,14,19,21,15,7,23,17,14,24,20,23,10,20,24,20,14,15,25,26,23,24,24,24,26,12,16,24,25,24,18,12,25,25,18,25,11,15,21,10,17,22,9,8,11,13,20,10,9,7,20,17,21,8,9,7,10,17,17,24,24,25,19,23,12,11,5,13,17,15,23,8,10,20,9,14,5,20,13,20,11,20,7,5,9,16,13,15,10,11,17,9,11,21,5,19,6,6,23,16,19,22,17,9,18,8,14,14,19,14,9,16,26,24,26,25,17,21,17,26,26,21,17,8,11,21,26,22,11,18,17,15,9,25,16,25,7,17,19,12,15,22,18,22,13,15,13,24,18,10,22,23,14,20,22,2,11,21,17,20,9,18,10,14,14,17,18,12,19,14,20,13,16,15,14,17,19,18,24,27,23,14,17,14,21,20,14,9,15,6,17,24,7,15,20,10,13,14,19,17,12,15,13,14,23,6,14,18,21,16,12,10,3,8,22,23,10,5,23,21,25,11,14,19,23,18,4,3,15,19,19,23,19,14,7,21,14,23,19,16,15,19,19,16,19,18,16,8,17,16,12,18,12,12,7,9,21,4,17,16,10,16,7,16,6,22,20,6,5,24,16,5,8,18,7,15,18,9,18,8,11,19,7,9,6,8,18,13,7,7,11,9,14,24,18,11,7,18,16,12,9,8,8,13,22,12,9,9,9,9,8,17,8,11,11,11,12,11,9,11,12,8,20,5,19,11,16,16,14,3,10,4,3,11,23,20,22,17,20,8,17,16,14,10,9,4,20,10,3,8,29,7,9,6,23,10,11,11,23,27,10,24,14,15,24,18,23,15,11,9,14,18,18,14,18,9,8,17,13,18,18,26,18,9,24,12,14,3,16,9,15,11,9,8,19,10,21,6,9,8,23,13,11,25,24,17,24,13,10,23,21,24,11,16,6,13,23,18,22,14,16,7,14,9,11,25,20,23,15,4,18,16,16,5,17,17,16,12,23,17,6,5,12,10,16,11,18,8,17,22,5,21,25,4,14,18,9,12,26,17,25,12,14,17,19,16,20,19,14,15,16,7,21,6,18,16,18,18,3,4,9,26,8,22,21,20,9,2,4,10,7,11,10,8,26,9,16,23,17,13,5,19,6,25,13,22,13,6,17,13,15,19,10,27,11,21,7,19,10,16,17,11,25,21,11,23,16,7,17,22,14,18,10,18,2,16,17,17,13,18,16,26,17,6,15,15,24,17,15,11,16,18,19,17,6,16,17,12,24,18,11,11,12,8,17,17,18,14,20,18,11,20,19,12,12,15,20,15,18,22,17,20,19,18,15,15,20,22,17,18,23,20,8,12,23,6,12,8,21,12,23,23,22,15,12,23,12,17,14,12,13,8,13,14,8,17,10,16,24,16,10,24,7,7,15,14,14,24,8,17,4,15,20,25,14,20,14,11,21,18,19,12,20,21,19,10,24,12,18,7,25,18,19,10,20,24,13,10,7,19,24,21,13,5,24,5,11,24,20,13,20,24,14,5,24,13,5,5,11,20,23,19,19,29,10,10,14,27,21,21,10,8,6,8,17,14,22,5,22,21,8,11,24,24,16,14,13,14,18,16,16,11,12,16,16,18,17,26,15,16,16,20,20,14,6,6,16,21,20,21,12,14,18,16,16,14,8,18,20,16,15,16,21,8,15,23,8,16,22,20,20,11,10,8,17,13,10,11,7,12,7,11,11,19,9,21,10,2,18,13,18,12,15,5,19,19,8,8,15,9,11,19,7,21,9,17,16,7,9,22,21,9,1,1,21,2,8,13,12,7,4,2,23,3,4,13,3,11,11,21,18,22,2,17,6,12,20,14,29,11,16,20,17,7,26,17,20,4,20,22,4,12,13,14,7,8,22,15,18,15,23,19,7,22,26,18,17,4,17,14,14,21,9,7,8,6,11,9,3,4,20,12,21,9,6,7,15,19,6,20,15,15,17,4,12,12,24,15,8,29,22,16,12,8,6,16,13,14,10,18,19,19,26,22,12,20,11,20,15,14,15,14,11,14,17,17,11,5,14,22,4,10,11,9,10,11,17,11,30,7,25,19,10,6,18,19,17,17,19,11,7,17,18,5,8,8,2,9,22,20,16,11,5,19,20,10,4,23,19,22,22,19,3,6,24,17,19,17,19,17,20,20,26,19,20,4,20,10,21,16,21,20,20,20,20,20,24,20,20,24,16,10,25,15,10,19,17,9,9,18,8,24,20,26,22,18,13,17,21,23,17,23,15,28,9,21,28,15,14,14,11,8,10,11,21,7,14,14,18,23,12,5,7,4,15,19,6,4,20,6,16,13,17,4,16,13,17,17,13,21,6,23,25,14,11,20,24,17,13,28,19,24,5,22,13,14,15,7,22,16,16,6,12,20,24,28,28,11,9,18,23,18,17,12,12,20,7,4,18,14,11,24,15,6,13,15,18,9,16,25,21,15,16,13,8,10,15,15,13,24,13,7,12,11,16,8,15,21,21,28,8,9,14,28,24,17,6,13,15,20,21,18,7,20,22,16,22,17,21,7,22,21,21,17,26,8,11,15,22,25,16,28,21,22,22,17,17,22,21,16,5,10,22,18,21,15,19,10,24,11,12,17,19,15,4,16,3,20,21,20,20,14,13,9,9,7,14,9,9,15,10,12,13,18,13,9,13,19,16,16,16,16,16,16,16,10,16,16,23,16,16,16,26,16,17,16,22,5,12,19,9,31,11,15,23,20,13,18,6,17,12,9,18,12,14,20,19,19,16,18,12,16,8,5,6,16,14,11,12,16,5,9,12,16,8,16,3,25,9,13,16,10,6,24,9,18,4,17,10,8,13,16,24,19,20,21,8,23,11,19,25,15,14,22,15,15,11,9,21,11,13,8,10,16,13,13,16,27,16,25,15,22,15,13,27,18,11,10,13,14,9,7,14,26,16,10,19,16,23,11,19,9,18,22,24,19,17,13,22,13,23,22,20,21,9,22,21,14,18,22,27,5,18,18,23,18,21,25,26,16,24,14,16,10,9,6,8,21,7,9,7,20,17,23,8,17,18,24,16,24,8,8,22,26,9,24,10,16,15,9,25,21,18,19,10,12,15,5,5,9,25,6,19,14,4,20,3,19,7,25,25,19,6,16,19,20,14,20,10,16,4,15,20,14,9,7,12,4,22,15,20,24,24,10,7,24,24,24,24,26,22,27,15,24,26,14,24,24,24,23,24,28,11,27,24,16,24,18,14,12,20,18,22,5,23,23,25,9,20,20,11,21,15,11,22,4,19,14,23,2,4,22,11,24,13,22,8,17,10,14,10,15,13,15,18,3,7,21,21,6,14,10,17,15,9,17,18,21,14,11,15,16,11,21,26,14,6,14,17,22,9,7,25,15,15,23,23,26,10,15,11,14,5,11,24,15,5,6,23,1,13,13,19,15,13,25,12,11,11,19,17,12,18,13,13,23,19,13,13,18,13,13,12,31,18,17,16,23,11,12,16,6,12,17,17,9,11,20,11,25,9,9,17,19,16,9,6,6,5,13,10,7,9,12,15,20,10,20,17,25,15,19,12,16,22,17,16,10,20,9,22,14,1,16,10,12,17,21,7,18,11,18,13,7,11,6,7,12,14,15,9,17,10,13,22,20,18,20,11,25,6,19,8,14,10,12,5,12,9,18,11,20,25,14,13,23,13,13,24,13,21,11,8,1,13,12,5,18,20,16,11,14,20,22,20,25,5,11,5,13,9,10,11,11,19,26,10,6,13,14,11,13,27,19,23,9,9,16,16,7,10,9,17,20,26,26,9,15,11,10,11,22,20,6,23,5,15,20,24,18,17,13,11,3,11,11,17,12,11,12,16,12,15,9,12,11,12,12,12,12,10,18,8,12,3,7,13,24,27,9,11,20,7,8,28,16,19,13,19,13,19,22,14,14,28,25,20,3,15,10,17,25,12,16,28,18,6,6,23,11,9,10,14,12,5,18,20,10,13,8,13,24,18,18,8,14,24,7,9,21,16,11,6,20,15,8,7,11,17,13,25,12,10,16,15,16,16,17,6,11,18,23,26,17,19,7,10,11,13,22,9,14,11,9,7,12,17,17,9,9,11,19,8,17,17,11,17,7,7,7,11,21,7,7,16,29,15,16,17,17,14,10,15,9,12,16,15,16,26,24,17,15,25,16,23,16,17,9,21,17,9,21,6,13,12,23,15,16,19,14,3,9,23,6,26,19,16,11,20,19,14,16,12,19,19,14,15,11,20,16,16,21,7,16,20,7,12,18,25,12,13,7,9,12,12,21,14,11,7,10,13,12,29,19,11,19,7,21,9,11,16,20,20,20,11,11,23,26,19,16,10,21,20,21,11,13,15,13,12,16,18,20,15,17,13,14,19,16,14,11,21,20,16,24,16,14,23,16,11,13,8,23,8,12,19,18,15,16,5,12,11,20,8,19,20,23,16,25,18,13,19,20,11,14,20,7,14,13,20,7,13,23,14,4,8,27,8,11,13,5,23,17,18,6,17,11,14,15,13,20,8,20,15,10,7,21,8,18,7,11,17,12,26,14,23,8,10,11,25,9,11,12,4,5,10,10,11,15,22,11,11,20,23,7,14,14,26,19,14,20,15,20,21,27,23,26,11,10,7,6,24,8,15,9,4,24,10,16,8,26,5,2,5,19,4,6,9,12,20,8,3,2,10,21,18,22,16,8,8,5,11,20,24,3,7,4,6,9,29,5,7,3,20,5,2,2,26,23,17,13,7,9,5,6,14,2,14,11,9,16,15,8,12,10,23,9,7,16,3,6,22,23,19,14,15,15,18,12,13,18,17,7,20,12,23,12,16,25,14,15,22,11,15,15,15,13,19,11,15,14,24,24,15,13,21,25,10,25,13,12,8,13,25,18,13,24,17,17,12,9,26,25,28,16,17,22,14,15,5,9,14,16,11,22,3,4,14,4,24,22,15,11,11,18,6,27,12,9,9,14,27,20,20,11,28,9,12,8,5,7,24,26,7,12,20,14,24,14,13,4,10,3,6,17,10,17,3,17,4,12,11,16,15,10,13,7,15,14,11,9,10,4,9,27,20,20,12,19,5,15,7,20,16,8,5,11,13,20,7,9,17,4,22,14,3,14,24,17,10,9,28,26,19,10,13,16,14,17,13,10,27,19,17,28,22,3,18,6,17,21,14,15,11,17,20,2,6,15,12,10,14,17,17,12,15,10,24,19,14,13,7,15,7,11,9,7,12,12,4,8,9,19,7,12,14,14,8,15,19,13,14,8,16,12,15,17,11,22,20,20,19,6,17,20,22,25,4,19,15,15,17,12,25,15,12,21,15,22,22,7,12,22,24,19,24,10,11,25,9,10,27,21,27,20,7,11,23,27,11,14,15,18,13,15,12,16,14,6,10,16,15,22,15,15,28,11,17,17,2,24,17,7,21,7,11,16,19,22,21,27,6,10,21,12,10,13,12,18,11,18,8,15,10,20,27,19,20,14,6,8,4,25,15,14,23,13,21,12,13,13,15,7,14,19,14,17,13,10,3,4,13,4,12,11,14,16,17,11,23,11,18,12,23,13,17,6,6,15,4,7,13,5,17,4,11,4,12,11,11,16,13,23,8,8,3,7,16,19,6,1,10,9,16,9,24,18,18,5,16,4,12,8,6,15,13,18,26,9,15,15,19,3,12,9,15,20,17,15,14,5,19,17,12,12,24,19,30,21,12,21,11,6,17,11,17,10,22,9,11,19,8,24,17,9,24,4,19,17,12,11,20,17,9,9,17,15,21,22,8,9,9,22,20,14,14,12,23,10,15,25,25,12,26,21,20,18,14,3,15,9,12,20,4,5,20,11,9,4,21,6,3,15,20,14,20,21,21,15,25,12,21,8,14,13,5,12,15,13,12,17,17,23,3,9,9,18,13,16,12,25,9,8,9,17,23,18,18,13,11,16,26,11,26,9,8,5,19,11,6,12,16,10,12,16,4,21,11,5,8,4,21,16,23,16,6,19,4,4,16,22,10,11,18,9,4,9,26,8,22,10,23,14,14,10,11,8,3,20,18,9,29,10,10,13,9,7,23,6,22,12,17,20,21,9,21,11,19,4,11,18,16,19,18,10,22,10,22,11,11,9,17,14,13,9,9,16,12,17,9,21,23,8,11,16,17,21,15,16,15,11,16,24,27,18,20,17,20,25,18,7,6,17,22,17,17,7,13,12,14,10,20,10,20,11,27,16,9,19,11,27,16,15,4,26,3,20,15,14,14,16,9,6,11,19,7,18,23,8,21,18,25,7,2,11,19,20,16,13,17,19,17,9,4,22,16,18,15,19,18,17,19,18,23,22,11,19,24,28,7,19,26,16,12,20,15,23,6,17,14,18,17,10,28,3,27,14,16,8,22,9,23,26,22,14,25,21,19,16,8,20,18,12,10,13,8,11,19,16,14,11,11,7,24,15,23,8,8,12,18,13,23,18,12,11,19,16,25,14,7,9,23,16,21,26,11,10,14,21,24,11,16,22,8,3,25,28,13,13,14,22,24,16,9,13,16,25,22,14,4,24,13,16,11,17,14,23,14,16,22,19,7,25,6,15,18,19,26,13,19,18,10,17,28,22,7,13,6,16,22,16,20,18,10,14,10,12,11,10,8,16,3,7,5,5,5,21,9,10,2,24,16,11,12,11,9,7,7,21,7,20,12,13,11,13,2,12],\"yaxis\":\"y\"}],                        {\"barmode\":\"relative\",\"legend\":{\"title\":{\"text\":\"class\"},\"tracegroupgap\":0},\"template\":{\"data\":{\"bar\":[{\"error_x\":{\"color\":\"#2a3f5f\"},\"error_y\":{\"color\":\"#2a3f5f\"},\"marker\":{\"line\":{\"color\":\"#E5ECF6\",\"width\":0.5},\"pattern\":{\"fillmode\":\"overlay\",\"size\":10,\"solidity\":0.2}},\"type\":\"bar\"}],\"barpolar\":[{\"marker\":{\"line\":{\"color\":\"#E5ECF6\",\"width\":0.5},\"pattern\":{\"fillmode\":\"overlay\",\"size\":10,\"solidity\":0.2}},\"type\":\"barpolar\"}],\"carpet\":[{\"aaxis\":{\"endlinecolor\":\"#2a3f5f\",\"gridcolor\":\"white\",\"linecolor\":\"white\",\"minorgridcolor\":\"white\",\"startlinecolor\":\"#2a3f5f\"},\"baxis\":{\"endlinecolor\":\"#2a3f5f\",\"gridcolor\":\"white\",\"linecolor\":\"white\",\"minorgridcolor\":\"white\",\"startlinecolor\":\"#2a3f5f\"},\"type\":\"carpet\"}],\"choropleth\":[{\"colorbar\":{\"outlinewidth\":0,\"ticks\":\"\"},\"type\":\"choropleth\"}],\"contour\":[{\"colorbar\":{\"outlinewidth\":0,\"ticks\":\"\"},\"colorscale\":[[0.0,\"#0d0887\"],[0.1111111111111111,\"#46039f\"],[0.2222222222222222,\"#7201a8\"],[0.3333333333333333,\"#9c179e\"],[0.4444444444444444,\"#bd3786\"],[0.5555555555555556,\"#d8576b\"],[0.6666666666666666,\"#ed7953\"],[0.7777777777777778,\"#fb9f3a\"],[0.8888888888888888,\"#fdca26\"],[1.0,\"#f0f921\"]],\"type\":\"contour\"}],\"contourcarpet\":[{\"colorbar\":{\"outlinewidth\":0,\"ticks\":\"\"},\"type\":\"contourcarpet\"}],\"heatmap\":[{\"colorbar\":{\"outlinewidth\":0,\"ticks\":\"\"},\"colorscale\":[[0.0,\"#0d0887\"],[0.1111111111111111,\"#46039f\"],[0.2222222222222222,\"#7201a8\"],[0.3333333333333333,\"#9c179e\"],[0.4444444444444444,\"#bd3786\"],[0.5555555555555556,\"#d8576b\"],[0.6666666666666666,\"#ed7953\"],[0.7777777777777778,\"#fb9f3a\"],[0.8888888888888888,\"#fdca26\"],[1.0,\"#f0f921\"]],\"type\":\"heatmap\"}],\"heatmapgl\":[{\"colorbar\":{\"outlinewidth\":0,\"ticks\":\"\"},\"colorscale\":[[0.0,\"#0d0887\"],[0.1111111111111111,\"#46039f\"],[0.2222222222222222,\"#7201a8\"],[0.3333333333333333,\"#9c179e\"],[0.4444444444444444,\"#bd3786\"],[0.5555555555555556,\"#d8576b\"],[0.6666666666666666,\"#ed7953\"],[0.7777777777777778,\"#fb9f3a\"],[0.8888888888888888,\"#fdca26\"],[1.0,\"#f0f921\"]],\"type\":\"heatmapgl\"}],\"histogram\":[{\"marker\":{\"pattern\":{\"fillmode\":\"overlay\",\"size\":10,\"solidity\":0.2}},\"type\":\"histogram\"}],\"histogram2d\":[{\"colorbar\":{\"outlinewidth\":0,\"ticks\":\"\"},\"colorscale\":[[0.0,\"#0d0887\"],[0.1111111111111111,\"#46039f\"],[0.2222222222222222,\"#7201a8\"],[0.3333333333333333,\"#9c179e\"],[0.4444444444444444,\"#bd3786\"],[0.5555555555555556,\"#d8576b\"],[0.6666666666666666,\"#ed7953\"],[0.7777777777777778,\"#fb9f3a\"],[0.8888888888888888,\"#fdca26\"],[1.0,\"#f0f921\"]],\"type\":\"histogram2d\"}],\"histogram2dcontour\":[{\"colorbar\":{\"outlinewidth\":0,\"ticks\":\"\"},\"colorscale\":[[0.0,\"#0d0887\"],[0.1111111111111111,\"#46039f\"],[0.2222222222222222,\"#7201a8\"],[0.3333333333333333,\"#9c179e\"],[0.4444444444444444,\"#bd3786\"],[0.5555555555555556,\"#d8576b\"],[0.6666666666666666,\"#ed7953\"],[0.7777777777777778,\"#fb9f3a\"],[0.8888888888888888,\"#fdca26\"],[1.0,\"#f0f921\"]],\"type\":\"histogram2dcontour\"}],\"mesh3d\":[{\"colorbar\":{\"outlinewidth\":0,\"ticks\":\"\"},\"type\":\"mesh3d\"}],\"parcoords\":[{\"line\":{\"colorbar\":{\"outlinewidth\":0,\"ticks\":\"\"}},\"type\":\"parcoords\"}],\"pie\":[{\"automargin\":true,\"type\":\"pie\"}],\"scatter\":[{\"marker\":{\"colorbar\":{\"outlinewidth\":0,\"ticks\":\"\"}},\"type\":\"scatter\"}],\"scatter3d\":[{\"line\":{\"colorbar\":{\"outlinewidth\":0,\"ticks\":\"\"}},\"marker\":{\"colorbar\":{\"outlinewidth\":0,\"ticks\":\"\"}},\"type\":\"scatter3d\"}],\"scattercarpet\":[{\"marker\":{\"colorbar\":{\"outlinewidth\":0,\"ticks\":\"\"}},\"type\":\"scattercarpet\"}],\"scattergeo\":[{\"marker\":{\"colorbar\":{\"outlinewidth\":0,\"ticks\":\"\"}},\"type\":\"scattergeo\"}],\"scattergl\":[{\"marker\":{\"colorbar\":{\"outlinewidth\":0,\"ticks\":\"\"}},\"type\":\"scattergl\"}],\"scattermapbox\":[{\"marker\":{\"colorbar\":{\"outlinewidth\":0,\"ticks\":\"\"}},\"type\":\"scattermapbox\"}],\"scatterpolar\":[{\"marker\":{\"colorbar\":{\"outlinewidth\":0,\"ticks\":\"\"}},\"type\":\"scatterpolar\"}],\"scatterpolargl\":[{\"marker\":{\"colorbar\":{\"outlinewidth\":0,\"ticks\":\"\"}},\"type\":\"scatterpolargl\"}],\"scatterternary\":[{\"marker\":{\"colorbar\":{\"outlinewidth\":0,\"ticks\":\"\"}},\"type\":\"scatterternary\"}],\"surface\":[{\"colorbar\":{\"outlinewidth\":0,\"ticks\":\"\"},\"colorscale\":[[0.0,\"#0d0887\"],[0.1111111111111111,\"#46039f\"],[0.2222222222222222,\"#7201a8\"],[0.3333333333333333,\"#9c179e\"],[0.4444444444444444,\"#bd3786\"],[0.5555555555555556,\"#d8576b\"],[0.6666666666666666,\"#ed7953\"],[0.7777777777777778,\"#fb9f3a\"],[0.8888888888888888,\"#fdca26\"],[1.0,\"#f0f921\"]],\"type\":\"surface\"}],\"table\":[{\"cells\":{\"fill\":{\"color\":\"#EBF0F8\"},\"line\":{\"color\":\"white\"}},\"header\":{\"fill\":{\"color\":\"#C8D4E3\"},\"line\":{\"color\":\"white\"}},\"type\":\"table\"}]},\"layout\":{\"annotationdefaults\":{\"arrowcolor\":\"#2a3f5f\",\"arrowhead\":0,\"arrowwidth\":1},\"autotypenumbers\":\"strict\",\"coloraxis\":{\"colorbar\":{\"outlinewidth\":0,\"ticks\":\"\"}},\"colorscale\":{\"diverging\":[[0,\"#8e0152\"],[0.1,\"#c51b7d\"],[0.2,\"#de77ae\"],[0.3,\"#f1b6da\"],[0.4,\"#fde0ef\"],[0.5,\"#f7f7f7\"],[0.6,\"#e6f5d0\"],[0.7,\"#b8e186\"],[0.8,\"#7fbc41\"],[0.9,\"#4d9221\"],[1,\"#276419\"]],\"sequential\":[[0.0,\"#0d0887\"],[0.1111111111111111,\"#46039f\"],[0.2222222222222222,\"#7201a8\"],[0.3333333333333333,\"#9c179e\"],[0.4444444444444444,\"#bd3786\"],[0.5555555555555556,\"#d8576b\"],[0.6666666666666666,\"#ed7953\"],[0.7777777777777778,\"#fb9f3a\"],[0.8888888888888888,\"#fdca26\"],[1.0,\"#f0f921\"]],\"sequentialminus\":[[0.0,\"#0d0887\"],[0.1111111111111111,\"#46039f\"],[0.2222222222222222,\"#7201a8\"],[0.3333333333333333,\"#9c179e\"],[0.4444444444444444,\"#bd3786\"],[0.5555555555555556,\"#d8576b\"],[0.6666666666666666,\"#ed7953\"],[0.7777777777777778,\"#fb9f3a\"],[0.8888888888888888,\"#fdca26\"],[1.0,\"#f0f921\"]]},\"colorway\":[\"#636efa\",\"#EF553B\",\"#00cc96\",\"#ab63fa\",\"#FFA15A\",\"#19d3f3\",\"#FF6692\",\"#B6E880\",\"#FF97FF\",\"#FECB52\"],\"font\":{\"color\":\"#2a3f5f\"},\"geo\":{\"bgcolor\":\"white\",\"lakecolor\":\"white\",\"landcolor\":\"#E5ECF6\",\"showlakes\":true,\"showland\":true,\"subunitcolor\":\"white\"},\"hoverlabel\":{\"align\":\"left\"},\"hovermode\":\"closest\",\"mapbox\":{\"style\":\"light\"},\"paper_bgcolor\":\"white\",\"plot_bgcolor\":\"#E5ECF6\",\"polar\":{\"angularaxis\":{\"gridcolor\":\"white\",\"linecolor\":\"white\",\"ticks\":\"\"},\"bgcolor\":\"#E5ECF6\",\"radialaxis\":{\"gridcolor\":\"white\",\"linecolor\":\"white\",\"ticks\":\"\"}},\"scene\":{\"xaxis\":{\"backgroundcolor\":\"#E5ECF6\",\"gridcolor\":\"white\",\"gridwidth\":2,\"linecolor\":\"white\",\"showbackground\":true,\"ticks\":\"\",\"zerolinecolor\":\"white\"},\"yaxis\":{\"backgroundcolor\":\"#E5ECF6\",\"gridcolor\":\"white\",\"gridwidth\":2,\"linecolor\":\"white\",\"showbackground\":true,\"ticks\":\"\",\"zerolinecolor\":\"white\"},\"zaxis\":{\"backgroundcolor\":\"#E5ECF6\",\"gridcolor\":\"white\",\"gridwidth\":2,\"linecolor\":\"white\",\"showbackground\":true,\"ticks\":\"\",\"zerolinecolor\":\"white\"}},\"shapedefaults\":{\"line\":{\"color\":\"#2a3f5f\"}},\"ternary\":{\"aaxis\":{\"gridcolor\":\"white\",\"linecolor\":\"white\",\"ticks\":\"\"},\"baxis\":{\"gridcolor\":\"white\",\"linecolor\":\"white\",\"ticks\":\"\"},\"bgcolor\":\"#E5ECF6\",\"caxis\":{\"gridcolor\":\"white\",\"linecolor\":\"white\",\"ticks\":\"\"}},\"title\":{\"x\":0.05},\"xaxis\":{\"automargin\":true,\"gridcolor\":\"white\",\"linecolor\":\"white\",\"ticks\":\"\",\"title\":{\"standoff\":15},\"zerolinecolor\":\"white\",\"zerolinewidth\":2},\"yaxis\":{\"automargin\":true,\"gridcolor\":\"white\",\"linecolor\":\"white\",\"ticks\":\"\",\"title\":{\"standoff\":15},\"zerolinecolor\":\"white\",\"zerolinewidth\":2}}},\"title\":{\"text\":\"Distribution of text length\"},\"xaxis\":{\"anchor\":\"y\",\"domain\":[0.0,1.0],\"title\":{\"text\":\"keyword\"}},\"yaxis\":{\"anchor\":\"x\",\"domain\":[0.0,1.0],\"title\":{\"text\":\"sum of length\"}}},                        {\"responsive\": true}                    ).then(function(){\n",
       "                            \n",
       "var gd = document.getElementById('f57f5196-1595-4925-8dbd-eb768c5fd488');\n",
       "var x = new MutationObserver(function (mutations, observer) {{\n",
       "        var display = window.getComputedStyle(gd).display;\n",
       "        if (!display || display === 'none') {{\n",
       "            console.log([gd, 'removed!']);\n",
       "            Plotly.purge(gd);\n",
       "            observer.disconnect();\n",
       "        }}\n",
       "}});\n",
       "\n",
       "// Listen for the removal of the full notebook cells\n",
       "var notebookContainer = gd.closest('#notebook-container');\n",
       "if (notebookContainer) {{\n",
       "    x.observe(notebookContainer, {childList: true});\n",
       "}}\n",
       "\n",
       "// Listen for the clearing of the current output cell\n",
       "var outputEl = gd.closest('.output');\n",
       "if (outputEl) {{\n",
       "    x.observe(outputEl, {childList: true});\n",
       "}}\n",
       "\n",
       "                        })                };                });            </script>        </div>"
      ]
     },
     "metadata": {},
     "output_type": "display_data"
    }
   ],
   "source": [
    "fig=px.histogram(train_df,x='keyword',y='length',color='class',opacity=0.8,title='Distribution of text length')\n",
    "fig.show()"
   ]
  },
  {
   "cell_type": "code",
   "execution_count": 6,
   "id": "747f7bad",
   "metadata": {
    "execution": {
     "iopub.execute_input": "2021-07-20T20:58:44.260317Z",
     "iopub.status.busy": "2021-07-20T20:58:44.259458Z",
     "iopub.status.idle": "2021-07-20T20:58:44.268087Z",
     "shell.execute_reply": "2021-07-20T20:58:44.268508Z",
     "shell.execute_reply.started": "2021-07-20T20:40:32.607134Z"
    },
    "papermill": {
     "duration": 0.037795,
     "end_time": "2021-07-20T20:58:44.268665",
     "exception": false,
     "start_time": "2021-07-20T20:58:44.230870",
     "status": "completed"
    },
    "tags": []
   },
   "outputs": [],
   "source": [
    "d_locations=train_df[train_df['class']=='Disaster'].location.value_counts()\n",
    "nd_locations=train_df[train_df['class']=='Not disaster'].location.value_counts()"
   ]
  },
  {
   "cell_type": "code",
   "execution_count": 7,
   "id": "b83eaf60",
   "metadata": {
    "execution": {
     "iopub.execute_input": "2021-07-20T20:58:44.333823Z",
     "iopub.status.busy": "2021-07-20T20:58:44.322193Z",
     "iopub.status.idle": "2021-07-20T20:58:44.717676Z",
     "shell.execute_reply": "2021-07-20T20:58:44.717213Z",
     "shell.execute_reply.started": "2021-07-20T20:40:32.625575Z"
    },
    "papermill": {
     "duration": 0.425236,
     "end_time": "2021-07-20T20:58:44.717811",
     "exception": false,
     "start_time": "2021-07-20T20:58:44.292575",
     "status": "completed"
    },
    "tags": []
   },
   "outputs": [
    {
     "data": {
      "text/plain": [
       "Text(0.5, 1.0, 'Non Disaster tweets from locations()Top-10')"
      ]
     },
     "execution_count": 7,
     "metadata": {},
     "output_type": "execute_result"
    },
    {
     "data": {
      "image/png": "[encoded data removed]",
      "text/plain": [
       "<Figure size 2160x576 with 2 Axes>"
      ]
     },
     "metadata": {
      "needs_background": "light"
     },
     "output_type": "display_data"
    }
   ],
   "source": [
    "plt.figure(figsize=[30,8])\n",
    "\n",
    "plt.subplot(121)\n",
    "\n",
    "d_locations[:10].plot(kind='barh',color='Red')\n",
    "plt.title('Disaster tweets from locations(Top-10)')\n",
    "\n",
    "plt.subplot(122)\n",
    "nd_locations[:10].plot(kind='barh',color='Green')\n",
    "plt.title('Non Disaster tweets from locations()Top-10')"
   ]
  },
  {
   "cell_type": "code",
   "execution_count": 8,
   "id": "d809fdba",
   "metadata": {
    "execution": {
     "iopub.execute_input": "2021-07-20T20:58:44.800691Z",
     "iopub.status.busy": "2021-07-20T20:58:44.799372Z",
     "iopub.status.idle": "2021-07-20T20:58:44.806128Z",
     "shell.execute_reply": "2021-07-20T20:58:44.805425Z",
     "shell.execute_reply.started": "2021-07-20T20:40:33.084635Z"
    },
    "papermill": {
     "duration": 0.061098,
     "end_time": "2021-07-20T20:58:44.806301",
     "exception": false,
     "start_time": "2021-07-20T20:58:44.745203",
     "status": "completed"
    },
    "tags": []
   },
   "outputs": [
    {
     "data": {
      "text/html": [
       "<div>\n",
       "<style scoped>\n",
       "    .dataframe tbody tr th:only-of-type {\n",
       "        vertical-align: middle;\n",
       "    }\n",
       "\n",
       "    .dataframe tbody tr th {\n",
       "        vertical-align: top;\n",
       "    }\n",
       "\n",
       "    .dataframe thead th {\n",
       "        text-align: right;\n",
       "    }\n",
       "</style>\n",
       "<table border=\"1\" class=\"dataframe\">\n",
       "  <thead>\n",
       "    <tr style=\"text-align: right;\">\n",
       "      <th></th>\n",
       "      <th>text</th>\n",
       "      <th>target</th>\n",
       "      <th>class</th>\n",
       "    </tr>\n",
       "  </thead>\n",
       "  <tbody>\n",
       "    <tr>\n",
       "      <th>0</th>\n",
       "      <td>Our Deeds are the Reason of this #earthquake M...</td>\n",
       "      <td>1</td>\n",
       "      <td>Disaster</td>\n",
       "    </tr>\n",
       "    <tr>\n",
       "      <th>1</th>\n",
       "      <td>Forest fire near La Ronge Sask. Canada</td>\n",
       "      <td>1</td>\n",
       "      <td>Disaster</td>\n",
       "    </tr>\n",
       "    <tr>\n",
       "      <th>2</th>\n",
       "      <td>All residents asked to 'shelter in place' are ...</td>\n",
       "      <td>1</td>\n",
       "      <td>Disaster</td>\n",
       "    </tr>\n",
       "    <tr>\n",
       "      <th>3</th>\n",
       "      <td>13,000 people receive #wildfires evacuation or...</td>\n",
       "      <td>1</td>\n",
       "      <td>Disaster</td>\n",
       "    </tr>\n",
       "    <tr>\n",
       "      <th>4</th>\n",
       "      <td>Just got sent this photo from Ruby #Alaska as ...</td>\n",
       "      <td>1</td>\n",
       "      <td>Disaster</td>\n",
       "    </tr>\n",
       "    <tr>\n",
       "      <th>...</th>\n",
       "      <td>...</td>\n",
       "      <td>...</td>\n",
       "      <td>...</td>\n",
       "    </tr>\n",
       "    <tr>\n",
       "      <th>7608</th>\n",
       "      <td>Two giant cranes holding a bridge collapse int...</td>\n",
       "      <td>1</td>\n",
       "      <td>Disaster</td>\n",
       "    </tr>\n",
       "    <tr>\n",
       "      <th>7609</th>\n",
       "      <td>@aria_ahrary @TheTawniest The out of control w...</td>\n",
       "      <td>1</td>\n",
       "      <td>Disaster</td>\n",
       "    </tr>\n",
       "    <tr>\n",
       "      <th>7610</th>\n",
       "      <td>M1.94 [01:04 UTC]?5km S of Volcano Hawaii. htt...</td>\n",
       "      <td>1</td>\n",
       "      <td>Disaster</td>\n",
       "    </tr>\n",
       "    <tr>\n",
       "      <th>7611</th>\n",
       "      <td>Police investigating after an e-bike collided ...</td>\n",
       "      <td>1</td>\n",
       "      <td>Disaster</td>\n",
       "    </tr>\n",
       "    <tr>\n",
       "      <th>7612</th>\n",
       "      <td>The Latest: More Homes Razed by Northern Calif...</td>\n",
       "      <td>1</td>\n",
       "      <td>Disaster</td>\n",
       "    </tr>\n",
       "  </tbody>\n",
       "</table>\n",
       "<p>7613 rows × 3 columns</p>\n",
       "</div>"
      ],
      "text/plain": [
       "                                                   text  target     class\n",
       "0     Our Deeds are the Reason of this #earthquake M...       1  Disaster\n",
       "1                Forest fire near La Ronge Sask. Canada       1  Disaster\n",
       "2     All residents asked to 'shelter in place' are ...       1  Disaster\n",
       "3     13,000 people receive #wildfires evacuation or...       1  Disaster\n",
       "4     Just got sent this photo from Ruby #Alaska as ...       1  Disaster\n",
       "...                                                 ...     ...       ...\n",
       "7608  Two giant cranes holding a bridge collapse int...       1  Disaster\n",
       "7609  @aria_ahrary @TheTawniest The out of control w...       1  Disaster\n",
       "7610  M1.94 [01:04 UTC]?5km S of Volcano Hawaii. htt...       1  Disaster\n",
       "7611  Police investigating after an e-bike collided ...       1  Disaster\n",
       "7612  The Latest: More Homes Razed by Northern Calif...       1  Disaster\n",
       "\n",
       "[7613 rows x 3 columns]"
      ]
     },
     "execution_count": 8,
     "metadata": {},
     "output_type": "execute_result"
    }
   ],
   "source": [
    "df_train=train_df[['text','target','class']]\n",
    "df_train"
   ]
  },
  {
   "cell_type": "markdown",
   "id": "dd679ae9",
   "metadata": {
    "papermill": {
     "duration": 0.026442,
     "end_time": "2021-07-20T20:58:44.868431",
     "exception": false,
     "start_time": "2021-07-20T20:58:44.841989",
     "status": "completed"
    },
    "tags": []
   },
   "source": [
    "### **Clean text**"
   ]
  },
  {
   "cell_type": "code",
   "execution_count": 9,
   "id": "e4c82e2d",
   "metadata": {
    "execution": {
     "iopub.execute_input": "2021-07-20T20:58:44.924205Z",
     "iopub.status.busy": "2021-07-20T20:58:44.923257Z",
     "iopub.status.idle": "2021-07-20T20:58:44.925591Z",
     "shell.execute_reply": "2021-07-20T20:58:44.925975Z",
     "shell.execute_reply.started": "2021-07-20T20:40:33.101500Z"
    },
    "papermill": {
     "duration": 0.032131,
     "end_time": "2021-07-20T20:58:44.926131",
     "exception": false,
     "start_time": "2021-07-20T20:58:44.894000",
     "status": "completed"
    },
    "tags": []
   },
   "outputs": [],
   "source": [
    "import re\n",
    "import string"
   ]
  },
  {
   "cell_type": "code",
   "execution_count": 10,
   "id": "0bc35e0d",
   "metadata": {
    "execution": {
     "iopub.execute_input": "2021-07-20T20:58:45.009093Z",
     "iopub.status.busy": "2021-07-20T20:58:44.998813Z",
     "iopub.status.idle": "2021-07-20T20:58:45.191352Z",
     "shell.execute_reply": "2021-07-20T20:58:45.191772Z",
     "shell.execute_reply.started": "2021-07-20T20:40:33.112367Z"
    },
    "papermill": {
     "duration": 0.239976,
     "end_time": "2021-07-20T20:58:45.191926",
     "exception": false,
     "start_time": "2021-07-20T20:58:44.951950",
     "status": "completed"
    },
    "tags": []
   },
   "outputs": [
    {
     "name": "stderr",
     "output_type": "stream",
     "text": [
      "/opt/conda/lib/python3.7/site-packages/ipykernel_launcher.py:11: SettingWithCopyWarning:\n",
      "\n",
      "\n",
      "A value is trying to be set on a copy of a slice from a DataFrame.\n",
      "Try using .loc[row_indexer,col_indexer] = value instead\n",
      "\n",
      "See the caveats in the documentation: https://pandas.pydata.org/pandas-docs/stable/user_guide/indexing.html#returning-a-view-versus-a-copy\n",
      "\n"
     ]
    },
    {
     "data": {
      "text/html": [
       "<div>\n",
       "<style scoped>\n",
       "    .dataframe tbody tr th:only-of-type {\n",
       "        vertical-align: middle;\n",
       "    }\n",
       "\n",
       "    .dataframe tbody tr th {\n",
       "        vertical-align: top;\n",
       "    }\n",
       "\n",
       "    .dataframe thead th {\n",
       "        text-align: right;\n",
       "    }\n",
       "</style>\n",
       "<table border=\"1\" class=\"dataframe\">\n",
       "  <thead>\n",
       "    <tr style=\"text-align: right;\">\n",
       "      <th></th>\n",
       "      <th>text</th>\n",
       "      <th>target</th>\n",
       "      <th>class</th>\n",
       "      <th>clean_text</th>\n",
       "    </tr>\n",
       "  </thead>\n",
       "  <tbody>\n",
       "    <tr>\n",
       "      <th>0</th>\n",
       "      <td>Our Deeds are the Reason of this #earthquake M...</td>\n",
       "      <td>1</td>\n",
       "      <td>Disaster</td>\n",
       "      <td>our deeds are the reason of this earthquake ma...</td>\n",
       "    </tr>\n",
       "    <tr>\n",
       "      <th>1</th>\n",
       "      <td>Forest fire near La Ronge Sask. Canada</td>\n",
       "      <td>1</td>\n",
       "      <td>Disaster</td>\n",
       "      <td>forest fire near la ronge sask canada</td>\n",
       "    </tr>\n",
       "    <tr>\n",
       "      <th>2</th>\n",
       "      <td>All residents asked to 'shelter in place' are ...</td>\n",
       "      <td>1</td>\n",
       "      <td>Disaster</td>\n",
       "      <td>all residents asked to shelter in place are be...</td>\n",
       "    </tr>\n",
       "    <tr>\n",
       "      <th>3</th>\n",
       "      <td>13,000 people receive #wildfires evacuation or...</td>\n",
       "      <td>1</td>\n",
       "      <td>Disaster</td>\n",
       "      <td>people receive wildfires evacuation orders in...</td>\n",
       "    </tr>\n",
       "    <tr>\n",
       "      <th>4</th>\n",
       "      <td>Just got sent this photo from Ruby #Alaska as ...</td>\n",
       "      <td>1</td>\n",
       "      <td>Disaster</td>\n",
       "      <td>just got sent this photo from ruby alaska as s...</td>\n",
       "    </tr>\n",
       "    <tr>\n",
       "      <th>5</th>\n",
       "      <td>#RockyFire Update =&gt; California Hwy. 20 closed...</td>\n",
       "      <td>1</td>\n",
       "      <td>Disaster</td>\n",
       "      <td>rockyfire update  california hwy  closed in bo...</td>\n",
       "    </tr>\n",
       "  </tbody>\n",
       "</table>\n",
       "</div>"
      ],
      "text/plain": [
       "                                                text  target     class  \\\n",
       "0  Our Deeds are the Reason of this #earthquake M...       1  Disaster   \n",
       "1             Forest fire near La Ronge Sask. Canada       1  Disaster   \n",
       "2  All residents asked to 'shelter in place' are ...       1  Disaster   \n",
       "3  13,000 people receive #wildfires evacuation or...       1  Disaster   \n",
       "4  Just got sent this photo from Ruby #Alaska as ...       1  Disaster   \n",
       "5  #RockyFire Update => California Hwy. 20 closed...       1  Disaster   \n",
       "\n",
       "                                          clean_text  \n",
       "0  our deeds are the reason of this earthquake ma...  \n",
       "1              forest fire near la ronge sask canada  \n",
       "2  all residents asked to shelter in place are be...  \n",
       "3   people receive wildfires evacuation orders in...  \n",
       "4  just got sent this photo from ruby alaska as s...  \n",
       "5  rockyfire update  california hwy  closed in bo...  "
      ]
     },
     "execution_count": 10,
     "metadata": {},
     "output_type": "execute_result"
    }
   ],
   "source": [
    "def processTextR1(text):\n",
    "    '''Make text lowercase, remove text in square brackets, remove punctuation and remove words containing numbers.'''\n",
    "    text=text.lower()\n",
    "    text=re.sub('\\[.*?\\]','',text)\n",
    "    text=re.sub('[%s]' % re.escape(string.punctuation),'',text)\n",
    "    text=re.sub('\\w*\\d\\w*','',text)\n",
    "    return text\n",
    "\n",
    "round1=lambda x: processTextR1(x)\n",
    "\n",
    "df_train['clean_text']=df_train['text'].apply(round1)\n",
    "test_df['clean_text']=test_df['text'].apply(round1)\n",
    "\n",
    "df_train.head(6)"
   ]
  },
  {
   "cell_type": "markdown",
   "id": "3fc3d71d",
   "metadata": {
    "papermill": {
     "duration": 0.026433,
     "end_time": "2021-07-20T20:58:45.244872",
     "exception": false,
     "start_time": "2021-07-20T20:58:45.218439",
     "status": "completed"
    },
    "tags": []
   },
   "source": [
    "# **re library for replacement**"
   ]
  },
  {
   "cell_type": "code",
   "execution_count": 11,
   "id": "212f4e72",
   "metadata": {
    "execution": {
     "iopub.execute_input": "2021-07-20T20:58:45.304397Z",
     "iopub.status.busy": "2021-07-20T20:58:45.303431Z",
     "iopub.status.idle": "2021-07-20T20:58:45.308574Z",
     "shell.execute_reply": "2021-07-20T20:58:45.309181Z",
     "shell.execute_reply.started": "2021-07-20T20:40:33.479674Z"
    },
    "papermill": {
     "duration": 0.03802,
     "end_time": "2021-07-20T20:58:45.309404",
     "exception": false,
     "start_time": "2021-07-20T20:58:45.271384",
     "status": "completed"
    },
    "tags": []
   },
   "outputs": [
    {
     "name": "stdout",
     "output_type": "stream",
     "text": [
      "Original string: ab23eedd qq e3d (33) [r] * . ?\n",
      "Replace punctuation: ab23eedd qq e3d 33 r   \n",
      "Replace any match symbol: ab23eedd qq e3d (33) [r]   \n",
      "Replace words in square racket: ab23eedd qq e3d (33)  * . ?\n",
      "Replace words containing numbers:  qq  () [r] * . ?\n"
     ]
    }
   ],
   "source": [
    "stri='ab23eedd qq e3d (33) [r] * . ?'\n",
    "print('Original string:',stri)\n",
    "print('Replace punctuation:',re.sub('[%s]' % re.escape(string.punctuation),'',stri))\n",
    "print('Replace any match symbol:',re.sub('[.*#?]','',stri))\n",
    "print('Replace words in square racket:',re.sub('\\[.*?\\]','',stri))\n",
    "print('Replace words containing numbers:',re.sub('\\w*\\d\\w*','',stri))"
   ]
  },
  {
   "cell_type": "code",
   "execution_count": 12,
   "id": "b7be4880",
   "metadata": {
    "execution": {
     "iopub.execute_input": "2021-07-20T20:58:45.367551Z",
     "iopub.status.busy": "2021-07-20T20:58:45.366943Z",
     "iopub.status.idle": "2021-07-20T20:58:46.033266Z",
     "shell.execute_reply": "2021-07-20T20:58:46.033863Z",
     "shell.execute_reply.started": "2021-07-20T20:40:33.489120Z"
    },
    "papermill": {
     "duration": 0.697161,
     "end_time": "2021-07-20T20:58:46.034056",
     "exception": false,
     "start_time": "2021-07-20T20:58:45.336895",
     "status": "completed"
    },
    "tags": []
   },
   "outputs": [],
   "source": [
    "from sklearn.feature_extraction.text import CountVectorizer\n",
    "\n",
    "cv=CountVectorizer(max_features = 3000)"
   ]
  },
  {
   "cell_type": "code",
   "execution_count": 13,
   "id": "27f260e9",
   "metadata": {
    "execution": {
     "iopub.execute_input": "2021-07-20T20:58:46.090907Z",
     "iopub.status.busy": "2021-07-20T20:58:46.090006Z",
     "iopub.status.idle": "2021-07-20T20:58:46.394041Z",
     "shell.execute_reply": "2021-07-20T20:58:46.394652Z",
     "shell.execute_reply.started": "2021-07-20T20:52:43.231517Z"
    },
    "papermill": {
     "duration": 0.333822,
     "end_time": "2021-07-20T20:58:46.394834",
     "exception": false,
     "start_time": "2021-07-20T20:58:46.061012",
     "status": "completed"
    },
    "tags": []
   },
   "outputs": [],
   "source": [
    "X=cv.fit_transform(df_train['clean_text']).toarray()\n",
    "Y=df_train['target']\n",
    "X_test =cv.transform(test_df['clean_text']).toarray()"
   ]
  },
  {
   "cell_type": "code",
   "execution_count": 14,
   "id": "820cea72",
   "metadata": {
    "execution": {
     "iopub.execute_input": "2021-07-20T20:58:46.451622Z",
     "iopub.status.busy": "2021-07-20T20:58:46.451025Z",
     "iopub.status.idle": "2021-07-20T20:58:46.455860Z",
     "shell.execute_reply": "2021-07-20T20:58:46.456271Z",
     "shell.execute_reply.started": "2021-07-20T20:40:40.112108Z"
    },
    "papermill": {
     "duration": 0.034442,
     "end_time": "2021-07-20T20:58:46.456439",
     "exception": false,
     "start_time": "2021-07-20T20:58:46.421997",
     "status": "completed"
    },
    "tags": []
   },
   "outputs": [
    {
     "name": "stdout",
     "output_type": "stream",
     "text": [
      "(7613, 3000) (3263, 3000)\n"
     ]
    }
   ],
   "source": [
    "print(X.shape,X_test.shape)"
   ]
  },
  {
   "cell_type": "markdown",
   "id": "64ac55da",
   "metadata": {
    "papermill": {
     "duration": 0.026798,
     "end_time": "2021-07-20T20:58:46.510251",
     "exception": false,
     "start_time": "2021-07-20T20:58:46.483453",
     "status": "completed"
    },
    "tags": []
   },
   "source": [
    "# **Training**"
   ]
  },
  {
   "cell_type": "code",
   "execution_count": 15,
   "id": "f83ab8bd",
   "metadata": {
    "execution": {
     "iopub.execute_input": "2021-07-20T20:58:46.566827Z",
     "iopub.status.busy": "2021-07-20T20:58:46.566235Z",
     "iopub.status.idle": "2021-07-20T20:58:46.799088Z",
     "shell.execute_reply": "2021-07-20T20:58:46.798570Z",
     "shell.execute_reply.started": "2021-07-20T20:40:42.403145Z"
    },
    "papermill": {
     "duration": 0.261948,
     "end_time": "2021-07-20T20:58:46.799240",
     "exception": false,
     "start_time": "2021-07-20T20:58:46.537292",
     "status": "completed"
    },
    "tags": []
   },
   "outputs": [],
   "source": [
    "from sklearn.pipeline import make_pipeline\n",
    "from sklearn.ensemble import RandomForestClassifier\n",
    "from sklearn.model_selection import train_test_split\n",
    "from sklearn.model_selection import train_test_split"
   ]
  },
  {
   "cell_type": "code",
   "execution_count": 16,
   "id": "865175f3",
   "metadata": {
    "execution": {
     "iopub.execute_input": "2021-07-20T20:58:46.858679Z",
     "iopub.status.busy": "2021-07-20T20:58:46.858045Z",
     "iopub.status.idle": "2021-07-20T20:58:46.947321Z",
     "shell.execute_reply": "2021-07-20T20:58:46.946598Z",
     "shell.execute_reply.started": "2021-07-20T20:43:52.505882Z"
    },
    "papermill": {
     "duration": 0.121145,
     "end_time": "2021-07-20T20:58:46.947505",
     "exception": false,
     "start_time": "2021-07-20T20:58:46.826360",
     "status": "completed"
    },
    "tags": []
   },
   "outputs": [],
   "source": [
    "x_train, x_test, y_train, y_test = train_test_split(X,Y,random_state=0,test_size=0.2)"
   ]
  },
  {
   "cell_type": "code",
   "execution_count": 17,
   "id": "357f9f6f",
   "metadata": {
    "execution": {
     "iopub.execute_input": "2021-07-20T20:58:47.006805Z",
     "iopub.status.busy": "2021-07-20T20:58:47.006183Z",
     "iopub.status.idle": "2021-07-20T20:58:47.009204Z",
     "shell.execute_reply": "2021-07-20T20:58:47.008731Z",
     "shell.execute_reply.started": "2021-07-20T20:44:28.989537Z"
    },
    "papermill": {
     "duration": 0.034351,
     "end_time": "2021-07-20T20:58:47.009343",
     "exception": false,
     "start_time": "2021-07-20T20:58:46.974992",
     "status": "completed"
    },
    "tags": []
   },
   "outputs": [],
   "source": [
    "models={'RandomForestClassifier' : make_pipeline(RandomForestClassifier())}"
   ]
  },
  {
   "cell_type": "code",
   "execution_count": 18,
   "id": "22fa32a3",
   "metadata": {
    "execution": {
     "iopub.execute_input": "2021-07-20T20:58:47.068321Z",
     "iopub.status.busy": "2021-07-20T20:58:47.067709Z",
     "iopub.status.idle": "2021-07-20T20:59:03.895523Z",
     "shell.execute_reply": "2021-07-20T20:59:03.894967Z",
     "shell.execute_reply.started": "2021-07-20T20:45:34.804259Z"
    },
    "papermill": {
     "duration": 16.858929,
     "end_time": "2021-07-20T20:59:03.895668",
     "exception": false,
     "start_time": "2021-07-20T20:58:47.036739",
     "status": "completed"
    },
    "tags": []
   },
   "outputs": [],
   "source": [
    "fit_models={}\n",
    "for algo, pipeline in models.items():\n",
    "    model = pipeline.fit(x_train,y_train)\n",
    "    fit_models[algo] =model\n",
    "    \n"
   ]
  },
  {
   "cell_type": "code",
   "execution_count": 19,
   "id": "239d9bf2",
   "metadata": {
    "execution": {
     "iopub.execute_input": "2021-07-20T20:59:03.954656Z",
     "iopub.status.busy": "2021-07-20T20:59:03.954056Z",
     "iopub.status.idle": "2021-07-20T20:59:03.960746Z",
     "shell.execute_reply": "2021-07-20T20:59:03.960222Z",
     "shell.execute_reply.started": "2021-07-20T20:46:04.041960Z"
    },
    "papermill": {
     "duration": 0.037699,
     "end_time": "2021-07-20T20:59:03.960882",
     "exception": false,
     "start_time": "2021-07-20T20:59:03.923183",
     "status": "completed"
    },
    "tags": []
   },
   "outputs": [
    {
     "data": {
      "text/plain": [
       "{'RandomForestClassifier': Pipeline(steps=[('randomforestclassifier', RandomForestClassifier())])}"
      ]
     },
     "execution_count": 19,
     "metadata": {},
     "output_type": "execute_result"
    }
   ],
   "source": [
    "fit_models"
   ]
  },
  {
   "cell_type": "code",
   "execution_count": 20,
   "id": "fa1dfd22",
   "metadata": {
    "execution": {
     "iopub.execute_input": "2021-07-20T20:59:04.021753Z",
     "iopub.status.busy": "2021-07-20T20:59:04.020760Z",
     "iopub.status.idle": "2021-07-20T20:59:04.752418Z",
     "shell.execute_reply": "2021-07-20T20:59:04.753096Z",
     "shell.execute_reply.started": "2021-07-20T20:47:27.529481Z"
    },
    "papermill": {
     "duration": 0.765,
     "end_time": "2021-07-20T20:59:04.753332",
     "exception": false,
     "start_time": "2021-07-20T20:59:03.988332",
     "status": "completed"
    },
    "tags": []
   },
   "outputs": [
    {
     "name": "stdout",
     "output_type": "stream",
     "text": [
      "RandomForestClassifier : 98.32512315270935%\n"
     ]
    }
   ],
   "source": [
    "for model in fit_models:\n",
    "    print(f\"{model} : {fit_models[model].score(x_train,y_train)*100}%\")"
   ]
  },
  {
   "cell_type": "code",
   "execution_count": 21,
   "id": "b2c4b4a4",
   "metadata": {
    "execution": {
     "iopub.execute_input": "2021-07-20T20:59:04.814855Z",
     "iopub.status.busy": "2021-07-20T20:59:04.813865Z",
     "iopub.status.idle": "2021-07-20T20:59:05.102812Z",
     "shell.execute_reply": "2021-07-20T20:59:05.102239Z",
     "shell.execute_reply.started": "2021-07-20T20:49:39.864842Z"
    },
    "papermill": {
     "duration": 0.321662,
     "end_time": "2021-07-20T20:59:05.102940",
     "exception": false,
     "start_time": "2021-07-20T20:59:04.781278",
     "status": "completed"
    },
    "tags": []
   },
   "outputs": [
    {
     "name": "stdout",
     "output_type": "stream",
     "text": [
      "RandomForestClassifier : 80.04%\n"
     ]
    }
   ],
   "source": [
    "scores = {}\n",
    "for model in fit_models:\n",
    "    print(f\"{model} : {fit_models[model].score(x_test,y_test)*100:.2f}%\")\n",
    "    scores[model]=fit_models[model].score(x_test,y_test)"
   ]
  },
  {
   "cell_type": "code",
   "execution_count": 22,
   "id": "ca093a9e",
   "metadata": {
    "execution": {
     "iopub.execute_input": "2021-07-20T20:59:05.165797Z",
     "iopub.status.busy": "2021-07-20T20:59:05.164770Z",
     "iopub.status.idle": "2021-07-20T20:59:05.546815Z",
     "shell.execute_reply": "2021-07-20T20:59:05.546355Z",
     "shell.execute_reply.started": "2021-07-20T20:55:49.544008Z"
    },
    "papermill": {
     "duration": 0.415116,
     "end_time": "2021-07-20T20:59:05.546948",
     "exception": false,
     "start_time": "2021-07-20T20:59:05.131832",
     "status": "completed"
    },
    "tags": []
   },
   "outputs": [
    {
     "data": {
      "text/plain": [
       "array([0, 1, 1, 0, 1, 1, 0, 0, 0, 0, 0, 0])"
      ]
     },
     "execution_count": 22,
     "metadata": {},
     "output_type": "execute_result"
    }
   ],
   "source": [
    "predictions=fit_models[\"RandomForestClassifier\"].predict(X_test)\n",
    "predictions[:12]"
   ]
  },
  {
   "cell_type": "code",
   "execution_count": 23,
   "id": "64d5be5f",
   "metadata": {
    "execution": {
     "iopub.execute_input": "2021-07-20T20:59:05.609852Z",
     "iopub.status.busy": "2021-07-20T20:59:05.609264Z",
     "iopub.status.idle": "2021-07-20T20:59:05.612752Z",
     "shell.execute_reply": "2021-07-20T20:59:05.613173Z",
     "shell.execute_reply.started": "2021-07-20T20:55:15.919539Z"
    },
    "papermill": {
     "duration": 0.038626,
     "end_time": "2021-07-20T20:59:05.613336",
     "exception": false,
     "start_time": "2021-07-20T20:59:05.574710",
     "status": "completed"
    },
    "tags": []
   },
   "outputs": [
    {
     "data": {
      "text/html": [
       "<div>\n",
       "<style scoped>\n",
       "    .dataframe tbody tr th:only-of-type {\n",
       "        vertical-align: middle;\n",
       "    }\n",
       "\n",
       "    .dataframe tbody tr th {\n",
       "        vertical-align: top;\n",
       "    }\n",
       "\n",
       "    .dataframe thead th {\n",
       "        text-align: right;\n",
       "    }\n",
       "</style>\n",
       "<table border=\"1\" class=\"dataframe\">\n",
       "  <thead>\n",
       "    <tr style=\"text-align: right;\">\n",
       "      <th></th>\n",
       "      <th>id</th>\n",
       "      <th>target</th>\n",
       "    </tr>\n",
       "  </thead>\n",
       "  <tbody>\n",
       "    <tr>\n",
       "      <th>0</th>\n",
       "      <td>0</td>\n",
       "      <td>0</td>\n",
       "    </tr>\n",
       "    <tr>\n",
       "      <th>1</th>\n",
       "      <td>2</td>\n",
       "      <td>0</td>\n",
       "    </tr>\n",
       "    <tr>\n",
       "      <th>2</th>\n",
       "      <td>3</td>\n",
       "      <td>0</td>\n",
       "    </tr>\n",
       "    <tr>\n",
       "      <th>3</th>\n",
       "      <td>9</td>\n",
       "      <td>0</td>\n",
       "    </tr>\n",
       "    <tr>\n",
       "      <th>4</th>\n",
       "      <td>11</td>\n",
       "      <td>0</td>\n",
       "    </tr>\n",
       "  </tbody>\n",
       "</table>\n",
       "</div>"
      ],
      "text/plain": [
       "   id  target\n",
       "0   0       0\n",
       "1   2       0\n",
       "2   3       0\n",
       "3   9       0\n",
       "4  11       0"
      ]
     },
     "execution_count": 23,
     "metadata": {},
     "output_type": "execute_result"
    }
   ],
   "source": [
    "sample_df.head()"
   ]
  },
  {
   "cell_type": "code",
   "execution_count": 24,
   "id": "0ac4b7cc",
   "metadata": {
    "execution": {
     "iopub.execute_input": "2021-07-20T20:59:05.676074Z",
     "iopub.status.busy": "2021-07-20T20:59:05.675543Z",
     "iopub.status.idle": "2021-07-20T20:59:05.679044Z",
     "shell.execute_reply": "2021-07-20T20:59:05.678507Z",
     "shell.execute_reply.started": "2021-07-20T20:57:00.843657Z"
    },
    "papermill": {
     "duration": 0.03788,
     "end_time": "2021-07-20T20:59:05.679180",
     "exception": false,
     "start_time": "2021-07-20T20:59:05.641300",
     "status": "completed"
    },
    "tags": []
   },
   "outputs": [
    {
     "data": {
      "text/plain": [
       "0    2164\n",
       "1    1099\n",
       "Name: target, dtype: int64"
      ]
     },
     "execution_count": 24,
     "metadata": {},
     "output_type": "execute_result"
    }
   ],
   "source": [
    "sample_df['target']=predictions\n",
    "sample_df.target.value_counts()"
   ]
  },
  {
   "cell_type": "code",
   "execution_count": 25,
   "id": "7b37ff08",
   "metadata": {
    "execution": {
     "iopub.execute_input": "2021-07-20T20:59:05.742383Z",
     "iopub.status.busy": "2021-07-20T20:59:05.741419Z",
     "iopub.status.idle": "2021-07-20T20:59:05.751852Z",
     "shell.execute_reply": "2021-07-20T20:59:05.751401Z",
     "shell.execute_reply.started": "2021-07-20T20:57:31.392603Z"
    },
    "papermill": {
     "duration": 0.044642,
     "end_time": "2021-07-20T20:59:05.751984",
     "exception": false,
     "start_time": "2021-07-20T20:59:05.707342",
     "status": "completed"
    },
    "tags": []
   },
   "outputs": [],
   "source": [
    "sample_df.to_csv('Submission.csv',index=False)"
   ]
  },
  {
   "cell_type": "code",
   "execution_count": 26,
   "id": "969efe1b",
   "metadata": {
    "execution": {
     "iopub.execute_input": "2021-07-20T20:59:05.819220Z",
     "iopub.status.busy": "2021-07-20T20:59:05.818596Z",
     "iopub.status.idle": "2021-07-20T20:59:05.821862Z",
     "shell.execute_reply": "2021-07-20T20:59:05.821384Z",
     "shell.execute_reply.started": "2021-07-20T20:57:44.253821Z"
    },
    "papermill": {
     "duration": 0.041089,
     "end_time": "2021-07-20T20:59:05.821994",
     "exception": false,
     "start_time": "2021-07-20T20:59:05.780905",
     "status": "completed"
    },
    "tags": []
   },
   "outputs": [
    {
     "data": {
      "text/html": [
       "<div>\n",
       "<style scoped>\n",
       "    .dataframe tbody tr th:only-of-type {\n",
       "        vertical-align: middle;\n",
       "    }\n",
       "\n",
       "    .dataframe tbody tr th {\n",
       "        vertical-align: top;\n",
       "    }\n",
       "\n",
       "    .dataframe thead th {\n",
       "        text-align: right;\n",
       "    }\n",
       "</style>\n",
       "<table border=\"1\" class=\"dataframe\">\n",
       "  <thead>\n",
       "    <tr style=\"text-align: right;\">\n",
       "      <th></th>\n",
       "      <th>id</th>\n",
       "      <th>target</th>\n",
       "    </tr>\n",
       "  </thead>\n",
       "  <tbody>\n",
       "    <tr>\n",
       "      <th>0</th>\n",
       "      <td>0</td>\n",
       "      <td>0</td>\n",
       "    </tr>\n",
       "    <tr>\n",
       "      <th>1</th>\n",
       "      <td>2</td>\n",
       "      <td>1</td>\n",
       "    </tr>\n",
       "    <tr>\n",
       "      <th>2</th>\n",
       "      <td>3</td>\n",
       "      <td>1</td>\n",
       "    </tr>\n",
       "    <tr>\n",
       "      <th>3</th>\n",
       "      <td>9</td>\n",
       "      <td>0</td>\n",
       "    </tr>\n",
       "    <tr>\n",
       "      <th>4</th>\n",
       "      <td>11</td>\n",
       "      <td>1</td>\n",
       "    </tr>\n",
       "    <tr>\n",
       "      <th>...</th>\n",
       "      <td>...</td>\n",
       "      <td>...</td>\n",
       "    </tr>\n",
       "    <tr>\n",
       "      <th>3258</th>\n",
       "      <td>10861</td>\n",
       "      <td>1</td>\n",
       "    </tr>\n",
       "    <tr>\n",
       "      <th>3259</th>\n",
       "      <td>10865</td>\n",
       "      <td>1</td>\n",
       "    </tr>\n",
       "    <tr>\n",
       "      <th>3260</th>\n",
       "      <td>10868</td>\n",
       "      <td>1</td>\n",
       "    </tr>\n",
       "    <tr>\n",
       "      <th>3261</th>\n",
       "      <td>10874</td>\n",
       "      <td>1</td>\n",
       "    </tr>\n",
       "    <tr>\n",
       "      <th>3262</th>\n",
       "      <td>10875</td>\n",
       "      <td>0</td>\n",
       "    </tr>\n",
       "  </tbody>\n",
       "</table>\n",
       "<p>3263 rows × 2 columns</p>\n",
       "</div>"
      ],
      "text/plain": [
       "         id  target\n",
       "0         0       0\n",
       "1         2       1\n",
       "2         3       1\n",
       "3         9       0\n",
       "4        11       1\n",
       "...     ...     ...\n",
       "3258  10861       1\n",
       "3259  10865       1\n",
       "3260  10868       1\n",
       "3261  10874       1\n",
       "3262  10875       0\n",
       "\n",
       "[3263 rows x 2 columns]"
      ]
     },
     "execution_count": 26,
     "metadata": {},
     "output_type": "execute_result"
    }
   ],
   "source": [
    "sample_df"
   ]
  },
  {
   "cell_type": "code",
   "execution_count": null,
   "id": "2f1aeb4f",
   "metadata": {
    "papermill": {
     "duration": 0.029283,
     "end_time": "2021-07-20T20:59:05.881986",
     "exception": false,
     "start_time": "2021-07-20T20:59:05.852703",
     "status": "completed"
    },
    "tags": []
   },
   "outputs": [],
   "source": []
  }
 ],
 "metadata": {
  "kernelspec": {
   "display_name": "Python 3",
   "language": "python",
   "name": "python3"
  },
  "language_info": {
   "codemirror_mode": {
    "name": "ipython",
    "version": 3
   },
   "file_extension": ".py",
   "mimetype": "text/x-python",
   "name": "python",
   "nbconvert_exporter": "python",
   "pygments_lexer": "ipython3",
   "version": "3.7.10"
  },
  "papermill": {
   "default_parameters": {},
   "duration": 32.346589,
   "end_time": "2021-07-20T20:59:06.719786",
   "environment_variables": {},
   "exception": null,
   "input_path": "__notebook__.ipynb",
   "output_path": "__notebook__.ipynb",
   "parameters": {},
   "start_time": "2021-07-20T20:58:34.373197",
   "version": "2.3.3"
  }
 },
 "nbformat": 4,
 "nbformat_minor": 5
}
